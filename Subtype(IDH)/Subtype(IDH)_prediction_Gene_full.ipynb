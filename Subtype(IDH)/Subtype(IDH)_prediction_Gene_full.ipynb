{
 "cells": [
  {
   "cell_type": "markdown",
   "metadata": {},
   "source": [
    "## Association between gene expression and subtype or grade\n",
    "### (Brain Lower Grade Glioma) "
   ]
  },
  {
   "cell_type": "code",
   "execution_count": 1,
   "metadata": {},
   "outputs": [],
   "source": [
    "import numpy as np \n",
    "import pandas as pd \n",
    "import scanpy as sc \n",
    "import matplotlib.pyplot as plt\n",
    "import warnings\n",
    "warnings.filterwarnings(\"ignore\")\n",
    "\n",
    "sc.settings.verbosity = 3 \n",
    "\n",
    "sc.settings.set_figure_params(dpi = 80)\n",
    "%matplotlib inline"
   ]
  },
  {
   "cell_type": "markdown",
   "metadata": {},
   "source": [
    "## Gene Data Preprocessing"
   ]
  },
  {
   "cell_type": "code",
   "execution_count": 176,
   "metadata": {},
   "outputs": [
    {
     "data": {
      "text/html": [
       "<div>\n",
       "<style scoped>\n",
       "    .dataframe tbody tr th:only-of-type {\n",
       "        vertical-align: middle;\n",
       "    }\n",
       "\n",
       "    .dataframe tbody tr th {\n",
       "        vertical-align: top;\n",
       "    }\n",
       "\n",
       "    .dataframe thead th {\n",
       "        text-align: right;\n",
       "    }\n",
       "</style>\n",
       "<table border=\"1\" class=\"dataframe\">\n",
       "  <thead>\n",
       "    <tr style=\"text-align: right;\">\n",
       "      <th></th>\n",
       "      <th>Hugo_Symbol</th>\n",
       "      <th>Entrez_Gene_Id</th>\n",
       "      <th>TCGA-CS-4938-01</th>\n",
       "      <th>TCGA-CS-4941-01</th>\n",
       "      <th>TCGA-CS-4942-01</th>\n",
       "      <th>TCGA-CS-4943-01</th>\n",
       "      <th>TCGA-CS-4944-01</th>\n",
       "      <th>TCGA-CS-5390-01</th>\n",
       "      <th>TCGA-CS-5393-01</th>\n",
       "      <th>TCGA-CS-5394-01</th>\n",
       "      <th>...</th>\n",
       "      <th>TCGA-VW-A8FI-01</th>\n",
       "      <th>TCGA-W9-A837-01</th>\n",
       "      <th>TCGA-WH-A86K-01</th>\n",
       "      <th>TCGA-WY-A858-01</th>\n",
       "      <th>TCGA-WY-A859-01</th>\n",
       "      <th>TCGA-WY-A85A-01</th>\n",
       "      <th>TCGA-WY-A85B-01</th>\n",
       "      <th>TCGA-WY-A85C-01</th>\n",
       "      <th>TCGA-WY-A85D-01</th>\n",
       "      <th>TCGA-WY-A85E-01</th>\n",
       "    </tr>\n",
       "  </thead>\n",
       "  <tbody>\n",
       "    <tr>\n",
       "      <th>0</th>\n",
       "      <td>NaN</td>\n",
       "      <td>100130426</td>\n",
       "      <td>-6.6197</td>\n",
       "      <td>-6.6197</td>\n",
       "      <td>-6.6197</td>\n",
       "      <td>-6.6197</td>\n",
       "      <td>-6.6197</td>\n",
       "      <td>-6.6197</td>\n",
       "      <td>-6.6197</td>\n",
       "      <td>-6.6197</td>\n",
       "      <td>...</td>\n",
       "      <td>-6.6197</td>\n",
       "      <td>-6.6197</td>\n",
       "      <td>-6.6197</td>\n",
       "      <td>-6.6197</td>\n",
       "      <td>-6.6197</td>\n",
       "      <td>-6.6197</td>\n",
       "      <td>-6.6197</td>\n",
       "      <td>-6.6197</td>\n",
       "      <td>-6.6197</td>\n",
       "      <td>-6.6197</td>\n",
       "    </tr>\n",
       "    <tr>\n",
       "      <th>1</th>\n",
       "      <td>NaN</td>\n",
       "      <td>100133144</td>\n",
       "      <td>0.1185</td>\n",
       "      <td>2.0342</td>\n",
       "      <td>0.5116</td>\n",
       "      <td>0.1034</td>\n",
       "      <td>-3.1094</td>\n",
       "      <td>-0.4877</td>\n",
       "      <td>-0.8870</td>\n",
       "      <td>0.0577</td>\n",
       "      <td>...</td>\n",
       "      <td>1.1529</td>\n",
       "      <td>0.5938</td>\n",
       "      <td>0.4161</td>\n",
       "      <td>-0.0182</td>\n",
       "      <td>-1.0264</td>\n",
       "      <td>-0.4623</td>\n",
       "      <td>0.0507</td>\n",
       "      <td>0.4778</td>\n",
       "      <td>-0.4763</td>\n",
       "      <td>0.2876</td>\n",
       "    </tr>\n",
       "    <tr>\n",
       "      <th>2</th>\n",
       "      <td>UBE2Q2P2</td>\n",
       "      <td>100134869</td>\n",
       "      <td>0.8030</td>\n",
       "      <td>0.6853</td>\n",
       "      <td>-0.3650</td>\n",
       "      <td>-1.5341</td>\n",
       "      <td>1.2744</td>\n",
       "      <td>1.1389</td>\n",
       "      <td>-0.7295</td>\n",
       "      <td>0.1724</td>\n",
       "      <td>...</td>\n",
       "      <td>0.7471</td>\n",
       "      <td>1.0861</td>\n",
       "      <td>0.0440</td>\n",
       "      <td>0.2981</td>\n",
       "      <td>-0.4821</td>\n",
       "      <td>0.2481</td>\n",
       "      <td>0.5676</td>\n",
       "      <td>0.4846</td>\n",
       "      <td>-0.6968</td>\n",
       "      <td>-0.9707</td>\n",
       "    </tr>\n",
       "    <tr>\n",
       "      <th>3</th>\n",
       "      <td>HMGB1P1</td>\n",
       "      <td>10357</td>\n",
       "      <td>1.9096</td>\n",
       "      <td>0.2687</td>\n",
       "      <td>0.7763</td>\n",
       "      <td>1.9239</td>\n",
       "      <td>1.2506</td>\n",
       "      <td>0.3278</td>\n",
       "      <td>0.9837</td>\n",
       "      <td>1.1387</td>\n",
       "      <td>...</td>\n",
       "      <td>-0.3517</td>\n",
       "      <td>-0.8943</td>\n",
       "      <td>1.0942</td>\n",
       "      <td>0.7643</td>\n",
       "      <td>-0.4045</td>\n",
       "      <td>-0.4197</td>\n",
       "      <td>-0.2125</td>\n",
       "      <td>-0.5183</td>\n",
       "      <td>-0.8822</td>\n",
       "      <td>-0.0090</td>\n",
       "    </tr>\n",
       "    <tr>\n",
       "      <th>4</th>\n",
       "      <td>NaN</td>\n",
       "      <td>10431</td>\n",
       "      <td>1.1627</td>\n",
       "      <td>-1.7875</td>\n",
       "      <td>-0.0135</td>\n",
       "      <td>1.1169</td>\n",
       "      <td>1.0094</td>\n",
       "      <td>-0.2972</td>\n",
       "      <td>-0.4659</td>\n",
       "      <td>-0.0976</td>\n",
       "      <td>...</td>\n",
       "      <td>-0.3810</td>\n",
       "      <td>-0.1261</td>\n",
       "      <td>-0.3370</td>\n",
       "      <td>0.7580</td>\n",
       "      <td>1.2928</td>\n",
       "      <td>0.2058</td>\n",
       "      <td>0.2314</td>\n",
       "      <td>-0.6588</td>\n",
       "      <td>0.4685</td>\n",
       "      <td>0.6967</td>\n",
       "    </tr>\n",
       "    <tr>\n",
       "      <th>...</th>\n",
       "      <td>...</td>\n",
       "      <td>...</td>\n",
       "      <td>...</td>\n",
       "      <td>...</td>\n",
       "      <td>...</td>\n",
       "      <td>...</td>\n",
       "      <td>...</td>\n",
       "      <td>...</td>\n",
       "      <td>...</td>\n",
       "      <td>...</td>\n",
       "      <td>...</td>\n",
       "      <td>...</td>\n",
       "      <td>...</td>\n",
       "      <td>...</td>\n",
       "      <td>...</td>\n",
       "      <td>...</td>\n",
       "      <td>...</td>\n",
       "      <td>...</td>\n",
       "      <td>...</td>\n",
       "      <td>...</td>\n",
       "      <td>...</td>\n",
       "    </tr>\n",
       "    <tr>\n",
       "      <th>20526</th>\n",
       "      <td>ZYG11A</td>\n",
       "      <td>440590</td>\n",
       "      <td>-1.2143</td>\n",
       "      <td>-0.7410</td>\n",
       "      <td>-0.7399</td>\n",
       "      <td>1.0996</td>\n",
       "      <td>-0.5623</td>\n",
       "      <td>-1.2143</td>\n",
       "      <td>-1.2143</td>\n",
       "      <td>-0.7535</td>\n",
       "      <td>...</td>\n",
       "      <td>0.7317</td>\n",
       "      <td>-1.2143</td>\n",
       "      <td>-1.2143</td>\n",
       "      <td>-0.4660</td>\n",
       "      <td>0.1100</td>\n",
       "      <td>-1.2143</td>\n",
       "      <td>-0.2231</td>\n",
       "      <td>0.9422</td>\n",
       "      <td>-1.2143</td>\n",
       "      <td>1.1519</td>\n",
       "    </tr>\n",
       "    <tr>\n",
       "      <th>20527</th>\n",
       "      <td>ZYG11B</td>\n",
       "      <td>79699</td>\n",
       "      <td>0.4502</td>\n",
       "      <td>0.9028</td>\n",
       "      <td>0.6187</td>\n",
       "      <td>0.9174</td>\n",
       "      <td>-0.1225</td>\n",
       "      <td>-0.5221</td>\n",
       "      <td>0.7301</td>\n",
       "      <td>0.2655</td>\n",
       "      <td>...</td>\n",
       "      <td>-1.3630</td>\n",
       "      <td>0.1147</td>\n",
       "      <td>0.0871</td>\n",
       "      <td>-0.9503</td>\n",
       "      <td>0.8521</td>\n",
       "      <td>0.4425</td>\n",
       "      <td>0.3485</td>\n",
       "      <td>1.0692</td>\n",
       "      <td>-0.1277</td>\n",
       "      <td>0.7383</td>\n",
       "    </tr>\n",
       "    <tr>\n",
       "      <th>20528</th>\n",
       "      <td>ZYX</td>\n",
       "      <td>7791</td>\n",
       "      <td>-0.8102</td>\n",
       "      <td>0.9552</td>\n",
       "      <td>-0.1635</td>\n",
       "      <td>-0.2393</td>\n",
       "      <td>-0.6971</td>\n",
       "      <td>-0.4111</td>\n",
       "      <td>-0.6320</td>\n",
       "      <td>-0.5666</td>\n",
       "      <td>...</td>\n",
       "      <td>2.3670</td>\n",
       "      <td>-1.0349</td>\n",
       "      <td>-0.1840</td>\n",
       "      <td>0.3662</td>\n",
       "      <td>-0.4420</td>\n",
       "      <td>-0.9402</td>\n",
       "      <td>-0.8402</td>\n",
       "      <td>-0.4389</td>\n",
       "      <td>-0.6813</td>\n",
       "      <td>-0.3227</td>\n",
       "    </tr>\n",
       "    <tr>\n",
       "      <th>20529</th>\n",
       "      <td>ZZEF1</td>\n",
       "      <td>23140</td>\n",
       "      <td>-1.2280</td>\n",
       "      <td>0.1514</td>\n",
       "      <td>-0.5145</td>\n",
       "      <td>0.5748</td>\n",
       "      <td>-2.9617</td>\n",
       "      <td>0.8971</td>\n",
       "      <td>0.6922</td>\n",
       "      <td>1.3182</td>\n",
       "      <td>...</td>\n",
       "      <td>-1.7330</td>\n",
       "      <td>0.2662</td>\n",
       "      <td>-0.5119</td>\n",
       "      <td>-0.9516</td>\n",
       "      <td>-0.6513</td>\n",
       "      <td>-0.1893</td>\n",
       "      <td>0.1042</td>\n",
       "      <td>0.7413</td>\n",
       "      <td>-0.5001</td>\n",
       "      <td>-0.4875</td>\n",
       "    </tr>\n",
       "    <tr>\n",
       "      <th>20530</th>\n",
       "      <td>ZZZ3</td>\n",
       "      <td>26009</td>\n",
       "      <td>1.0099</td>\n",
       "      <td>1.5061</td>\n",
       "      <td>0.5814</td>\n",
       "      <td>0.5170</td>\n",
       "      <td>-0.5319</td>\n",
       "      <td>-0.5267</td>\n",
       "      <td>1.0376</td>\n",
       "      <td>-0.7274</td>\n",
       "      <td>...</td>\n",
       "      <td>0.1936</td>\n",
       "      <td>-0.8139</td>\n",
       "      <td>0.2671</td>\n",
       "      <td>-0.4662</td>\n",
       "      <td>-0.2335</td>\n",
       "      <td>0.4236</td>\n",
       "      <td>1.0122</td>\n",
       "      <td>1.2262</td>\n",
       "      <td>0.8035</td>\n",
       "      <td>0.2730</td>\n",
       "    </tr>\n",
       "  </tbody>\n",
       "</table>\n",
       "<p>20531 rows × 516 columns</p>\n",
       "</div>"
      ],
      "text/plain": [
       "      Hugo_Symbol  Entrez_Gene_Id  TCGA-CS-4938-01  TCGA-CS-4941-01  \\\n",
       "0             NaN       100130426          -6.6197          -6.6197   \n",
       "1             NaN       100133144           0.1185           2.0342   \n",
       "2        UBE2Q2P2       100134869           0.8030           0.6853   \n",
       "3         HMGB1P1           10357           1.9096           0.2687   \n",
       "4             NaN           10431           1.1627          -1.7875   \n",
       "...           ...             ...              ...              ...   \n",
       "20526      ZYG11A          440590          -1.2143          -0.7410   \n",
       "20527      ZYG11B           79699           0.4502           0.9028   \n",
       "20528         ZYX            7791          -0.8102           0.9552   \n",
       "20529       ZZEF1           23140          -1.2280           0.1514   \n",
       "20530        ZZZ3           26009           1.0099           1.5061   \n",
       "\n",
       "       TCGA-CS-4942-01  TCGA-CS-4943-01  TCGA-CS-4944-01  TCGA-CS-5390-01  \\\n",
       "0              -6.6197          -6.6197          -6.6197          -6.6197   \n",
       "1               0.5116           0.1034          -3.1094          -0.4877   \n",
       "2              -0.3650          -1.5341           1.2744           1.1389   \n",
       "3               0.7763           1.9239           1.2506           0.3278   \n",
       "4              -0.0135           1.1169           1.0094          -0.2972   \n",
       "...                ...              ...              ...              ...   \n",
       "20526          -0.7399           1.0996          -0.5623          -1.2143   \n",
       "20527           0.6187           0.9174          -0.1225          -0.5221   \n",
       "20528          -0.1635          -0.2393          -0.6971          -0.4111   \n",
       "20529          -0.5145           0.5748          -2.9617           0.8971   \n",
       "20530           0.5814           0.5170          -0.5319          -0.5267   \n",
       "\n",
       "       TCGA-CS-5393-01  TCGA-CS-5394-01  ...  TCGA-VW-A8FI-01  \\\n",
       "0              -6.6197          -6.6197  ...          -6.6197   \n",
       "1              -0.8870           0.0577  ...           1.1529   \n",
       "2              -0.7295           0.1724  ...           0.7471   \n",
       "3               0.9837           1.1387  ...          -0.3517   \n",
       "4              -0.4659          -0.0976  ...          -0.3810   \n",
       "...                ...              ...  ...              ...   \n",
       "20526          -1.2143          -0.7535  ...           0.7317   \n",
       "20527           0.7301           0.2655  ...          -1.3630   \n",
       "20528          -0.6320          -0.5666  ...           2.3670   \n",
       "20529           0.6922           1.3182  ...          -1.7330   \n",
       "20530           1.0376          -0.7274  ...           0.1936   \n",
       "\n",
       "       TCGA-W9-A837-01  TCGA-WH-A86K-01  TCGA-WY-A858-01  TCGA-WY-A859-01  \\\n",
       "0              -6.6197          -6.6197          -6.6197          -6.6197   \n",
       "1               0.5938           0.4161          -0.0182          -1.0264   \n",
       "2               1.0861           0.0440           0.2981          -0.4821   \n",
       "3              -0.8943           1.0942           0.7643          -0.4045   \n",
       "4              -0.1261          -0.3370           0.7580           1.2928   \n",
       "...                ...              ...              ...              ...   \n",
       "20526          -1.2143          -1.2143          -0.4660           0.1100   \n",
       "20527           0.1147           0.0871          -0.9503           0.8521   \n",
       "20528          -1.0349          -0.1840           0.3662          -0.4420   \n",
       "20529           0.2662          -0.5119          -0.9516          -0.6513   \n",
       "20530          -0.8139           0.2671          -0.4662          -0.2335   \n",
       "\n",
       "       TCGA-WY-A85A-01  TCGA-WY-A85B-01  TCGA-WY-A85C-01  TCGA-WY-A85D-01  \\\n",
       "0              -6.6197          -6.6197          -6.6197          -6.6197   \n",
       "1              -0.4623           0.0507           0.4778          -0.4763   \n",
       "2               0.2481           0.5676           0.4846          -0.6968   \n",
       "3              -0.4197          -0.2125          -0.5183          -0.8822   \n",
       "4               0.2058           0.2314          -0.6588           0.4685   \n",
       "...                ...              ...              ...              ...   \n",
       "20526          -1.2143          -0.2231           0.9422          -1.2143   \n",
       "20527           0.4425           0.3485           1.0692          -0.1277   \n",
       "20528          -0.9402          -0.8402          -0.4389          -0.6813   \n",
       "20529          -0.1893           0.1042           0.7413          -0.5001   \n",
       "20530           0.4236           1.0122           1.2262           0.8035   \n",
       "\n",
       "       TCGA-WY-A85E-01  \n",
       "0              -6.6197  \n",
       "1               0.2876  \n",
       "2              -0.9707  \n",
       "3              -0.0090  \n",
       "4               0.6967  \n",
       "...                ...  \n",
       "20526           1.1519  \n",
       "20527           0.7383  \n",
       "20528          -0.3227  \n",
       "20529          -0.4875  \n",
       "20530           0.2730  \n",
       "\n",
       "[20531 rows x 516 columns]"
      ]
     },
     "execution_count": 176,
     "metadata": {},
     "output_type": "execute_result"
    }
   ],
   "source": [
    "# read the gene expression data: \n",
    "raw_data_rna = pd.read_table(\"./data/data_mrna_seq_v2_rsem.txt\", sep=\"\\t\")\n",
    "raw_data_rna.head(3)"
   ]
  },
  {
   "cell_type": "code",
   "execution_count": 177,
   "metadata": {},
   "outputs": [
    {
     "name": "stdout",
     "output_type": "stream",
     "text": [
      "There are 0 genes has no ids\n",
      "we would use Entrez_Gene_Id as name of gene with a correponding dictionary table\n"
     ]
    },
    {
     "data": {
      "text/html": [
       "<div>\n",
       "<style scoped>\n",
       "    .dataframe tbody tr th:only-of-type {\n",
       "        vertical-align: middle;\n",
       "    }\n",
       "\n",
       "    .dataframe tbody tr th {\n",
       "        vertical-align: top;\n",
       "    }\n",
       "\n",
       "    .dataframe thead th {\n",
       "        text-align: right;\n",
       "    }\n",
       "</style>\n",
       "<table border=\"1\" class=\"dataframe\">\n",
       "  <thead>\n",
       "    <tr style=\"text-align: right;\">\n",
       "      <th></th>\n",
       "      <th>Hugo_Symbol</th>\n",
       "      <th>Entrez_Gene_Id</th>\n",
       "    </tr>\n",
       "  </thead>\n",
       "  <tbody>\n",
       "    <tr>\n",
       "      <th>20528</th>\n",
       "      <td>ZYX</td>\n",
       "      <td>7791</td>\n",
       "    </tr>\n",
       "    <tr>\n",
       "      <th>20529</th>\n",
       "      <td>ZZEF1</td>\n",
       "      <td>23140</td>\n",
       "    </tr>\n",
       "    <tr>\n",
       "      <th>20530</th>\n",
       "      <td>ZZZ3</td>\n",
       "      <td>26009</td>\n",
       "    </tr>\n",
       "  </tbody>\n",
       "</table>\n",
       "</div>"
      ],
      "text/plain": [
       "      Hugo_Symbol  Entrez_Gene_Id\n",
       "20528         ZYX            7791\n",
       "20529       ZZEF1           23140\n",
       "20530        ZZZ3           26009"
      ]
     },
     "execution_count": 177,
     "metadata": {},
     "output_type": "execute_result"
    }
   ],
   "source": [
    "# choosing Entrez_Gene_Id as column because: \n",
    "print(f\"There are {len(raw_data_rna[raw_data_rna.Entrez_Gene_Id.isna()])} genes has no ids\")\n",
    "print(\"we would use Entrez_Gene_Id as name of gene with a correponding dictionary table\")\n",
    "gene_symbol_id = raw_data_rna.iloc[:,:2].copy()\n",
    "gene_symbol_id.tail(3)"
   ]
  },
  {
   "cell_type": "code",
   "execution_count": 178,
   "metadata": {},
   "outputs": [
    {
     "name": "stdout",
     "output_type": "stream",
     "text": [
      "There are 514 samples in total, and there are 20531 genes in total.\n"
     ]
    }
   ],
   "source": [
    "# transpose the data and make the gene id as the column names: \n",
    "df_clean = raw_data_rna.set_index(\"Entrez_Gene_Id\").drop(\"Hugo_Symbol\", axis = 1).transpose()\n",
    "print(f\"There are {len(df_clean)} samples in total, and there are {len(df_clean.columns)} genes in total.\")"
   ]
  },
  {
   "cell_type": "code",
   "execution_count": 179,
   "metadata": {},
   "outputs": [
    {
     "name": "stdout",
     "output_type": "stream",
     "text": [
      "If there is NA values: True\n",
      "There are 0 columns with the same value.\n",
      "[]...\n"
     ]
    }
   ],
   "source": [
    "# check the quality of the data: \n",
    "# 1) if there is any NA data\n",
    "print(f\"If there is NA values: {df_clean.isnull().values.any()}\")\n",
    "\n",
    "# 2) if there are columns with all the same value\n",
    "unique_counts = df_clean.nunique()\n",
    "same_value_cols = unique_counts[unique_counts == 1].index.tolist()\n",
    "print(f\"There are {len(same_value_cols)} columns with the same value.\")\n",
    "print(f\"{same_value_cols[0:10]}...\")"
   ]
  },
  {
   "cell_type": "code",
   "execution_count": 20,
   "metadata": {},
   "outputs": [],
   "source": [
    "# thus, we need to drop all of same_value_cols: \n",
    "df_clean_1 = df_clean.drop(same_value_cols, axis = 1)\n",
    "df_clean_1 = df_clean_1.T.drop_duplicates().T\n",
    "df_clean_1.columns = df_clean_1.columns.astype(\"str\")"
   ]
  },
  {
   "cell_type": "code",
   "execution_count": 21,
   "metadata": {},
   "outputs": [
    {
     "data": {
      "text/plain": [
       "20213"
      ]
     },
     "execution_count": 21,
     "metadata": {},
     "output_type": "execute_result"
    }
   ],
   "source": [
    "len(df_clean_1.columns)"
   ]
  },
  {
   "cell_type": "code",
   "execution_count": 22,
   "metadata": {},
   "outputs": [
    {
     "name": "stdout",
     "output_type": "stream",
     "text": [
      "normalizing counts per cell\n",
      "    finished (0:00:00)\n"
     ]
    },
    {
     "data": {
      "image/png": "[encoded data removed]",
      "text/plain": [
       "<Figure size 360x396 with 1 Axes>"
      ]
     },
     "metadata": {
      "needs_background": "light"
     },
     "output_type": "display_data"
    }
   ],
   "source": [
    "adata_gene = sc.AnnData(df_clean_1)\n",
    "sc.pl.highest_expr_genes(adata_gene, n_top=20, )\n",
    "#Show those genes that yield the highest fraction of counts in each single cell, across all cells."
   ]
  },
  {
   "cell_type": "markdown",
   "metadata": {},
   "source": [
    "## Clinical Patient Data Preprocessing"
   ]
  },
  {
   "cell_type": "code",
   "execution_count": 23,
   "metadata": {},
   "outputs": [],
   "source": [
    "## read patient data and preprocessing...\n",
    "raw_data_sample = pd.read_table(\"./data/data_clinical_sample.txt\", sep=\"\\t\")\n",
    "df_sample2 = pd.read_table(\"./supplement_data/Clinical_Data.tsv\", sep=\"\\t\")\n",
    "raw_data_sample.columns = raw_data_sample.iloc[3,:]\n",
    "raw_data_sample = raw_data_sample.drop([0,1,2,3], axis = 0)\n",
    "df_patient = raw_data_sample.reset_index().drop([\"index\"], axis = 1)\n",
    "df_full = df_patient.merge(df_sample2, left_on = \"PATIENT_ID\", right_on = \"Patient ID\", how = \"left\")\n",
    "df_full_1 = df_full.drop(['Patient ID', 'Sample ID','Cancer Type Detailed','Tumor Type', 'Aneuploidy Score'], axis = 1)"
   ]
  },
  {
   "cell_type": "code",
   "execution_count": 24,
   "metadata": {},
   "outputs": [
    {
     "data": {
      "text/html": [
       "<div>\n",
       "<style scoped>\n",
       "    .dataframe tbody tr th:only-of-type {\n",
       "        vertical-align: middle;\n",
       "    }\n",
       "\n",
       "    .dataframe tbody tr th {\n",
       "        vertical-align: top;\n",
       "    }\n",
       "\n",
       "    .dataframe thead th {\n",
       "        text-align: right;\n",
       "    }\n",
       "</style>\n",
       "<table border=\"1\" class=\"dataframe\">\n",
       "  <thead>\n",
       "    <tr style=\"text-align: right;\">\n",
       "      <th></th>\n",
       "      <th>PATIENT_ID</th>\n",
       "      <th>SAMPLE_ID</th>\n",
       "      <th>ONCOTREE_CODE</th>\n",
       "      <th>CANCER_TYPE</th>\n",
       "      <th>CANCER_TYPE_DETAILED</th>\n",
       "      <th>TUMOR_TYPE</th>\n",
       "      <th>GRADE</th>\n",
       "      <th>TISSUE_PROSPECTIVE_COLLECTION_INDICATOR</th>\n",
       "      <th>TISSUE_RETROSPECTIVE_COLLECTION_INDICATOR</th>\n",
       "      <th>TISSUE_SOURCE_SITE_CODE</th>\n",
       "      <th>...</th>\n",
       "      <th>MSI MANTIS Score</th>\n",
       "      <th>MSIsensor Score</th>\n",
       "      <th>Overall Survival Status</th>\n",
       "      <th>Sex</th>\n",
       "      <th>Ethnicity Category</th>\n",
       "      <th>Race Category</th>\n",
       "      <th>Subtype</th>\n",
       "      <th>Birth from Initial Pathologic Diagnosis Date</th>\n",
       "      <th>Buffa Hypoxia Score</th>\n",
       "      <th>Somatic Status</th>\n",
       "    </tr>\n",
       "  </thead>\n",
       "  <tbody>\n",
       "    <tr>\n",
       "      <th>0</th>\n",
       "      <td>TCGA-CS-4938</td>\n",
       "      <td>TCGA-CS-4938-01</td>\n",
       "      <td>DIFG</td>\n",
       "      <td>Glioma</td>\n",
       "      <td>Astrocytoma</td>\n",
       "      <td>Astrocytoma</td>\n",
       "      <td>G2</td>\n",
       "      <td>No</td>\n",
       "      <td>Yes</td>\n",
       "      <td>CS</td>\n",
       "      <td>...</td>\n",
       "      <td>0.3030</td>\n",
       "      <td>0.00</td>\n",
       "      <td>0:LIVING</td>\n",
       "      <td>Female</td>\n",
       "      <td>Not Hispanic Or Latino</td>\n",
       "      <td>White</td>\n",
       "      <td>LGG_IDHmut-non-codel</td>\n",
       "      <td>-11509.0</td>\n",
       "      <td>-27</td>\n",
       "      <td>Matched</td>\n",
       "    </tr>\n",
       "    <tr>\n",
       "      <th>1</th>\n",
       "      <td>TCGA-CS-4941</td>\n",
       "      <td>TCGA-CS-4941-01</td>\n",
       "      <td>DIFG</td>\n",
       "      <td>Glioma</td>\n",
       "      <td>Astrocytoma</td>\n",
       "      <td>Astrocytoma</td>\n",
       "      <td>G3</td>\n",
       "      <td>No</td>\n",
       "      <td>Yes</td>\n",
       "      <td>CS</td>\n",
       "      <td>...</td>\n",
       "      <td>0.2736</td>\n",
       "      <td>0.00</td>\n",
       "      <td>1:DECEASED</td>\n",
       "      <td>Male</td>\n",
       "      <td>Not Hispanic Or Latino</td>\n",
       "      <td>White</td>\n",
       "      <td>LGG_IDHwt</td>\n",
       "      <td>-24578.0</td>\n",
       "      <td>-33</td>\n",
       "      <td>Matched</td>\n",
       "    </tr>\n",
       "    <tr>\n",
       "      <th>2</th>\n",
       "      <td>TCGA-CS-4942</td>\n",
       "      <td>TCGA-CS-4942-01</td>\n",
       "      <td>DIFG</td>\n",
       "      <td>Glioma</td>\n",
       "      <td>Astrocytoma</td>\n",
       "      <td>Astrocytoma</td>\n",
       "      <td>G3</td>\n",
       "      <td>No</td>\n",
       "      <td>Yes</td>\n",
       "      <td>CS</td>\n",
       "      <td>...</td>\n",
       "      <td>0.2810</td>\n",
       "      <td>0.02</td>\n",
       "      <td>1:DECEASED</td>\n",
       "      <td>Female</td>\n",
       "      <td>NaN</td>\n",
       "      <td>Black or African American</td>\n",
       "      <td>LGG_IDHmut-non-codel</td>\n",
       "      <td>-16297.0</td>\n",
       "      <td>-27</td>\n",
       "      <td>Matched</td>\n",
       "    </tr>\n",
       "    <tr>\n",
       "      <th>3</th>\n",
       "      <td>TCGA-CS-4943</td>\n",
       "      <td>TCGA-CS-4943-01</td>\n",
       "      <td>DIFG</td>\n",
       "      <td>Glioma</td>\n",
       "      <td>Astrocytoma</td>\n",
       "      <td>Astrocytoma</td>\n",
       "      <td>G3</td>\n",
       "      <td>No</td>\n",
       "      <td>Yes</td>\n",
       "      <td>CS</td>\n",
       "      <td>...</td>\n",
       "      <td>0.2751</td>\n",
       "      <td>0.25</td>\n",
       "      <td>1:DECEASED</td>\n",
       "      <td>Male</td>\n",
       "      <td>NaN</td>\n",
       "      <td>White</td>\n",
       "      <td>LGG_IDHmut-non-codel</td>\n",
       "      <td>-13565.0</td>\n",
       "      <td>-11</td>\n",
       "      <td>Matched</td>\n",
       "    </tr>\n",
       "    <tr>\n",
       "      <th>4</th>\n",
       "      <td>TCGA-CS-4944</td>\n",
       "      <td>TCGA-CS-4944-01</td>\n",
       "      <td>DIFG</td>\n",
       "      <td>Glioma</td>\n",
       "      <td>Astrocytoma</td>\n",
       "      <td>Astrocytoma</td>\n",
       "      <td>G2</td>\n",
       "      <td>No</td>\n",
       "      <td>Yes</td>\n",
       "      <td>CS</td>\n",
       "      <td>...</td>\n",
       "      <td>0.2697</td>\n",
       "      <td>0.04</td>\n",
       "      <td>0:LIVING</td>\n",
       "      <td>Male</td>\n",
       "      <td>NaN</td>\n",
       "      <td>White</td>\n",
       "      <td>LGG_IDHmut-non-codel</td>\n",
       "      <td>-18494.0</td>\n",
       "      <td>-11</td>\n",
       "      <td>Matched</td>\n",
       "    </tr>\n",
       "    <tr>\n",
       "      <th>...</th>\n",
       "      <td>...</td>\n",
       "      <td>...</td>\n",
       "      <td>...</td>\n",
       "      <td>...</td>\n",
       "      <td>...</td>\n",
       "      <td>...</td>\n",
       "      <td>...</td>\n",
       "      <td>...</td>\n",
       "      <td>...</td>\n",
       "      <td>...</td>\n",
       "      <td>...</td>\n",
       "      <td>...</td>\n",
       "      <td>...</td>\n",
       "      <td>...</td>\n",
       "      <td>...</td>\n",
       "      <td>...</td>\n",
       "      <td>...</td>\n",
       "      <td>...</td>\n",
       "      <td>...</td>\n",
       "      <td>...</td>\n",
       "      <td>...</td>\n",
       "    </tr>\n",
       "    <tr>\n",
       "      <th>509</th>\n",
       "      <td>TCGA-WY-A85B</td>\n",
       "      <td>TCGA-WY-A85B-01</td>\n",
       "      <td>DIFG</td>\n",
       "      <td>Glioma</td>\n",
       "      <td>Astrocytoma</td>\n",
       "      <td>Astrocytoma</td>\n",
       "      <td>G2</td>\n",
       "      <td>No</td>\n",
       "      <td>Yes</td>\n",
       "      <td>WY</td>\n",
       "      <td>...</td>\n",
       "      <td>0.3309</td>\n",
       "      <td>0.03</td>\n",
       "      <td>0:LIVING</td>\n",
       "      <td>Male</td>\n",
       "      <td>NaN</td>\n",
       "      <td>White</td>\n",
       "      <td>LGG_IDHmut-non-codel</td>\n",
       "      <td>-8817.0</td>\n",
       "      <td>-23</td>\n",
       "      <td>Matched</td>\n",
       "    </tr>\n",
       "    <tr>\n",
       "      <th>510</th>\n",
       "      <td>TCGA-WY-A85C</td>\n",
       "      <td>TCGA-WY-A85C-01</td>\n",
       "      <td>DIFG</td>\n",
       "      <td>Glioma</td>\n",
       "      <td>Astrocytoma</td>\n",
       "      <td>Astrocytoma</td>\n",
       "      <td>G2</td>\n",
       "      <td>No</td>\n",
       "      <td>Yes</td>\n",
       "      <td>WY</td>\n",
       "      <td>...</td>\n",
       "      <td>0.3184</td>\n",
       "      <td>0.04</td>\n",
       "      <td>0:LIVING</td>\n",
       "      <td>Male</td>\n",
       "      <td>NaN</td>\n",
       "      <td>White</td>\n",
       "      <td>LGG_IDHmut-non-codel</td>\n",
       "      <td>-13506.0</td>\n",
       "      <td>-23</td>\n",
       "      <td>Matched</td>\n",
       "    </tr>\n",
       "    <tr>\n",
       "      <th>511</th>\n",
       "      <td>TCGA-WY-A85D</td>\n",
       "      <td>TCGA-WY-A85D-01</td>\n",
       "      <td>OAST</td>\n",
       "      <td>Glioma</td>\n",
       "      <td>Oligoastrocytoma</td>\n",
       "      <td>Oligoastrocytoma</td>\n",
       "      <td>G2</td>\n",
       "      <td>No</td>\n",
       "      <td>Yes</td>\n",
       "      <td>WY</td>\n",
       "      <td>...</td>\n",
       "      <td>0.3142</td>\n",
       "      <td>0.00</td>\n",
       "      <td>0:LIVING</td>\n",
       "      <td>Male</td>\n",
       "      <td>NaN</td>\n",
       "      <td>White</td>\n",
       "      <td>LGG_IDHmut-non-codel</td>\n",
       "      <td>-21979.0</td>\n",
       "      <td>-23</td>\n",
       "      <td>Matched</td>\n",
       "    </tr>\n",
       "    <tr>\n",
       "      <th>512</th>\n",
       "      <td>TCGA-WY-A85E</td>\n",
       "      <td>TCGA-WY-A85E-01</td>\n",
       "      <td>OAST</td>\n",
       "      <td>Glioma</td>\n",
       "      <td>Oligoastrocytoma</td>\n",
       "      <td>Oligoastrocytoma</td>\n",
       "      <td>G2</td>\n",
       "      <td>No</td>\n",
       "      <td>Yes</td>\n",
       "      <td>WY</td>\n",
       "      <td>...</td>\n",
       "      <td>0.3171</td>\n",
       "      <td>0.00</td>\n",
       "      <td>0:LIVING</td>\n",
       "      <td>Female</td>\n",
       "      <td>NaN</td>\n",
       "      <td>White</td>\n",
       "      <td>LGG_IDHmut-non-codel</td>\n",
       "      <td>-17878.0</td>\n",
       "      <td>-19</td>\n",
       "      <td>Matched</td>\n",
       "    </tr>\n",
       "    <tr>\n",
       "      <th>513</th>\n",
       "      <td>TCGA-R8-A6YH</td>\n",
       "      <td>TCGA-R8-A6YH-01</td>\n",
       "      <td>LGGNOS</td>\n",
       "      <td>Glioma</td>\n",
       "      <td>Low-Grade Glioma (NOS)</td>\n",
       "      <td>Low-Grade Glioma</td>\n",
       "      <td>NaN</td>\n",
       "      <td>NaN</td>\n",
       "      <td>NaN</td>\n",
       "      <td>R8</td>\n",
       "      <td>...</td>\n",
       "      <td>0.3313</td>\n",
       "      <td>0.11</td>\n",
       "      <td>NaN</td>\n",
       "      <td>NaN</td>\n",
       "      <td>NaN</td>\n",
       "      <td>NaN</td>\n",
       "      <td>LGG_IDHmut-non-codel</td>\n",
       "      <td>NaN</td>\n",
       "      <td>-29</td>\n",
       "      <td>Matched</td>\n",
       "    </tr>\n",
       "  </tbody>\n",
       "</table>\n",
       "<p>514 rows × 31 columns</p>\n",
       "</div>"
      ],
      "text/plain": [
       "       PATIENT_ID        SAMPLE_ID ONCOTREE_CODE CANCER_TYPE  \\\n",
       "0    TCGA-CS-4938  TCGA-CS-4938-01          DIFG      Glioma   \n",
       "1    TCGA-CS-4941  TCGA-CS-4941-01          DIFG      Glioma   \n",
       "2    TCGA-CS-4942  TCGA-CS-4942-01          DIFG      Glioma   \n",
       "3    TCGA-CS-4943  TCGA-CS-4943-01          DIFG      Glioma   \n",
       "4    TCGA-CS-4944  TCGA-CS-4944-01          DIFG      Glioma   \n",
       "..            ...              ...           ...         ...   \n",
       "509  TCGA-WY-A85B  TCGA-WY-A85B-01          DIFG      Glioma   \n",
       "510  TCGA-WY-A85C  TCGA-WY-A85C-01          DIFG      Glioma   \n",
       "511  TCGA-WY-A85D  TCGA-WY-A85D-01          OAST      Glioma   \n",
       "512  TCGA-WY-A85E  TCGA-WY-A85E-01          OAST      Glioma   \n",
       "513  TCGA-R8-A6YH  TCGA-R8-A6YH-01        LGGNOS      Glioma   \n",
       "\n",
       "       CANCER_TYPE_DETAILED        TUMOR_TYPE GRADE  \\\n",
       "0               Astrocytoma       Astrocytoma    G2   \n",
       "1               Astrocytoma       Astrocytoma    G3   \n",
       "2               Astrocytoma       Astrocytoma    G3   \n",
       "3               Astrocytoma       Astrocytoma    G3   \n",
       "4               Astrocytoma       Astrocytoma    G2   \n",
       "..                      ...               ...   ...   \n",
       "509             Astrocytoma       Astrocytoma    G2   \n",
       "510             Astrocytoma       Astrocytoma    G2   \n",
       "511        Oligoastrocytoma  Oligoastrocytoma    G2   \n",
       "512        Oligoastrocytoma  Oligoastrocytoma    G2   \n",
       "513  Low-Grade Glioma (NOS)  Low-Grade Glioma   NaN   \n",
       "\n",
       "    TISSUE_PROSPECTIVE_COLLECTION_INDICATOR  \\\n",
       "0                                        No   \n",
       "1                                        No   \n",
       "2                                        No   \n",
       "3                                        No   \n",
       "4                                        No   \n",
       "..                                      ...   \n",
       "509                                      No   \n",
       "510                                      No   \n",
       "511                                      No   \n",
       "512                                      No   \n",
       "513                                     NaN   \n",
       "\n",
       "    TISSUE_RETROSPECTIVE_COLLECTION_INDICATOR TISSUE_SOURCE_SITE_CODE  ...  \\\n",
       "0                                         Yes                      CS  ...   \n",
       "1                                         Yes                      CS  ...   \n",
       "2                                         Yes                      CS  ...   \n",
       "3                                         Yes                      CS  ...   \n",
       "4                                         Yes                      CS  ...   \n",
       "..                                        ...                     ...  ...   \n",
       "509                                       Yes                      WY  ...   \n",
       "510                                       Yes                      WY  ...   \n",
       "511                                       Yes                      WY  ...   \n",
       "512                                       Yes                      WY  ...   \n",
       "513                                       NaN                      R8  ...   \n",
       "\n",
       "    MSI MANTIS Score MSIsensor Score Overall Survival Status     Sex  \\\n",
       "0             0.3030            0.00                0:LIVING  Female   \n",
       "1             0.2736            0.00              1:DECEASED    Male   \n",
       "2             0.2810            0.02              1:DECEASED  Female   \n",
       "3             0.2751            0.25              1:DECEASED    Male   \n",
       "4             0.2697            0.04                0:LIVING    Male   \n",
       "..               ...             ...                     ...     ...   \n",
       "509           0.3309            0.03                0:LIVING    Male   \n",
       "510           0.3184            0.04                0:LIVING    Male   \n",
       "511           0.3142            0.00                0:LIVING    Male   \n",
       "512           0.3171            0.00                0:LIVING  Female   \n",
       "513           0.3313            0.11                     NaN     NaN   \n",
       "\n",
       "         Ethnicity Category              Race Category               Subtype  \\\n",
       "0    Not Hispanic Or Latino                      White  LGG_IDHmut-non-codel   \n",
       "1    Not Hispanic Or Latino                      White             LGG_IDHwt   \n",
       "2                       NaN  Black or African American  LGG_IDHmut-non-codel   \n",
       "3                       NaN                      White  LGG_IDHmut-non-codel   \n",
       "4                       NaN                      White  LGG_IDHmut-non-codel   \n",
       "..                      ...                        ...                   ...   \n",
       "509                     NaN                      White  LGG_IDHmut-non-codel   \n",
       "510                     NaN                      White  LGG_IDHmut-non-codel   \n",
       "511                     NaN                      White  LGG_IDHmut-non-codel   \n",
       "512                     NaN                      White  LGG_IDHmut-non-codel   \n",
       "513                     NaN                        NaN  LGG_IDHmut-non-codel   \n",
       "\n",
       "    Birth from Initial Pathologic Diagnosis Date  Buffa Hypoxia Score  \\\n",
       "0                                       -11509.0                  -27   \n",
       "1                                       -24578.0                  -33   \n",
       "2                                       -16297.0                  -27   \n",
       "3                                       -13565.0                  -11   \n",
       "4                                       -18494.0                  -11   \n",
       "..                                           ...                  ...   \n",
       "509                                      -8817.0                  -23   \n",
       "510                                     -13506.0                  -23   \n",
       "511                                     -21979.0                  -23   \n",
       "512                                     -17878.0                  -19   \n",
       "513                                          NaN                  -29   \n",
       "\n",
       "     Somatic Status  \n",
       "0           Matched  \n",
       "1           Matched  \n",
       "2           Matched  \n",
       "3           Matched  \n",
       "4           Matched  \n",
       "..              ...  \n",
       "509         Matched  \n",
       "510         Matched  \n",
       "511         Matched  \n",
       "512         Matched  \n",
       "513         Matched  \n",
       "\n",
       "[514 rows x 31 columns]"
      ]
     },
     "execution_count": 24,
     "metadata": {},
     "output_type": "execute_result"
    }
   ],
   "source": [
    "df_full_1"
   ]
  },
  {
   "cell_type": "markdown",
   "metadata": {},
   "source": [
    "## Creating anndata with sample as its obs:"
   ]
  },
  {
   "cell_type": "code",
   "execution_count": 25,
   "metadata": {},
   "outputs": [],
   "source": [
    "df_sample_with_gene = df_clean_1.merge(df_full_1, left_index=True, right_on = \"SAMPLE_ID\")\n",
    "X = df_sample_with_gene.iloc[:,0:-30].copy()\n",
    "X = X.set_index(\"PATIENT_ID\")\n",
    "obs = df_sample_with_gene.iloc[:,-31:].copy()\n",
    "obs = obs.set_index(\"PATIENT_ID\")\n",
    "adata_sample = sc.AnnData(X, obs = obs)"
   ]
  },
  {
   "cell_type": "code",
   "execution_count": 26,
   "metadata": {},
   "outputs": [],
   "source": [
    "X = df_sample_with_gene.iloc[:,0:-30].copy()\n",
    "X = X.set_index(\"PATIENT_ID\")\n",
    "obs = df_sample_with_gene.iloc[:,-31:].copy()\n",
    "obs = obs.set_index(\"PATIENT_ID\")\n",
    "adata_sample = sc.AnnData(X, obs = obs)"
   ]
  },
  {
   "cell_type": "code",
   "execution_count": 27,
   "metadata": {},
   "outputs": [
    {
     "name": "stdout",
     "output_type": "stream",
     "text": [
      "computing PCA\n",
      "    with n_comps=50\n",
      "    finished (0:00:01)\n"
     ]
    }
   ],
   "source": [
    "sc.tl.pca(adata_sample, svd_solver = \"arpack\")"
   ]
  },
  {
   "cell_type": "code",
   "execution_count": 28,
   "metadata": {},
   "outputs": [
    {
     "name": "stdout",
     "output_type": "stream",
     "text": [
      "computing neighbors\n",
      "    using 'X_pca' with n_pcs = 50\n",
      "    finished: added to `.uns['neighbors']`\n",
      "    `.obsp['distances']`, distances for each pair of neighbors\n",
      "    `.obsp['connectivities']`, weighted adjacency matrix (0:00:00)\n",
      "computing UMAP\n",
      "    finished: added\n",
      "    'X_umap', UMAP coordinates (adata.obsm) (0:00:01)\n"
     ]
    },
    {
     "data": {
      "image/png": "[encoded data removed]",
      "text/plain": [
       "<Figure size 432x288 with 1 Axes>"
      ]
     },
     "metadata": {},
     "output_type": "display_data"
    }
   ],
   "source": [
    "sc.pp.neighbors(adata_sample, n_neighbors=5)\n",
    "sc.tl.umap(adata_sample, min_dist=0.3)\n",
    "sc.pl.umap(adata_sample, color = [\"CANCER_TYPE_DETAILED\"])"
   ]
  },
  {
   "cell_type": "code",
   "execution_count": 29,
   "metadata": {},
   "outputs": [
    {
     "data": {
      "image/png": "[encoded data removed]",
      "text/plain": [
       "<Figure size 432x288 with 1 Axes>"
      ]
     },
     "metadata": {},
     "output_type": "display_data"
    }
   ],
   "source": [
    "sc.pl.umap(adata_sample, color = [\"Subtype\"])"
   ]
  },
  {
   "cell_type": "markdown",
   "metadata": {},
   "source": [
    "## TCGA researchers learned about lower grade glioma?\n",
    "\n",
    "Reference: https://www.cancer.gov/about-nci/organization/ccg/research/structural-genomics/tcga/studied-cancers/glioma\n",
    "\n",
    "Mutations and chromosomal alterations define three lower grade glioma subtypes with distinct clinical outcomes: \n",
    "\n",
    "1. IDH mutant and 1p/19q co-deletion:\n",
    "\n",
    "* The 1p/19q abnormality consists of deletion of a short arm of chromosome 1 and longer arm of chromosome 19.\n",
    "\n",
    "* Mutations in IDH1 and IDH2, isocitrate dehydrogenases, lead to abnormal enzyme activity, hypermethylation, and deviant gene expression.\n",
    "\n",
    "* This subtype is associated with the most favorable prognosis.\n",
    "\n",
    "2. IDH mutant without 1p/19q co-deletion, associated with intermediate prognosis\n",
    "\n",
    "\n",
    "\n",
    "3. IDH wild-type, associated with the poorest outcomes\n",
    "\n",
    "IDH wild-type subtype shares genomic markers and similar clinical outcomes with glioblastomas, indicating that this subtype of lower grade glioma may be a precursor to the more aggressive counterpart.\n",
    "\n",
    "\n",
    "Molecular signatures and subtypes may inform the classification, diagnosis, and treatment of lower grade gliomas:\n",
    "\n",
    "* Lower grade gliomas without IDH mutations may benefit from treatment with protocols adapted from current glioblastoma treatments.\n",
    "\n",
    "* Recently developed therapies may target the aberrant activity of IDH1/2 proteins in lower grade glioma.\n"
   ]
  },
  {
   "cell_type": "code",
   "execution_count": 30,
   "metadata": {},
   "outputs": [
    {
     "data": {
      "text/html": [
       "<div>\n",
       "<style scoped>\n",
       "    .dataframe tbody tr th:only-of-type {\n",
       "        vertical-align: middle;\n",
       "    }\n",
       "\n",
       "    .dataframe tbody tr th {\n",
       "        vertical-align: top;\n",
       "    }\n",
       "\n",
       "    .dataframe thead th {\n",
       "        text-align: right;\n",
       "    }\n",
       "</style>\n",
       "<table border=\"1\" class=\"dataframe\">\n",
       "  <thead>\n",
       "    <tr style=\"text-align: right;\">\n",
       "      <th></th>\n",
       "      <th>Hugo_Symbol</th>\n",
       "      <th>Entrez_Gene_Id</th>\n",
       "    </tr>\n",
       "  </thead>\n",
       "  <tbody>\n",
       "    <tr>\n",
       "      <th>8233</th>\n",
       "      <td>IDH1</td>\n",
       "      <td>3417</td>\n",
       "    </tr>\n",
       "    <tr>\n",
       "      <th>8234</th>\n",
       "      <td>IDH2</td>\n",
       "      <td>3418</td>\n",
       "    </tr>\n",
       "  </tbody>\n",
       "</table>\n",
       "</div>"
      ],
      "text/plain": [
       "     Hugo_Symbol  Entrez_Gene_Id\n",
       "8233        IDH1            3417\n",
       "8234        IDH2            3418"
      ]
     },
     "execution_count": 30,
     "metadata": {},
     "output_type": "execute_result"
    }
   ],
   "source": [
    "gene_symbol_id.loc[(gene_symbol_id.Hugo_Symbol == \"IDH1\") | (gene_symbol_id.Hugo_Symbol == \"IDH2\")]"
   ]
  },
  {
   "cell_type": "markdown",
   "metadata": {},
   "source": [
    "## Association between glioma subtype and gene expression? \n",
    "\n",
    "**Summary:**  \n",
    "\n",
    "According to following models, we found that gene expression level would have highly correlation with the subtype of Brain Lower Grade Glioma. We could predict the subtype of BLGG based on the level of expression. "
   ]
  },
  {
   "cell_type": "code",
   "execution_count": 31,
   "metadata": {},
   "outputs": [],
   "source": [
    "# preprocessing the data: encode, drop nan, scale? \n",
    "X= pd.DataFrame(adata_sample.X)\n",
    "X.columns = adata_sample.var_names\n",
    "X.index = adata_sample.obs.index\n",
    "y = adata_sample.obs['Subtype']\n",
    "df = pd.concat([X,y], axis = 1)"
   ]
  },
  {
   "cell_type": "code",
   "execution_count": 33,
   "metadata": {},
   "outputs": [],
   "source": [
    "df_drop = df.drop(df[df.Subtype.isnull()].index, axis = 0)"
   ]
  },
  {
   "cell_type": "code",
   "execution_count": 34,
   "metadata": {},
   "outputs": [],
   "source": [
    "# assign features, target and encoding...\n",
    "y = df_drop[\"Subtype\"]\n",
    "X= df_drop.drop(\"Subtype\", axis = 1)\n",
    "\n",
    "y = y.map({\"LGG_IDHmut-non-codel\":0, \"LGG_IDHwt\":1, \"LGG_IDHmut-codel\":2})"
   ]
  },
  {
   "cell_type": "code",
   "execution_count": 35,
   "metadata": {},
   "outputs": [],
   "source": [
    "from sklearn.model_selection import train_test_split\n",
    "X_train,X_test, y_train, y_test = train_test_split(X,y,random_state = 42)"
   ]
  },
  {
   "cell_type": "code",
   "execution_count": 36,
   "metadata": {},
   "outputs": [
    {
     "name": "stdout",
     "output_type": "stream",
     "text": [
      "There are totally 127 samples in test set.\n"
     ]
    }
   ],
   "source": [
    "print(f\"There are totally {len(X_test)} samples in test set.\")"
   ]
  },
  {
   "cell_type": "code",
   "execution_count": 107,
   "metadata": {},
   "outputs": [
    {
     "name": "stdout",
     "output_type": "stream",
     "text": [
      "              precision    recall  f1-score   support\n",
      "\n",
      "           0       0.97      0.98      0.98        64\n",
      "           1       1.00      0.90      0.95        21\n",
      "           2       0.95      0.98      0.96        42\n",
      "\n",
      "    accuracy                           0.97       127\n",
      "   macro avg       0.97      0.96      0.96       127\n",
      "weighted avg       0.97      0.97      0.97       127\n",
      "\n",
      "Train score 0.9736842105263158 \n",
      "Test Score 0.968503937007874\n"
     ]
    }
   ],
   "source": [
    "from sklearn.linear_model import LogisticRegression\n",
    "clf = LogisticRegression(penalty='l1', multi_class='multinomial', solver='saga')\n",
    "clf.fit(X_train, y_train)\n",
    "\n",
    "# get the model coefficients\n",
    "coefficients = clf.coef_\n",
    "intercept = clf.intercept_\n",
    "y_pred = clf.predict(X_test)\n",
    "from sklearn.metrics import classification_report\n",
    "print(classification_report(y_test,y_pred))\n",
    "print(\"Train score\", clf.score(X_train, y_train), \"\\nTest Score\", clf.score(X_test, y_test))"
   ]
  },
  {
   "cell_type": "markdown",
   "metadata": {},
   "source": [
    "As the number of genes are enormous, while the sample size is always limited, one way to prevent overfitting is to prefilter the number of features (genes)."
   ]
  },
  {
   "cell_type": "code",
   "execution_count": 44,
   "metadata": {},
   "outputs": [],
   "source": [
    "from sklearn.feature_selection import mutual_info_classif\n",
    "# create a dataframe containing mutual information for each feature\n",
    "midf = pd.DataFrame({\n",
    "    \"feature\": X_train.columns.values,\n",
    "    \"mi\": mutual_info_classif(X_train, y_train),\n",
    "}).sort_values(\"mi\", ascending=False)"
   ]
  },
  {
   "cell_type": "code",
   "execution_count": 46,
   "metadata": {},
   "outputs": [
    {
     "data": {
      "text/html": [
       "<div>\n",
       "<style scoped>\n",
       "    .dataframe tbody tr th:only-of-type {\n",
       "        vertical-align: middle;\n",
       "    }\n",
       "\n",
       "    .dataframe tbody tr th {\n",
       "        vertical-align: top;\n",
       "    }\n",
       "\n",
       "    .dataframe thead th {\n",
       "        text-align: right;\n",
       "    }\n",
       "</style>\n",
       "<table border=\"1\" class=\"dataframe\">\n",
       "  <thead>\n",
       "    <tr style=\"text-align: right;\">\n",
       "      <th></th>\n",
       "      <th>feature</th>\n",
       "      <th>mi</th>\n",
       "    </tr>\n",
       "  </thead>\n",
       "  <tbody>\n",
       "    <tr>\n",
       "      <th>6266</th>\n",
       "      <td>54455</td>\n",
       "      <td>0.605651</td>\n",
       "    </tr>\n",
       "    <tr>\n",
       "      <th>15814</th>\n",
       "      <td>6429</td>\n",
       "      <td>0.574282</td>\n",
       "    </tr>\n",
       "    <tr>\n",
       "      <th>10266</th>\n",
       "      <td>10489</td>\n",
       "      <td>0.562355</td>\n",
       "    </tr>\n",
       "    <tr>\n",
       "      <th>18669</th>\n",
       "      <td>200081</td>\n",
       "      <td>0.557290</td>\n",
       "    </tr>\n",
       "    <tr>\n",
       "      <th>14193</th>\n",
       "      <td>5690</td>\n",
       "      <td>0.555381</td>\n",
       "    </tr>\n",
       "  </tbody>\n",
       "</table>\n",
       "</div>"
      ],
      "text/plain": [
       "      feature        mi\n",
       "6266    54455  0.605651\n",
       "15814    6429  0.574282\n",
       "10266   10489  0.562355\n",
       "18669  200081  0.557290\n",
       "14193    5690  0.555381"
      ]
     },
     "execution_count": 46,
     "metadata": {},
     "output_type": "execute_result"
    }
   ],
   "source": [
    "midf.head()"
   ]
  },
  {
   "cell_type": "markdown",
   "metadata": {},
   "source": [
    "With the MI between the target variable and each gene calculated, we will need to set a cutoff in terms of how many genes we would like to use in the model. There are two considerations: first, the training set only have 127 samples in test set, we do not want to use features that's larger than the samples as it tends to lead to overfitting or converging issue. Second, we should observe the distribution of the MIs from highest to lowest, trying to see if there is any sudden drop indicating the there might be a subset if features more informative than the others.\n",
    "\n",
    "Therefore, let's sort the MIs and plot the top 400 to observe if there is such behavior."
   ]
  },
  {
   "cell_type": "code",
   "execution_count": 55,
   "metadata": {},
   "outputs": [
    {
     "data": {
      "text/plain": [
       "[<matplotlib.lines.Line2D at 0x7fedb743be20>]"
      ]
     },
     "execution_count": 55,
     "metadata": {},
     "output_type": "execute_result"
    },
    {
     "data": {
      "image/png": "[encoded data removed]",
      "text/plain": [
       "<Figure size 1080x432 with 1 Axes>"
      ]
     },
     "metadata": {
      "needs_background": "light"
     },
     "output_type": "display_data"
    }
   ],
   "source": [
    "import matplotlib.pyplot as plt\n",
    "import numpy as np\n",
    "f, _ = plt.subplots(figsize = (15, 6))\n",
    "plt.plot(np.arange(400), midf.mi.iloc[:400])"
   ]
  },
  {
   "cell_type": "markdown",
   "metadata": {},
   "source": [
    "The biggest drops happens in around first 25 few features. However selecting < 25 features for ML models will likely lead to suboptimal outcome. we will set cutoff MI >= 0.40:"
   ]
  },
  {
   "cell_type": "code",
   "execution_count": 116,
   "metadata": {},
   "outputs": [
    {
     "data": {
      "text/plain": [
       "113"
      ]
     },
     "execution_count": 116,
     "metadata": {},
     "output_type": "execute_result"
    }
   ],
   "source": [
    "selected_genes = midf.loc[midf.mi >= 0.41, \"feature\"]\n",
    "len(selected_genes)"
   ]
  },
  {
   "cell_type": "code",
   "execution_count": 117,
   "metadata": {},
   "outputs": [
    {
     "name": "stdout",
     "output_type": "stream",
     "text": [
      "              precision    recall  f1-score   support\n",
      "\n",
      "           0       0.95      0.98      0.97        64\n",
      "           1       0.95      0.90      0.93        21\n",
      "           2       1.00      0.98      0.99        42\n",
      "\n",
      "    accuracy                           0.97       127\n",
      "   macro avg       0.97      0.96      0.96       127\n",
      "weighted avg       0.97      0.97      0.97       127\n",
      "\n",
      "Train score 0.9921052631578947 \n",
      "Test Score 0.968503937007874\n"
     ]
    }
   ],
   "source": [
    "from sklearn.linear_model import LogisticRegression\n",
    "clf = LogisticRegression(penalty='l1', multi_class='multinomial', solver='saga')\n",
    "clf.fit(X_train[selected_genes], y_train)\n",
    "\n",
    "# get the model coefficients\n",
    "coefficients = clf.coef_\n",
    "intercept = clf.intercept_\n",
    "y_pred = clf.predict(X_test[selected_genes])\n",
    "from sklearn.metrics import classification_report\n",
    "print(classification_report(y_test,y_pred))\n",
    "print(\"Train score\", clf.score(X_train[selected_genes], y_train), \"\\nTest Score\", clf.score(X_test[selected_genes], y_test))"
   ]
  },
  {
   "cell_type": "code",
   "execution_count": 118,
   "metadata": {},
   "outputs": [
    {
     "data": {
      "text/plain": [
       "0.9921052631578947"
      ]
     },
     "execution_count": 118,
     "metadata": {},
     "output_type": "execute_result"
    }
   ],
   "source": [
    "from sklearn.linear_model import LogisticRegression\n",
    "import numpy as np\n",
    "\n",
    "# set random seed for reproducibility\n",
    "np.random.seed(4060)\n",
    "lr = LogisticRegression(penalty='l1', multi_class='multinomial', solver='saga')\n",
    "lr.fit(X_train[selected_genes], y_train)\n",
    "lr.score(X_train[selected_genes], y_train)"
   ]
  },
  {
   "cell_type": "code",
   "execution_count": 119,
   "metadata": {},
   "outputs": [
    {
     "name": "stdout",
     "output_type": "stream",
     "text": [
      "Train score 0.9921052631578947 \n",
      "Test Score 0.968503937007874\n"
     ]
    }
   ],
   "source": [
    "print(\"Train score\", lr.score(X_train[selected_genes], y_train), \"\\nTest Score\", lr.score(X_test[selected_genes], y_test))"
   ]
  },
  {
   "cell_type": "code",
   "execution_count": 120,
   "metadata": {},
   "outputs": [],
   "source": [
    "# the raw prediction values from predict_proba function are just scores the\n",
    "# model predicted for each class\n",
    "\n",
    "y_pred_score = lr.predict_proba(X_test[selected_genes])\n",
    "\n",
    "# use predict function to directly ask model to output the\n",
    "# predicted class\n",
    "\n",
    "y_pred = lr.predict(X_test[selected_genes])"
   ]
  },
  {
   "cell_type": "code",
   "execution_count": 122,
   "metadata": {},
   "outputs": [
    {
     "data": {
      "text/plain": [
       "{'accuracy': 0.968503937007874,\n",
       " 'balanced_accuracy': 0.955109126984127,\n",
       " 'auroc': 0.9917468279839049,\n",
       " 'f1': 0.9684107068388191}"
      ]
     },
     "execution_count": 122,
     "metadata": {},
     "output_type": "execute_result"
    }
   ],
   "source": [
    "from sklearn.metrics import (accuracy_score, balanced_accuracy_score, \n",
    "                             roc_auc_score, f1_score)\n",
    "def performance_scores(y_true, y_pred_score, y_pred=None):\n",
    "    # find which class has the highest score as its predicted class\n",
    "    if y_pred is None:\n",
    "        y_pred = y_pred_score.argmax(axis=1)\n",
    "        \n",
    "    return {\n",
    "        \"accuracy\": accuracy_score(y_true, y_pred),\n",
    "        \"balanced_accuracy\": balanced_accuracy_score(y_true, y_pred),\n",
    "        \"auroc\": roc_auc_score(y_true, y_pred_score, average=\"weighted\",\n",
    "                               multi_class=\"ovr\"),\n",
    "        \"f1\": f1_score(y_true, y_pred, average=\"weighted\")\n",
    "    }\n",
    "performance_scores(y_test, y_pred_score, y_pred)"
   ]
  },
  {
   "cell_type": "code",
   "execution_count": 123,
   "metadata": {},
   "outputs": [
    {
     "data": {
      "text/plain": [
       "<sklearn.metrics._plot.confusion_matrix.ConfusionMatrixDisplay at 0x7fedb7cf6f40>"
      ]
     },
     "execution_count": 123,
     "metadata": {},
     "output_type": "execute_result"
    },
    {
     "data": {
      "image/png": "[encoded data removed]",
      "text/plain": [
       "<Figure size 432x288 with 2 Axes>"
      ]
     },
     "metadata": {
      "needs_background": "light"
     },
     "output_type": "display_data"
    }
   ],
   "source": [
    "from sklearn.metrics import confusion_matrix, ConfusionMatrixDisplay\n",
    "cm = confusion_matrix(y_test, y_pred)\n",
    "disp = ConfusionMatrixDisplay(cm, display_labels=lr.classes_)\n",
    "disp.plot(cmap=\"Blues\")"
   ]
  },
  {
   "cell_type": "code",
   "execution_count": 146,
   "metadata": {},
   "outputs": [],
   "source": [
    "df_gene_reference = pd.read_table(\"./supplement_data/gene_table.tsv\")\n",
    "df_gene_reference[\"NCBI GeneID\"] = df_gene_reference[\"NCBI GeneID\"].astype(\"str\")"
   ]
  },
  {
   "cell_type": "code",
   "execution_count": 148,
   "metadata": {},
   "outputs": [],
   "source": [
    "df_selected_genes = pd.DataFrame(selected_genes)\n",
    "df_selected_genes = df_selected_genes.merge(df_gene_reference, left_on = \"feature\", right_on = \"NCBI GeneID\", how = \"left\")"
   ]
  },
  {
   "cell_type": "code",
   "execution_count": 167,
   "metadata": {},
   "outputs": [
    {
     "data": {
      "text/html": [
       "<div>\n",
       "<style scoped>\n",
       "    .dataframe tbody tr th:only-of-type {\n",
       "        vertical-align: middle;\n",
       "    }\n",
       "\n",
       "    .dataframe tbody tr th {\n",
       "        vertical-align: top;\n",
       "    }\n",
       "\n",
       "    .dataframe thead th {\n",
       "        text-align: right;\n",
       "    }\n",
       "</style>\n",
       "<table border=\"1\" class=\"dataframe\">\n",
       "  <thead>\n",
       "    <tr style=\"text-align: right;\">\n",
       "      <th></th>\n",
       "      <th>feature</th>\n",
       "      <th>NCBI GeneID</th>\n",
       "      <th>Symbol</th>\n",
       "      <th>Description</th>\n",
       "      <th>Taxonomic Name</th>\n",
       "      <th>Gene Type</th>\n",
       "      <th>Gene Group Identifier</th>\n",
       "      <th>Gene Group Method</th>\n",
       "    </tr>\n",
       "  </thead>\n",
       "  <tbody>\n",
       "    <tr>\n",
       "      <th>64</th>\n",
       "      <td>10630</td>\n",
       "      <td>10630</td>\n",
       "      <td>PDPN</td>\n",
       "      <td>podoplanin</td>\n",
       "      <td>Homo sapiens</td>\n",
       "      <td>PROTEIN_CODING</td>\n",
       "      <td>10630.0</td>\n",
       "      <td>NCBI Ortholog</td>\n",
       "    </tr>\n",
       "  </tbody>\n",
       "</table>\n",
       "</div>"
      ],
      "text/plain": [
       "   feature NCBI GeneID Symbol Description Taxonomic Name       Gene Type  \\\n",
       "64   10630       10630   PDPN  podoplanin   Homo sapiens  PROTEIN_CODING   \n",
       "\n",
       "    Gene Group Identifier Gene Group Method  \n",
       "64                10630.0     NCBI Ortholog  "
      ]
     },
     "execution_count": 167,
     "metadata": {},
     "output_type": "execute_result"
    }
   ],
   "source": [
    "df_selected_genes[df_selected_genes.feature == \"10630\"]"
   ]
  },
  {
   "cell_type": "code",
   "execution_count": 170,
   "metadata": {},
   "outputs": [
    {
     "data": {
      "image/png": "[encoded data removed]",
      "text/plain": [
       "<Figure size 576x684 with 1 Axes>"
      ]
     },
     "metadata": {
      "needs_background": "light"
     },
     "output_type": "display_data"
    }
   ],
   "source": [
    "X_train = X_train[selected_genes]\n",
    "X_test = X_test[selected_genes]\n",
    "\n",
    "explainer = shap.Explainer(lr, X_train, feature_names=X.columns)\n",
    "shap_values = explainer.shap_values(X_test)\n",
    "\n",
    "# get the table for feature_importance\n",
    "vals= np.abs(shap_values).mean(0)\n",
    "feature_importance = pd.DataFrame(list(zip(X_train.columns, sum(vals))), columns=['gene_id','feature_importance_vals'])\n",
    "feature_importance.sort_values(by=['feature_importance_vals'], ascending=False,inplace=True)\n",
    "feature_importance = feature_importance.reset_index(drop=True)\n",
    "\n",
    "# the plot for the data\n",
    "class_names = [\"LGG_IDHmut-non-codel\", \"LGG_IDHwt\", \"LGG_IDHmut-codel\"]\n",
    "shap.summary_plot(shap_values, X_train.values, plot_type=\"bar\", class_names= class_names, feature_names = df_selected_genes.Symbol)"
   ]
  },
  {
   "cell_type": "code",
   "execution_count": 174,
   "metadata": {},
   "outputs": [
    {
     "data": {
      "text/html": [
       "<div>\n",
       "<style scoped>\n",
       "    .dataframe tbody tr th:only-of-type {\n",
       "        vertical-align: middle;\n",
       "    }\n",
       "\n",
       "    .dataframe tbody tr th {\n",
       "        vertical-align: top;\n",
       "    }\n",
       "\n",
       "    .dataframe thead th {\n",
       "        text-align: right;\n",
       "    }\n",
       "</style>\n",
       "<table border=\"1\" class=\"dataframe\">\n",
       "  <thead>\n",
       "    <tr style=\"text-align: right;\">\n",
       "      <th></th>\n",
       "      <th>gene_id</th>\n",
       "      <th>feature_importance_vals</th>\n",
       "      <th>Symbol</th>\n",
       "      <th>Description</th>\n",
       "      <th>Taxonomic Name</th>\n",
       "      <th>Gene Type</th>\n",
       "      <th>Gene Group Identifier</th>\n",
       "      <th>Gene Group Method</th>\n",
       "    </tr>\n",
       "  </thead>\n",
       "  <tbody>\n",
       "    <tr>\n",
       "      <th>0</th>\n",
       "      <td>10630</td>\n",
       "      <td>92.751961</td>\n",
       "      <td>PDPN</td>\n",
       "      <td>podoplanin</td>\n",
       "      <td>Homo sapiens</td>\n",
       "      <td>PROTEIN_CODING</td>\n",
       "      <td>10630.0</td>\n",
       "      <td>NCBI Ortholog</td>\n",
       "    </tr>\n",
       "    <tr>\n",
       "      <th>1</th>\n",
       "      <td>283576</td>\n",
       "      <td>76.093063</td>\n",
       "      <td>ZDHHC22</td>\n",
       "      <td>zinc finger DHHC-type palmitoyltransferase 22</td>\n",
       "      <td>Homo sapiens</td>\n",
       "      <td>PROTEIN_CODING</td>\n",
       "      <td>283576.0</td>\n",
       "      <td>NCBI Ortholog</td>\n",
       "    </tr>\n",
       "    <tr>\n",
       "      <th>2</th>\n",
       "      <td>832</td>\n",
       "      <td>57.873009</td>\n",
       "      <td>CAPZB</td>\n",
       "      <td>capping actin protein of muscle Z-line subunit...</td>\n",
       "      <td>Homo sapiens</td>\n",
       "      <td>PROTEIN_CODING</td>\n",
       "      <td>832.0</td>\n",
       "      <td>NCBI Ortholog</td>\n",
       "    </tr>\n",
       "    <tr>\n",
       "      <th>3</th>\n",
       "      <td>10054</td>\n",
       "      <td>54.095444</td>\n",
       "      <td>UBA2</td>\n",
       "      <td>ubiquitin like modifier activating enzyme 2</td>\n",
       "      <td>Homo sapiens</td>\n",
       "      <td>PROTEIN_CODING</td>\n",
       "      <td>10054.0</td>\n",
       "      <td>NCBI Ortholog</td>\n",
       "    </tr>\n",
       "    <tr>\n",
       "      <th>4</th>\n",
       "      <td>85300</td>\n",
       "      <td>50.798302</td>\n",
       "      <td>ATCAY</td>\n",
       "      <td>ATCAY kinesin light chain interacting caytaxin</td>\n",
       "      <td>Homo sapiens</td>\n",
       "      <td>PROTEIN_CODING</td>\n",
       "      <td>85300.0</td>\n",
       "      <td>NCBI Ortholog</td>\n",
       "    </tr>\n",
       "    <tr>\n",
       "      <th>...</th>\n",
       "      <td>...</td>\n",
       "      <td>...</td>\n",
       "      <td>...</td>\n",
       "      <td>...</td>\n",
       "      <td>...</td>\n",
       "      <td>...</td>\n",
       "      <td>...</td>\n",
       "      <td>...</td>\n",
       "    </tr>\n",
       "    <tr>\n",
       "      <th>108</th>\n",
       "      <td>79871</td>\n",
       "      <td>0.091790</td>\n",
       "      <td>RPAP2</td>\n",
       "      <td>RNA polymerase II associated protein 2</td>\n",
       "      <td>Homo sapiens</td>\n",
       "      <td>PROTEIN_CODING</td>\n",
       "      <td>79871.0</td>\n",
       "      <td>NCBI Ortholog</td>\n",
       "    </tr>\n",
       "    <tr>\n",
       "      <th>109</th>\n",
       "      <td>145837</td>\n",
       "      <td>0.080593</td>\n",
       "      <td>DRAIC</td>\n",
       "      <td>downregulated RNA in cancer, inhibitor of cell...</td>\n",
       "      <td>Homo sapiens</td>\n",
       "      <td>ncRNA</td>\n",
       "      <td>NaN</td>\n",
       "      <td>NaN</td>\n",
       "    </tr>\n",
       "    <tr>\n",
       "      <th>110</th>\n",
       "      <td>4007</td>\n",
       "      <td>0.067834</td>\n",
       "      <td>PRICKLE3</td>\n",
       "      <td>prickle planar cell polarity protein 3</td>\n",
       "      <td>Homo sapiens</td>\n",
       "      <td>PROTEIN_CODING</td>\n",
       "      <td>4007.0</td>\n",
       "      <td>NCBI Ortholog</td>\n",
       "    </tr>\n",
       "    <tr>\n",
       "      <th>111</th>\n",
       "      <td>64802</td>\n",
       "      <td>0.061091</td>\n",
       "      <td>NMNAT1</td>\n",
       "      <td>nicotinamide nucleotide adenylyltransferase 1</td>\n",
       "      <td>Homo sapiens</td>\n",
       "      <td>PROTEIN_CODING</td>\n",
       "      <td>64802.0</td>\n",
       "      <td>NCBI Ortholog</td>\n",
       "    </tr>\n",
       "    <tr>\n",
       "      <th>112</th>\n",
       "      <td>148137</td>\n",
       "      <td>0.048912</td>\n",
       "      <td>PROSER3</td>\n",
       "      <td>proline and serine rich 3</td>\n",
       "      <td>Homo sapiens</td>\n",
       "      <td>PROTEIN_CODING</td>\n",
       "      <td>148137.0</td>\n",
       "      <td>NCBI Ortholog</td>\n",
       "    </tr>\n",
       "  </tbody>\n",
       "</table>\n",
       "<p>113 rows × 8 columns</p>\n",
       "</div>"
      ],
      "text/plain": [
       "    gene_id  feature_importance_vals    Symbol  \\\n",
       "0     10630                92.751961      PDPN   \n",
       "1    283576                76.093063   ZDHHC22   \n",
       "2       832                57.873009     CAPZB   \n",
       "3     10054                54.095444      UBA2   \n",
       "4     85300                50.798302     ATCAY   \n",
       "..      ...                      ...       ...   \n",
       "108   79871                 0.091790     RPAP2   \n",
       "109  145837                 0.080593     DRAIC   \n",
       "110    4007                 0.067834  PRICKLE3   \n",
       "111   64802                 0.061091    NMNAT1   \n",
       "112  148137                 0.048912   PROSER3   \n",
       "\n",
       "                                           Description Taxonomic Name  \\\n",
       "0                                           podoplanin   Homo sapiens   \n",
       "1        zinc finger DHHC-type palmitoyltransferase 22   Homo sapiens   \n",
       "2    capping actin protein of muscle Z-line subunit...   Homo sapiens   \n",
       "3          ubiquitin like modifier activating enzyme 2   Homo sapiens   \n",
       "4       ATCAY kinesin light chain interacting caytaxin   Homo sapiens   \n",
       "..                                                 ...            ...   \n",
       "108             RNA polymerase II associated protein 2   Homo sapiens   \n",
       "109  downregulated RNA in cancer, inhibitor of cell...   Homo sapiens   \n",
       "110             prickle planar cell polarity protein 3   Homo sapiens   \n",
       "111      nicotinamide nucleotide adenylyltransferase 1   Homo sapiens   \n",
       "112                          proline and serine rich 3   Homo sapiens   \n",
       "\n",
       "          Gene Type  Gene Group Identifier Gene Group Method  \n",
       "0    PROTEIN_CODING                10630.0     NCBI Ortholog  \n",
       "1    PROTEIN_CODING               283576.0     NCBI Ortholog  \n",
       "2    PROTEIN_CODING                  832.0     NCBI Ortholog  \n",
       "3    PROTEIN_CODING                10054.0     NCBI Ortholog  \n",
       "4    PROTEIN_CODING                85300.0     NCBI Ortholog  \n",
       "..              ...                    ...               ...  \n",
       "108  PROTEIN_CODING                79871.0     NCBI Ortholog  \n",
       "109           ncRNA                    NaN               NaN  \n",
       "110  PROTEIN_CODING                 4007.0     NCBI Ortholog  \n",
       "111  PROTEIN_CODING                64802.0     NCBI Ortholog  \n",
       "112  PROTEIN_CODING               148137.0     NCBI Ortholog  \n",
       "\n",
       "[113 rows x 8 columns]"
      ]
     },
     "execution_count": 174,
     "metadata": {},
     "output_type": "execute_result"
    }
   ],
   "source": [
    "feature_importance.merge(df_selected_genes, how = \"left\", left_on = \"gene_id\", right_on = \"feature\").drop([\"feature\", \"NCBI GeneID\"], axis = 1)"
   ]
  },
  {
   "cell_type": "markdown",
   "metadata": {},
   "source": [
    "## Gene clustering \n",
    "Compared two SHAP plots, found two models have different features in top rank. There might be some similarities in gene in expression. I am trying to assign genes into different groups as different metagenes with clustering methods and Non-negative Matrix Factorization, and plan to do hypothesis testing for the difference between subtypes for each subtype."
   ]
  },
  {
   "cell_type": "code",
   "execution_count": 30,
   "metadata": {},
   "outputs": [
    {
     "name": "stdout",
     "output_type": "stream",
     "text": [
      "computing PCA\n",
      "    with n_comps=50\n",
      "    finished (0:00:00)\n",
      "computing neighbors\n",
      "    using 'X_pca' with n_pcs = 50\n",
      "    finished: added to `.uns['neighbors']`\n",
      "    `.obsp['distances']`, distances for each pair of neighbors\n",
      "    `.obsp['connectivities']`, weighted adjacency matrix (0:00:17)\n",
      "computing UMAP\n",
      "    finished: added\n",
      "    'X_umap', UMAP coordinates (adata.obsm) (0:00:17)\n",
      "running Leiden clustering\n",
      "    finished: found 21 clusters and added\n",
      "    'leiden', the cluster labels (adata.obs, categorical) (0:00:09)\n"
     ]
    },
    {
     "data": {
      "image/png": "[encoded data removed]",
      "text/plain": [
       "<Figure size 432x288 with 1 Axes>"
      ]
     },
     "metadata": {},
     "output_type": "display_data"
    }
   ],
   "source": [
    "# can I use umap to cluster genes? \n",
    "df_gene = df_clean_1.transpose()\n",
    "adata_gene = sc.AnnData(df_gene)\n",
    "sc.tl.pca(adata_gene, svd_solver='arpack')\n",
    "sc.pp.neighbors(adata_gene, n_neighbors=30, n_pcs=50)\n",
    "sc.tl.umap(adata_gene, min_dist=0.3)\n",
    "sc.tl.leiden(adata_gene)\n",
    "sc.pl.umap(adata_gene, color = \"leiden\")"
   ]
  },
  {
   "cell_type": "code",
   "execution_count": 31,
   "metadata": {},
   "outputs": [
    {
     "data": {
      "text/plain": [
       "leiden\n",
       "0     1933\n",
       "1     1927\n",
       "2     1900\n",
       "3     1844\n",
       "4     1822\n",
       "5     1776\n",
       "6     1591\n",
       "7     1417\n",
       "8     1375\n",
       "9     1083\n",
       "10     972\n",
       "11     568\n",
       "12     402\n",
       "13     387\n",
       "14     305\n",
       "15     256\n",
       "16     217\n",
       "17     202\n",
       "18     116\n",
       "19      92\n",
       "20      39\n",
       "Name: leiden, dtype: int64"
      ]
     },
     "execution_count": 31,
     "metadata": {},
     "output_type": "execute_result"
    }
   ],
   "source": [
    "df_gene_cluster = adata_gene.obs\n",
    "df_gene_cluster.groupby('leiden').leiden.count()"
   ]
  },
  {
   "cell_type": "code",
   "execution_count": 32,
   "metadata": {},
   "outputs": [],
   "source": [
    "## NMF ... \n",
    "## ......."
   ]
  },
  {
   "cell_type": "code",
   "execution_count": 33,
   "metadata": {},
   "outputs": [],
   "source": [
    "## Censensus clustering for gene??"
   ]
  }
 ],
 "metadata": {
  "kernelspec": {
   "display_name": "Python 3",
   "language": "python",
   "name": "python3"
  },
  "language_info": {
   "codemirror_mode": {
    "name": "ipython",
    "version": 3
   },
   "file_extension": ".py",
   "mimetype": "text/x-python",
   "name": "python",
   "nbconvert_exporter": "python",
   "pygments_lexer": "ipython3",
   "version": "3.8.5"
  }
 },
 "nbformat": 4,
 "nbformat_minor": 4
}
