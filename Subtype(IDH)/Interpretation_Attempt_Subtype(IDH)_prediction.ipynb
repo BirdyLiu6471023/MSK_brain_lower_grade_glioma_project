{
 "cells": [
  {
   "cell_type": "markdown",
   "metadata": {},
   "source": [
    "## Interpretation Attempt - Association between gene expression and subtype or grade\n",
    "### (Brain Lower Grade Glioma) \n",
    "\n",
    "This whole analysis showing that we could looking at gene one by one, and we need to assign genes into different groups or clusters. There are totally three methods I could think of that could be taken into considerations.\n",
    "\n",
    "**Method 1: Non-negative matrix factorization**\n",
    "\n",
    "**Method 2: Correlation matrix**\n",
    "\n",
    "**Method 3: NLP**"
   ]
  },
  {
   "cell_type": "code",
   "execution_count": 1,
   "metadata": {},
   "outputs": [],
   "source": [
    "import numpy as np \n",
    "import pandas as pd \n",
    "import scanpy as sc \n",
    "import matplotlib.pyplot as plt\n",
    "import warnings\n",
    "warnings.filterwarnings(\"ignore\")\n",
    "\n",
    "sc.settings.verbosity = 3 \n",
    "\n",
    "sc.settings.set_figure_params(dpi = 80)\n",
    "%matplotlib inline"
   ]
  },
  {
   "cell_type": "markdown",
   "metadata": {},
   "source": [
    "## Gene Data Preprocessing"
   ]
  },
  {
   "cell_type": "code",
   "execution_count": 16,
   "metadata": {},
   "outputs": [
    {
     "data": {
      "text/html": [
       "<div>\n",
       "<style scoped>\n",
       "    .dataframe tbody tr th:only-of-type {\n",
       "        vertical-align: middle;\n",
       "    }\n",
       "\n",
       "    .dataframe tbody tr th {\n",
       "        vertical-align: top;\n",
       "    }\n",
       "\n",
       "    .dataframe thead th {\n",
       "        text-align: right;\n",
       "    }\n",
       "</style>\n",
       "<table border=\"1\" class=\"dataframe\">\n",
       "  <thead>\n",
       "    <tr style=\"text-align: right;\">\n",
       "      <th></th>\n",
       "      <th>Hugo_Symbol</th>\n",
       "      <th>Entrez_Gene_Id</th>\n",
       "      <th>TCGA-CS-4938-01</th>\n",
       "      <th>TCGA-CS-4941-01</th>\n",
       "      <th>TCGA-CS-4942-01</th>\n",
       "      <th>TCGA-CS-4943-01</th>\n",
       "      <th>TCGA-CS-4944-01</th>\n",
       "      <th>TCGA-CS-5390-01</th>\n",
       "      <th>TCGA-CS-5393-01</th>\n",
       "      <th>TCGA-CS-5394-01</th>\n",
       "      <th>...</th>\n",
       "      <th>TCGA-VW-A8FI-01</th>\n",
       "      <th>TCGA-W9-A837-01</th>\n",
       "      <th>TCGA-WH-A86K-01</th>\n",
       "      <th>TCGA-WY-A858-01</th>\n",
       "      <th>TCGA-WY-A859-01</th>\n",
       "      <th>TCGA-WY-A85A-01</th>\n",
       "      <th>TCGA-WY-A85B-01</th>\n",
       "      <th>TCGA-WY-A85C-01</th>\n",
       "      <th>TCGA-WY-A85D-01</th>\n",
       "      <th>TCGA-WY-A85E-01</th>\n",
       "    </tr>\n",
       "  </thead>\n",
       "  <tbody>\n",
       "    <tr>\n",
       "      <th>0</th>\n",
       "      <td>NaN</td>\n",
       "      <td>100130426</td>\n",
       "      <td>0.0000</td>\n",
       "      <td>0.0000</td>\n",
       "      <td>0.0000</td>\n",
       "      <td>0.0000</td>\n",
       "      <td>0.0000</td>\n",
       "      <td>0.0000</td>\n",
       "      <td>0.0000</td>\n",
       "      <td>0.0000</td>\n",
       "      <td>...</td>\n",
       "      <td>0.0000</td>\n",
       "      <td>0.0000</td>\n",
       "      <td>0.0000</td>\n",
       "      <td>0.0000</td>\n",
       "      <td>0.0000</td>\n",
       "      <td>0.0000</td>\n",
       "      <td>0.0000</td>\n",
       "      <td>0.0000</td>\n",
       "      <td>0.0000</td>\n",
       "      <td>0.0000</td>\n",
       "    </tr>\n",
       "    <tr>\n",
       "      <th>1</th>\n",
       "      <td>NaN</td>\n",
       "      <td>100133144</td>\n",
       "      <td>8.7141</td>\n",
       "      <td>36.4493</td>\n",
       "      <td>11.8131</td>\n",
       "      <td>8.6116</td>\n",
       "      <td>0.0000</td>\n",
       "      <td>5.3382</td>\n",
       "      <td>3.7845</td>\n",
       "      <td>8.3071</td>\n",
       "      <td>...</td>\n",
       "      <td>19.1299</td>\n",
       "      <td>12.5770</td>\n",
       "      <td>10.9796</td>\n",
       "      <td>7.8225</td>\n",
       "      <td>3.3371</td>\n",
       "      <td>5.4526</td>\n",
       "      <td>8.2616</td>\n",
       "      <td>11.5121</td>\n",
       "      <td>5.3895</td>\n",
       "      <td>9.9433</td>\n",
       "    </tr>\n",
       "    <tr>\n",
       "      <th>2</th>\n",
       "      <td>UBE2Q2P2</td>\n",
       "      <td>100134869</td>\n",
       "      <td>22.7523</td>\n",
       "      <td>21.1767</td>\n",
       "      <td>11.0242</td>\n",
       "      <td>5.0835</td>\n",
       "      <td>30.2610</td>\n",
       "      <td>27.8886</td>\n",
       "      <td>8.7230</td>\n",
       "      <td>15.4466</td>\n",
       "      <td>...</td>\n",
       "      <td>21.9905</td>\n",
       "      <td>27.0125</td>\n",
       "      <td>14.2608</td>\n",
       "      <td>16.6975</td>\n",
       "      <td>10.2310</td>\n",
       "      <td>16.1890</td>\n",
       "      <td>19.7074</td>\n",
       "      <td>18.7291</td>\n",
       "      <td>8.9103</td>\n",
       "      <td>7.4480</td>\n",
       "    </tr>\n",
       "    <tr>\n",
       "      <th>3</th>\n",
       "      <td>HMGB1P1</td>\n",
       "      <td>10357</td>\n",
       "      <td>268.5760</td>\n",
       "      <td>156.6870</td>\n",
       "      <td>185.1380</td>\n",
       "      <td>269.8360</td>\n",
       "      <td>216.3410</td>\n",
       "      <td>159.7590</td>\n",
       "      <td>198.1880</td>\n",
       "      <td>208.5410</td>\n",
       "      <td>...</td>\n",
       "      <td>127.7470</td>\n",
       "      <td>106.8290</td>\n",
       "      <td>205.5170</td>\n",
       "      <td>184.4080</td>\n",
       "      <td>125.5470</td>\n",
       "      <td>124.9190</td>\n",
       "      <td>133.7390</td>\n",
       "      <td>120.9240</td>\n",
       "      <td>107.2540</td>\n",
       "      <td>143.0060</td>\n",
       "    </tr>\n",
       "    <tr>\n",
       "      <th>4</th>\n",
       "      <td>NaN</td>\n",
       "      <td>10431</td>\n",
       "      <td>845.8150</td>\n",
       "      <td>390.2690</td>\n",
       "      <td>621.4530</td>\n",
       "      <td>835.7290</td>\n",
       "      <td>812.5080</td>\n",
       "      <td>576.9050</td>\n",
       "      <td>551.9470</td>\n",
       "      <td>607.8960</td>\n",
       "      <td>...</td>\n",
       "      <td>564.3620</td>\n",
       "      <td>603.3720</td>\n",
       "      <td>570.9130</td>\n",
       "      <td>760.7160</td>\n",
       "      <td>875.1410</td>\n",
       "      <td>658.2210</td>\n",
       "      <td>662.6510</td>\n",
       "      <td>524.7240</td>\n",
       "      <td>705.1280</td>\n",
       "      <td>748.5820</td>\n",
       "    </tr>\n",
       "    <tr>\n",
       "      <th>...</th>\n",
       "      <td>...</td>\n",
       "      <td>...</td>\n",
       "      <td>...</td>\n",
       "      <td>...</td>\n",
       "      <td>...</td>\n",
       "      <td>...</td>\n",
       "      <td>...</td>\n",
       "      <td>...</td>\n",
       "      <td>...</td>\n",
       "      <td>...</td>\n",
       "      <td>...</td>\n",
       "      <td>...</td>\n",
       "      <td>...</td>\n",
       "      <td>...</td>\n",
       "      <td>...</td>\n",
       "      <td>...</td>\n",
       "      <td>...</td>\n",
       "      <td>...</td>\n",
       "      <td>...</td>\n",
       "      <td>...</td>\n",
       "      <td>...</td>\n",
       "    </tr>\n",
       "    <tr>\n",
       "      <th>20526</th>\n",
       "      <td>ZYG11A</td>\n",
       "      <td>440590</td>\n",
       "      <td>0.0000</td>\n",
       "      <td>0.3451</td>\n",
       "      <td>0.3460</td>\n",
       "      <td>3.2607</td>\n",
       "      <td>0.5044</td>\n",
       "      <td>0.0000</td>\n",
       "      <td>0.0000</td>\n",
       "      <td>0.3346</td>\n",
       "      <td>...</td>\n",
       "      <td>2.3838</td>\n",
       "      <td>0.0000</td>\n",
       "      <td>0.0000</td>\n",
       "      <td>0.5980</td>\n",
       "      <td>1.2922</td>\n",
       "      <td>0.0000</td>\n",
       "      <td>0.8606</td>\n",
       "      <td>2.8606</td>\n",
       "      <td>0.0000</td>\n",
       "      <td>3.4026</td>\n",
       "    </tr>\n",
       "    <tr>\n",
       "      <th>20527</th>\n",
       "      <td>ZYG11B</td>\n",
       "      <td>79699</td>\n",
       "      <td>1495.7000</td>\n",
       "      <td>1751.2100</td>\n",
       "      <td>1586.1600</td>\n",
       "      <td>1760.1500</td>\n",
       "      <td>1225.0700</td>\n",
       "      <td>1065.8100</td>\n",
       "      <td>1648.9800</td>\n",
       "      <td>1402.4800</td>\n",
       "      <td>...</td>\n",
       "      <td>794.9940</td>\n",
       "      <td>1330.6500</td>\n",
       "      <td>1317.9100</td>\n",
       "      <td>918.0020</td>\n",
       "      <td>1720.5600</td>\n",
       "      <td>1491.6900</td>\n",
       "      <td>1443.6300</td>\n",
       "      <td>1855.7400</td>\n",
       "      <td>1222.8800</td>\n",
       "      <td>1653.6900</td>\n",
       "    </tr>\n",
       "    <tr>\n",
       "      <th>20528</th>\n",
       "      <td>ZYX</td>\n",
       "      <td>7791</td>\n",
       "      <td>1598.9100</td>\n",
       "      <td>3889.9200</td>\n",
       "      <td>2214.5300</td>\n",
       "      <td>2131.5500</td>\n",
       "      <td>1692.6000</td>\n",
       "      <td>1954.9100</td>\n",
       "      <td>1749.0400</td>\n",
       "      <td>1807.6300</td>\n",
       "      <td>...</td>\n",
       "      <td>7918.9500</td>\n",
       "      <td>1427.7900</td>\n",
       "      <td>2191.7100</td>\n",
       "      <td>2891.5600</td>\n",
       "      <td>1924.7300</td>\n",
       "      <td>1497.4900</td>\n",
       "      <td>1574.8700</td>\n",
       "      <td>1927.6700</td>\n",
       "      <td>1706.1100</td>\n",
       "      <td>2043.8600</td>\n",
       "    </tr>\n",
       "    <tr>\n",
       "      <th>20529</th>\n",
       "      <td>ZZEF1</td>\n",
       "      <td>23140</td>\n",
       "      <td>1171.8100</td>\n",
       "      <td>1707.7300</td>\n",
       "      <td>1423.8800</td>\n",
       "      <td>1916.9900</td>\n",
       "      <td>729.7940</td>\n",
       "      <td>2093.2900</td>\n",
       "      <td>1979.4200</td>\n",
       "      <td>2348.2800</td>\n",
       "      <td>...</td>\n",
       "      <td>1020.8600</td>\n",
       "      <td>1762.1000</td>\n",
       "      <td>1424.8800</td>\n",
       "      <td>1263.6700</td>\n",
       "      <td>1371.6700</td>\n",
       "      <td>1556.0800</td>\n",
       "      <td>1685.8900</td>\n",
       "      <td>2006.1300</td>\n",
       "      <td>1429.4900</td>\n",
       "      <td>1434.4000</td>\n",
       "    </tr>\n",
       "    <tr>\n",
       "      <th>20530</th>\n",
       "      <td>ZZZ3</td>\n",
       "      <td>26009</td>\n",
       "      <td>836.1650</td>\n",
       "      <td>1015.5300</td>\n",
       "      <td>706.9200</td>\n",
       "      <td>689.3210</td>\n",
       "      <td>456.9410</td>\n",
       "      <td>457.8730</td>\n",
       "      <td>845.2690</td>\n",
       "      <td>423.2190</td>\n",
       "      <td>...</td>\n",
       "      <td>607.2710</td>\n",
       "      <td>409.0910</td>\n",
       "      <td>625.0000</td>\n",
       "      <td>468.8690</td>\n",
       "      <td>513.6490</td>\n",
       "      <td>664.5550</td>\n",
       "      <td>836.9190</td>\n",
       "      <td>910.0940</td>\n",
       "      <td>771.2030</td>\n",
       "      <td>626.4650</td>\n",
       "    </tr>\n",
       "  </tbody>\n",
       "</table>\n",
       "<p>20531 rows × 516 columns</p>\n",
       "</div>"
      ],
      "text/plain": [
       "      Hugo_Symbol  Entrez_Gene_Id  TCGA-CS-4938-01  TCGA-CS-4941-01  \\\n",
       "0             NaN       100130426           0.0000           0.0000   \n",
       "1             NaN       100133144           8.7141          36.4493   \n",
       "2        UBE2Q2P2       100134869          22.7523          21.1767   \n",
       "3         HMGB1P1           10357         268.5760         156.6870   \n",
       "4             NaN           10431         845.8150         390.2690   \n",
       "...           ...             ...              ...              ...   \n",
       "20526      ZYG11A          440590           0.0000           0.3451   \n",
       "20527      ZYG11B           79699        1495.7000        1751.2100   \n",
       "20528         ZYX            7791        1598.9100        3889.9200   \n",
       "20529       ZZEF1           23140        1171.8100        1707.7300   \n",
       "20530        ZZZ3           26009         836.1650        1015.5300   \n",
       "\n",
       "       TCGA-CS-4942-01  TCGA-CS-4943-01  TCGA-CS-4944-01  TCGA-CS-5390-01  \\\n",
       "0               0.0000           0.0000           0.0000           0.0000   \n",
       "1              11.8131           8.6116           0.0000           5.3382   \n",
       "2              11.0242           5.0835          30.2610          27.8886   \n",
       "3             185.1380         269.8360         216.3410         159.7590   \n",
       "4             621.4530         835.7290         812.5080         576.9050   \n",
       "...                ...              ...              ...              ...   \n",
       "20526           0.3460           3.2607           0.5044           0.0000   \n",
       "20527        1586.1600        1760.1500        1225.0700        1065.8100   \n",
       "20528        2214.5300        2131.5500        1692.6000        1954.9100   \n",
       "20529        1423.8800        1916.9900         729.7940        2093.2900   \n",
       "20530         706.9200         689.3210         456.9410         457.8730   \n",
       "\n",
       "       TCGA-CS-5393-01  TCGA-CS-5394-01  ...  TCGA-VW-A8FI-01  \\\n",
       "0               0.0000           0.0000  ...           0.0000   \n",
       "1               3.7845           8.3071  ...          19.1299   \n",
       "2               8.7230          15.4466  ...          21.9905   \n",
       "3             198.1880         208.5410  ...         127.7470   \n",
       "4             551.9470         607.8960  ...         564.3620   \n",
       "...                ...              ...  ...              ...   \n",
       "20526           0.0000           0.3346  ...           2.3838   \n",
       "20527        1648.9800        1402.4800  ...         794.9940   \n",
       "20528        1749.0400        1807.6300  ...        7918.9500   \n",
       "20529        1979.4200        2348.2800  ...        1020.8600   \n",
       "20530         845.2690         423.2190  ...         607.2710   \n",
       "\n",
       "       TCGA-W9-A837-01  TCGA-WH-A86K-01  TCGA-WY-A858-01  TCGA-WY-A859-01  \\\n",
       "0               0.0000           0.0000           0.0000           0.0000   \n",
       "1              12.5770          10.9796           7.8225           3.3371   \n",
       "2              27.0125          14.2608          16.6975          10.2310   \n",
       "3             106.8290         205.5170         184.4080         125.5470   \n",
       "4             603.3720         570.9130         760.7160         875.1410   \n",
       "...                ...              ...              ...              ...   \n",
       "20526           0.0000           0.0000           0.5980           1.2922   \n",
       "20527        1330.6500        1317.9100         918.0020        1720.5600   \n",
       "20528        1427.7900        2191.7100        2891.5600        1924.7300   \n",
       "20529        1762.1000        1424.8800        1263.6700        1371.6700   \n",
       "20530         409.0910         625.0000         468.8690         513.6490   \n",
       "\n",
       "       TCGA-WY-A85A-01  TCGA-WY-A85B-01  TCGA-WY-A85C-01  TCGA-WY-A85D-01  \\\n",
       "0               0.0000           0.0000           0.0000           0.0000   \n",
       "1               5.4526           8.2616          11.5121           5.3895   \n",
       "2              16.1890          19.7074          18.7291           8.9103   \n",
       "3             124.9190         133.7390         120.9240         107.2540   \n",
       "4             658.2210         662.6510         524.7240         705.1280   \n",
       "...                ...              ...              ...              ...   \n",
       "20526           0.0000           0.8606           2.8606           0.0000   \n",
       "20527        1491.6900        1443.6300        1855.7400        1222.8800   \n",
       "20528        1497.4900        1574.8700        1927.6700        1706.1100   \n",
       "20529        1556.0800        1685.8900        2006.1300        1429.4900   \n",
       "20530         664.5550         836.9190         910.0940         771.2030   \n",
       "\n",
       "       TCGA-WY-A85E-01  \n",
       "0               0.0000  \n",
       "1               9.9433  \n",
       "2               7.4480  \n",
       "3             143.0060  \n",
       "4             748.5820  \n",
       "...                ...  \n",
       "20526           3.4026  \n",
       "20527        1653.6900  \n",
       "20528        2043.8600  \n",
       "20529        1434.4000  \n",
       "20530         626.4650  \n",
       "\n",
       "[20531 rows x 516 columns]"
      ]
     },
     "execution_count": 16,
     "metadata": {},
     "output_type": "execute_result"
    }
   ],
   "source": [
    "# read the gene expression data: \n",
    "raw_data_rna = pd.read_table(\"./data/data_mrna_seq_v2_rsem.txt\", sep=\"\\t\")\n",
    "raw_data_rna"
   ]
  },
  {
   "cell_type": "code",
   "execution_count": 3,
   "metadata": {},
   "outputs": [
    {
     "name": "stdout",
     "output_type": "stream",
     "text": [
      "There are 0 genes has no ids\n",
      "we would use Entrez_Gene_Id as name of gene with a correponding dictionary table\n"
     ]
    },
    {
     "data": {
      "text/html": [
       "<div>\n",
       "<style scoped>\n",
       "    .dataframe tbody tr th:only-of-type {\n",
       "        vertical-align: middle;\n",
       "    }\n",
       "\n",
       "    .dataframe tbody tr th {\n",
       "        vertical-align: top;\n",
       "    }\n",
       "\n",
       "    .dataframe thead th {\n",
       "        text-align: right;\n",
       "    }\n",
       "</style>\n",
       "<table border=\"1\" class=\"dataframe\">\n",
       "  <thead>\n",
       "    <tr style=\"text-align: right;\">\n",
       "      <th></th>\n",
       "      <th>Hugo_Symbol</th>\n",
       "      <th>Entrez_Gene_Id</th>\n",
       "    </tr>\n",
       "  </thead>\n",
       "  <tbody>\n",
       "    <tr>\n",
       "      <th>20528</th>\n",
       "      <td>ZYX</td>\n",
       "      <td>7791</td>\n",
       "    </tr>\n",
       "    <tr>\n",
       "      <th>20529</th>\n",
       "      <td>ZZEF1</td>\n",
       "      <td>23140</td>\n",
       "    </tr>\n",
       "    <tr>\n",
       "      <th>20530</th>\n",
       "      <td>ZZZ3</td>\n",
       "      <td>26009</td>\n",
       "    </tr>\n",
       "  </tbody>\n",
       "</table>\n",
       "</div>"
      ],
      "text/plain": [
       "      Hugo_Symbol  Entrez_Gene_Id\n",
       "20528         ZYX            7791\n",
       "20529       ZZEF1           23140\n",
       "20530        ZZZ3           26009"
      ]
     },
     "execution_count": 3,
     "metadata": {},
     "output_type": "execute_result"
    }
   ],
   "source": [
    "# choosing Entrez_Gene_Id as column because: \n",
    "print(f\"There are {len(raw_data_rna[raw_data_rna.Entrez_Gene_Id.isna()])} genes has no ids\")\n",
    "print(\"we would use Entrez_Gene_Id as name of gene with a correponding dictionary table\")\n",
    "gene_symbol_id = raw_data_rna.iloc[:,:2].copy()\n",
    "gene_symbol_id.tail(3)"
   ]
  },
  {
   "cell_type": "code",
   "execution_count": 4,
   "metadata": {},
   "outputs": [
    {
     "name": "stdout",
     "output_type": "stream",
     "text": [
      "There are 514 samples in total, and there are 20531 genes in total.\n"
     ]
    }
   ],
   "source": [
    "# transpose the data and make the gene id as the column names: \n",
    "df_clean = raw_data_rna.set_index(\"Entrez_Gene_Id\").drop(\"Hugo_Symbol\", axis = 1).transpose()\n",
    "print(f\"There are {len(df_clean)} samples in total, and there are {len(df_clean.columns)} genes in total.\")"
   ]
  },
  {
   "cell_type": "code",
   "execution_count": 5,
   "metadata": {},
   "outputs": [
    {
     "name": "stdout",
     "output_type": "stream",
     "text": [
      "If there is NA values: False\n",
      "There are 307 columns with the same value.\n",
      "[136542, 317712, 728045, 728036, 255313, 728096, 728062, 653282, 728042, 57135]...\n"
     ]
    }
   ],
   "source": [
    "# check the quality of the data: \n",
    "# 1) if there is any NA data\n",
    "print(f\"If there is NA values: {df_clean.isnull().values.any()}\")\n",
    "\n",
    "# 2) if there are columns with all the same value\n",
    "unique_counts = df_clean.nunique()\n",
    "same_value_cols = unique_counts[unique_counts == 1].index.tolist()\n",
    "print(f\"There are {len(same_value_cols)} columns with the same value.\")\n",
    "print(f\"{same_value_cols[0:10]}...\")"
   ]
  },
  {
   "cell_type": "code",
   "execution_count": 6,
   "metadata": {},
   "outputs": [],
   "source": [
    "# thus, we need to drop all of same_value_cols: \n",
    "df_clean_1 = df_clean.drop(same_value_cols, axis = 1)"
   ]
  },
  {
   "cell_type": "markdown",
   "metadata": {},
   "source": [
    "## Clinical Patient Data Preprocessing"
   ]
  },
  {
   "cell_type": "code",
   "execution_count": 7,
   "metadata": {},
   "outputs": [],
   "source": [
    "## read patient data and preprocessing...\n",
    "raw_data_sample = pd.read_table(\"./data/data_clinical_sample.txt\", sep=\"\\t\")\n",
    "df_sample2 = pd.read_table(\"./supplement_data/Clinical_Data.tsv\", sep=\"\\t\")\n",
    "raw_data_sample.columns = raw_data_sample.iloc[3,:]\n",
    "raw_data_sample = raw_data_sample.drop([0,1,2,3], axis = 0)\n",
    "df_patient = raw_data_sample.reset_index().drop([\"index\"], axis = 1)\n",
    "df_full = df_patient.merge(df_sample2, left_on = \"PATIENT_ID\", right_on = \"Patient ID\", how = \"left\")\n",
    "df_full_1 = df_full.drop(['Patient ID', 'Sample ID','Cancer Type Detailed','Tumor Type', 'Aneuploidy Score'], axis = 1)"
   ]
  },
  {
   "cell_type": "markdown",
   "metadata": {},
   "source": [
    "## Creating anndata with sample as its obs:"
   ]
  },
  {
   "cell_type": "code",
   "execution_count": 8,
   "metadata": {},
   "outputs": [],
   "source": [
    "df_sample_with_gene = df_clean_1.merge(df_full_1, left_index=True, right_on = \"SAMPLE_ID\")\n",
    "X = df_sample_with_gene.iloc[:,0:-30].copy()\n",
    "X = X.set_index(\"PATIENT_ID\")\n",
    "obs = df_sample_with_gene.iloc[:,-31:].copy()\n",
    "obs = obs.set_index(\"PATIENT_ID\")\n",
    "adata_sample = sc.AnnData(X, obs = obs)"
   ]
  },
  {
   "cell_type": "code",
   "execution_count": 9,
   "metadata": {},
   "outputs": [],
   "source": [
    "X = df_sample_with_gene.iloc[:,0:-30].copy()\n",
    "X = X.set_index(\"PATIENT_ID\")\n",
    "obs = df_sample_with_gene.iloc[:,-31:].copy()\n",
    "obs = obs.set_index(\"PATIENT_ID\")\n",
    "adata_sample = sc.AnnData(X, obs = obs)"
   ]
  },
  {
   "cell_type": "code",
   "execution_count": 10,
   "metadata": {},
   "outputs": [],
   "source": [
    "X_1 = X.iloc[:,0:10]"
   ]
  },
  {
   "cell_type": "markdown",
   "metadata": {},
   "source": [
    "## TCGA researchers learned about lower grade glioma?\n",
    "\n",
    "Reference: https://www.cancer.gov/about-nci/organization/ccg/research/structural-genomics/tcga/studied-cancers/glioma\n",
    "\n",
    "Mutations and chromosomal alterations define three lower grade glioma subtypes with distinct clinical outcomes: \n",
    "\n",
    "1. IDH mutant and 1p/19q co-deletion:\n",
    "\n",
    "* The 1p/19q abnormality consists of deletion of a short arm of chromosome 1 and longer arm of chromosome 19.\n",
    "\n",
    "* Mutations in IDH1 and IDH2, isocitrate dehydrogenases, lead to abnormal enzyme activity, hypermethylation, and deviant gene expression.\n",
    "\n",
    "* This subtype is associated with the most favorable prognosis.\n",
    "\n",
    "2. IDH mutant without 1p/19q co-deletion, associated with intermediate prognosis\n",
    "\n",
    "\n",
    "\n",
    "3. IDH wild-type, associated with the poorest outcomes\n",
    "\n",
    "IDH wild-type subtype shares genomic markers and similar clinical outcomes with glioblastomas, indicating that this subtype of lower grade glioma may be a precursor to the more aggressive counterpart.\n",
    "\n",
    "\n",
    "Molecular signatures and subtypes may inform the classification, diagnosis, and treatment of lower grade gliomas:\n",
    "\n",
    "* Lower grade gliomas without IDH mutations may benefit from treatment with protocols adapted from current glioblastoma treatments.\n",
    "\n",
    "* Recently developed therapies may target the aberrant activity of IDH1/2 proteins in lower grade glioma.\n"
   ]
  },
  {
   "cell_type": "code",
   "execution_count": 10,
   "metadata": {},
   "outputs": [
    {
     "data": {
      "text/html": [
       "<div>\n",
       "<style scoped>\n",
       "    .dataframe tbody tr th:only-of-type {\n",
       "        vertical-align: middle;\n",
       "    }\n",
       "\n",
       "    .dataframe tbody tr th {\n",
       "        vertical-align: top;\n",
       "    }\n",
       "\n",
       "    .dataframe thead th {\n",
       "        text-align: right;\n",
       "    }\n",
       "</style>\n",
       "<table border=\"1\" class=\"dataframe\">\n",
       "  <thead>\n",
       "    <tr style=\"text-align: right;\">\n",
       "      <th></th>\n",
       "      <th>Hugo_Symbol</th>\n",
       "      <th>Entrez_Gene_Id</th>\n",
       "    </tr>\n",
       "  </thead>\n",
       "  <tbody>\n",
       "    <tr>\n",
       "      <th>8233</th>\n",
       "      <td>IDH1</td>\n",
       "      <td>3417</td>\n",
       "    </tr>\n",
       "    <tr>\n",
       "      <th>8234</th>\n",
       "      <td>IDH2</td>\n",
       "      <td>3418</td>\n",
       "    </tr>\n",
       "  </tbody>\n",
       "</table>\n",
       "</div>"
      ],
      "text/plain": [
       "     Hugo_Symbol  Entrez_Gene_Id\n",
       "8233        IDH1            3417\n",
       "8234        IDH2            3418"
      ]
     },
     "execution_count": 10,
     "metadata": {},
     "output_type": "execute_result"
    }
   ],
   "source": [
    "gene_symbol_id.loc[(gene_symbol_id.Hugo_Symbol == \"IDH1\") | (gene_symbol_id.Hugo_Symbol == \"IDH2\")]"
   ]
  },
  {
   "cell_type": "markdown",
   "metadata": {},
   "source": [
    "## Association between glioma subtype and gene expression? \n",
    "\n",
    "**Summary:**  \n",
    "\n",
    "According to following models, we found that gene expression level would have highly correlation with the subtype of Brain Lower Grade Glioma. We could predict the subtype of BLGG based on the level of expression. "
   ]
  },
  {
   "cell_type": "code",
   "execution_count": 11,
   "metadata": {},
   "outputs": [],
   "source": [
    "# preprocessing the data: encode, drop nan, scale? \n",
    "X= pd.DataFrame(adata_sample.X)\n",
    "X.columns = adata_sample.var_names\n",
    "X.index = adata_sample.obs.index\n",
    "y = adata_sample.obs['Subtype']\n",
    "df = pd.concat([X,y], axis = 1)"
   ]
  },
  {
   "cell_type": "code",
   "execution_count": 12,
   "metadata": {},
   "outputs": [],
   "source": [
    "df_drop = df.drop(df[df.Subtype.isnull()].index, axis = 0)"
   ]
  },
  {
   "cell_type": "code",
   "execution_count": 13,
   "metadata": {},
   "outputs": [],
   "source": [
    "# assign features, target and encoding...\n",
    "y = df_drop[\"Subtype\"]\n",
    "X= df_drop.drop(\"Subtype\", axis = 1)\n",
    "\n",
    "y = y.map({\"LGG_IDHmut-non-codel\":0, \"LGG_IDHwt\":1, \"LGG_IDHmut-codel\":2})"
   ]
  },
  {
   "cell_type": "code",
   "execution_count": 14,
   "metadata": {},
   "outputs": [],
   "source": [
    "from sklearn.model_selection import train_test_split\n",
    "X_train,X_test, y_train, y_test = train_test_split(X,y,random_state = 42)"
   ]
  },
  {
   "cell_type": "code",
   "execution_count": 15,
   "metadata": {},
   "outputs": [
    {
     "name": "stdout",
     "output_type": "stream",
     "text": [
      "There are totally 127 samples in test set.\n"
     ]
    }
   ],
   "source": [
    "print(f\"There are totally {len(X_test)} samples in test set.\")"
   ]
  },
  {
   "cell_type": "code",
   "execution_count": 16,
   "metadata": {},
   "outputs": [
    {
     "name": "stdout",
     "output_type": "stream",
     "text": [
      "The training set accuracy score: 1.0\n",
<<<<<<< Updated upstream
      "The test set accuracy score: 0.968503937007874\n"
=======
      "The test set accuracy score: 0.9763779527559056\n"
>>>>>>> Stashed changes
     ]
    }
   ],
   "source": [
    "# using random forest classifier as the predicting model: \n",
    "from sklearn.ensemble import RandomForestClassifier \n",
    "rf = RandomForestClassifier(warm_start = True, n_estimators = 10)\n",
    "rf.fit(X_train,y_train)\n",
    "print(f\"The training set accuracy score: {rf.score(X_train,y_train)}\")\n",
    "print(f\"The test set accuracy score: {rf.score(X_test,y_test)}\")"
   ]
  },
  {
   "cell_type": "code",
   "execution_count": 17,
   "metadata": {},
   "outputs": [
    {
     "name": "stdout",
     "output_type": "stream",
     "text": [
      "              precision    recall  f1-score   support\n",
      "\n",
<<<<<<< Updated upstream
      "           0       0.95      0.98      0.97        64\n",
      "           1       1.00      0.90      0.95        21\n",
      "           2       0.98      0.98      0.98        42\n",
      "\n",
      "    accuracy                           0.97       127\n",
      "   macro avg       0.98      0.96      0.97       127\n",
      "weighted avg       0.97      0.97      0.97       127\n",
=======
      "           0       0.96      1.00      0.98        64\n",
      "           1       1.00      0.90      0.95        21\n",
      "           2       1.00      0.98      0.99        42\n",
      "\n",
      "    accuracy                           0.98       127\n",
      "   macro avg       0.99      0.96      0.97       127\n",
      "weighted avg       0.98      0.98      0.98       127\n",
>>>>>>> Stashed changes
      "\n"
     ]
    }
   ],
   "source": [
    "# F1-score, precision & recall \n",
    "y_pred = rf.predict(X_test)\n",
    "from sklearn.metrics import classification_report\n",
    "print(classification_report(y_test,y_pred))"
   ]
  },
  {
   "cell_type": "code",
   "execution_count": 18,
   "metadata": {},
   "outputs": [
    {
     "data": {
<<<<<<< Updated upstream
      "image/png": "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",
=======
      "image/png": "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\n",
>>>>>>> Stashed changes
      "text/plain": [
       "<Figure size 320x320 with 2 Axes>"
      ]
     },
     "metadata": {
      "image/png": {
       "height": 431,
       "width": 459
      }
     },
     "output_type": "display_data"
    }
   ],
   "source": [
    "# confusion matrix \n",
    "from sklearn.metrics import confusion_matrix, plot_confusion_matrix\n",
    "class_names = [\"LGG_IDHmut-non-codel\", \"LGG_IDHwt\", \"LGG_IDHmut-codel\"]\n",
    "disp = plot_confusion_matrix(rf, X_test, y_test, display_labels=class_names, cmap=plt.cm.Blues, xticks_rotation='vertical')"
   ]
  },
  {
   "cell_type": "code",
   "execution_count": 19,
   "metadata": {},
   "outputs": [
    {
     "data": {
<<<<<<< Updated upstream
      "image/png": "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",
=======
      "image/png": "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\n",
>>>>>>> Stashed changes
      "text/plain": [
       "<Figure size 640x760 with 1 Axes>"
      ]
     },
     "metadata": {
      "image/png": {
       "height": 743,
       "width": 621
      }
     },
     "output_type": "display_data"
    }
   ],
   "source": [
    "# feature importance inspection \n",
    "import shap \n",
    "explainer = shap.TreeExplainer(rf)\n",
    "shap_values = explainer.shap_values(X_train)\n",
    "\n",
    "# get the table for feature_importance\n",
    "vals= np.abs(shap_values).mean(0)\n",
    "feature_importance = pd.DataFrame(list(zip(X.columns, sum(vals))), columns=['gene_id','feature_importance_vals'])\n",
    "feature_importance.sort_values(by=['feature_importance_vals'], ascending=False,inplace=True)\n",
    "feature_importance = feature_importance.reset_index(drop=True)\n",
    "\n",
    "# the plot for the data\n",
    "class_names = [\"LGG_IDHmut-non-codel\", \"LGG_IDHwt\", \"LGG_IDHmut-codel\"]\n",
    "shap.summary_plot(shap_values, X_test.values, plot_type=\"bar\", class_names= class_names, feature_names = X.columns)"
   ]
  },
  {
   "cell_type": "code",
   "execution_count": 20,
   "metadata": {},
   "outputs": [
    {
     "name": "stdout",
     "output_type": "stream",
     "text": [
<<<<<<< Updated upstream
      "!!!there are totally 163 genes that at least has some importance.\n"
=======
      "!!!there are totally 1240 genes that at least has some importance.\n"
>>>>>>> Stashed changes
     ]
    }
   ],
   "source": [
    "feature_importance_nonzero = feature_importance.loc[feature_importance.feature_importance_vals >0]\n",
    "print(f\"!!!there are totally {len(feature_importance_nonzero)} genes that at least has some importance.\")"
   ]
  },
  {
   "cell_type": "code",
   "execution_count": 21,
   "metadata": {},
   "outputs": [
    {
     "data": {
      "text/html": [
       "<div>\n",
       "<style scoped>\n",
       "    .dataframe tbody tr th:only-of-type {\n",
       "        vertical-align: middle;\n",
       "    }\n",
       "\n",
       "    .dataframe tbody tr th {\n",
       "        vertical-align: top;\n",
       "    }\n",
       "\n",
       "    .dataframe thead th {\n",
       "        text-align: right;\n",
       "    }\n",
       "</style>\n",
       "<table border=\"1\" class=\"dataframe\">\n",
       "  <thead>\n",
       "    <tr style=\"text-align: right;\">\n",
       "      <th></th>\n",
       "      <th>100130426</th>\n",
       "      <th>100133144</th>\n",
       "      <th>100134869</th>\n",
       "      <th>10357</th>\n",
       "      <th>10431</th>\n",
       "      <th>155060</th>\n",
       "      <th>26823</th>\n",
       "      <th>280660</th>\n",
       "      <th>340602</th>\n",
       "      <th>388795</th>\n",
       "      <th>...</th>\n",
       "      <th>55055</th>\n",
       "      <th>11130</th>\n",
       "      <th>7789</th>\n",
       "      <th>158586</th>\n",
       "      <th>79364</th>\n",
       "      <th>440590</th>\n",
       "      <th>79699</th>\n",
       "      <th>7791</th>\n",
       "      <th>23140</th>\n",
       "      <th>26009</th>\n",
       "    </tr>\n",
       "    <tr>\n",
       "      <th>PATIENT_ID</th>\n",
       "      <th></th>\n",
       "      <th></th>\n",
       "      <th></th>\n",
       "      <th></th>\n",
       "      <th></th>\n",
       "      <th></th>\n",
       "      <th></th>\n",
       "      <th></th>\n",
       "      <th></th>\n",
       "      <th></th>\n",
       "      <th></th>\n",
       "      <th></th>\n",
       "      <th></th>\n",
       "      <th></th>\n",
       "      <th></th>\n",
       "      <th></th>\n",
       "      <th></th>\n",
       "      <th></th>\n",
       "      <th></th>\n",
       "      <th></th>\n",
       "      <th></th>\n",
       "    </tr>\n",
       "  </thead>\n",
       "  <tbody>\n",
       "    <tr>\n",
<<<<<<< Updated upstream
       "      <th>0</th>\n",
       "      <td>51249</td>\n",
       "      <td>9.178328</td>\n",
       "    </tr>\n",
       "    <tr>\n",
       "      <th>1</th>\n",
       "      <td>134266</td>\n",
       "      <td>8.641491</td>\n",
       "    </tr>\n",
       "    <tr>\n",
       "      <th>2</th>\n",
       "      <td>91408</td>\n",
       "      <td>8.544089</td>\n",
       "    </tr>\n",
       "    <tr>\n",
       "      <th>3</th>\n",
       "      <td>1650</td>\n",
       "      <td>8.035184</td>\n",
       "    </tr>\n",
       "    <tr>\n",
       "      <th>4</th>\n",
       "      <td>5511</td>\n",
       "      <td>7.793529</td>\n",
=======
       "      <th>TCGA-CS-4938</th>\n",
       "      <td>0.0</td>\n",
       "      <td>8.714100</td>\n",
       "      <td>22.752300</td>\n",
       "      <td>268.575989</td>\n",
       "      <td>845.815002</td>\n",
       "      <td>182.505005</td>\n",
       "      <td>0.4196</td>\n",
       "      <td>0.0</td>\n",
       "      <td>2.0978</td>\n",
       "      <td>0.4196</td>\n",
       "      <td>...</td>\n",
       "      <td>80.163597</td>\n",
       "      <td>50.346100</td>\n",
       "      <td>64.191299</td>\n",
       "      <td>523.179993</td>\n",
       "      <td>1311.520020</td>\n",
       "      <td>0.0000</td>\n",
       "      <td>1495.699951</td>\n",
       "      <td>1598.910034</td>\n",
       "      <td>1171.810059</td>\n",
       "      <td>836.164978</td>\n",
       "    </tr>\n",
       "    <tr>\n",
       "      <th>TCGA-CS-4941</th>\n",
       "      <td>0.0</td>\n",
       "      <td>36.449299</td>\n",
       "      <td>21.176701</td>\n",
       "      <td>156.686996</td>\n",
       "      <td>390.269012</td>\n",
       "      <td>325.052002</td>\n",
       "      <td>1.7253</td>\n",
       "      <td>0.0</td>\n",
       "      <td>3.4507</td>\n",
       "      <td>0.3451</td>\n",
       "      <td>...</td>\n",
       "      <td>187.298004</td>\n",
       "      <td>110.420998</td>\n",
       "      <td>105.934998</td>\n",
       "      <td>467.563995</td>\n",
       "      <td>1226.709961</td>\n",
       "      <td>0.3451</td>\n",
       "      <td>1751.209961</td>\n",
       "      <td>3889.919922</td>\n",
       "      <td>1707.729980</td>\n",
       "      <td>1015.530029</td>\n",
       "    </tr>\n",
       "    <tr>\n",
       "      <th>TCGA-CS-4942</th>\n",
       "      <td>0.0</td>\n",
       "      <td>11.813100</td>\n",
       "      <td>11.024200</td>\n",
       "      <td>185.138000</td>\n",
       "      <td>621.453003</td>\n",
       "      <td>131.141998</td>\n",
       "      <td>0.0000</td>\n",
       "      <td>0.0</td>\n",
       "      <td>1.7301</td>\n",
       "      <td>0.3460</td>\n",
       "      <td>...</td>\n",
       "      <td>120.030998</td>\n",
       "      <td>186.505005</td>\n",
       "      <td>115.224998</td>\n",
       "      <td>454.325012</td>\n",
       "      <td>1102.420044</td>\n",
       "      <td>0.3460</td>\n",
       "      <td>1586.160034</td>\n",
       "      <td>2214.530029</td>\n",
       "      <td>1423.880005</td>\n",
       "      <td>706.919983</td>\n",
       "    </tr>\n",
       "    <tr>\n",
       "      <th>TCGA-CS-4943</th>\n",
       "      <td>0.0</td>\n",
       "      <td>8.611600</td>\n",
       "      <td>5.083500</td>\n",
       "      <td>269.835999</td>\n",
       "      <td>835.729004</td>\n",
       "      <td>83.474998</td>\n",
       "      <td>0.3261</td>\n",
       "      <td>0.0</td>\n",
       "      <td>1.3043</td>\n",
       "      <td>0.0000</td>\n",
       "      <td>...</td>\n",
       "      <td>667.447998</td>\n",
       "      <td>1183.650024</td>\n",
       "      <td>89.018303</td>\n",
       "      <td>491.067993</td>\n",
       "      <td>1288.319946</td>\n",
       "      <td>3.2607</td>\n",
       "      <td>1760.150024</td>\n",
       "      <td>2131.550049</td>\n",
       "      <td>1916.989990</td>\n",
       "      <td>689.320984</td>\n",
       "    </tr>\n",
       "    <tr>\n",
       "      <th>TCGA-CS-4944</th>\n",
       "      <td>0.0</td>\n",
       "      <td>0.000000</td>\n",
       "      <td>30.261000</td>\n",
       "      <td>216.341003</td>\n",
       "      <td>812.507996</td>\n",
       "      <td>80.695999</td>\n",
       "      <td>0.0000</td>\n",
       "      <td>0.0</td>\n",
       "      <td>3.0261</td>\n",
       "      <td>0.0000</td>\n",
       "      <td>...</td>\n",
       "      <td>57.324402</td>\n",
       "      <td>56.487202</td>\n",
       "      <td>42.365398</td>\n",
       "      <td>323.792999</td>\n",
       "      <td>1012.729980</td>\n",
       "      <td>0.5044</td>\n",
       "      <td>1225.069946</td>\n",
       "      <td>1692.599976</td>\n",
       "      <td>729.794006</td>\n",
       "      <td>456.941010</td>\n",
>>>>>>> Stashed changes
       "    </tr>\n",
       "    <tr>\n",
       "      <th>...</th>\n",
       "      <td>...</td>\n",
       "      <td>...</td>\n",
       "      <td>...</td>\n",
       "      <td>...</td>\n",
       "      <td>...</td>\n",
       "      <td>...</td>\n",
       "      <td>...</td>\n",
       "      <td>...</td>\n",
       "      <td>...</td>\n",
       "      <td>...</td>\n",
       "      <td>...</td>\n",
       "      <td>...</td>\n",
       "      <td>...</td>\n",
       "      <td>...</td>\n",
       "      <td>...</td>\n",
       "      <td>...</td>\n",
       "      <td>...</td>\n",
       "      <td>...</td>\n",
       "      <td>...</td>\n",
       "      <td>...</td>\n",
       "      <td>...</td>\n",
       "    </tr>\n",
       "    <tr>\n",
<<<<<<< Updated upstream
       "      <th>158</th>\n",
       "      <td>9422</td>\n",
       "      <td>0.098539</td>\n",
       "    </tr>\n",
       "    <tr>\n",
       "      <th>159</th>\n",
       "      <td>54206</td>\n",
       "      <td>0.098196</td>\n",
       "    </tr>\n",
       "    <tr>\n",
       "      <th>160</th>\n",
       "      <td>285796</td>\n",
       "      <td>0.088533</td>\n",
       "    </tr>\n",
       "    <tr>\n",
       "      <th>161</th>\n",
       "      <td>54856</td>\n",
       "      <td>0.083990</td>\n",
       "    </tr>\n",
       "    <tr>\n",
       "      <th>162</th>\n",
       "      <td>1008</td>\n",
       "      <td>0.068755</td>\n",
       "    </tr>\n",
       "  </tbody>\n",
       "</table>\n",
       "<p>163 rows × 2 columns</p>\n",
       "</div>"
      ],
      "text/plain": [
       "     gene_id  feature_importance_vals\n",
       "0      51249                 9.178328\n",
       "1     134266                 8.641491\n",
       "2      91408                 8.544089\n",
       "3       1650                 8.035184\n",
       "4       5511                 7.793529\n",
       "..       ...                      ...\n",
       "158     9422                 0.098539\n",
       "159    54206                 0.098196\n",
       "160   285796                 0.088533\n",
       "161    54856                 0.083990\n",
       "162     1008                 0.068755\n",
       "\n",
       "[163 rows x 2 columns]"
=======
       "      <th>TCGA-WY-A85A</th>\n",
       "      <td>0.0</td>\n",
       "      <td>5.452600</td>\n",
       "      <td>16.188999</td>\n",
       "      <td>124.918999</td>\n",
       "      <td>658.221008</td>\n",
       "      <td>540.512024</td>\n",
       "      <td>1.0557</td>\n",
       "      <td>0.0</td>\n",
       "      <td>7.3898</td>\n",
       "      <td>2.1114</td>\n",
       "      <td>...</td>\n",
       "      <td>101.858002</td>\n",
       "      <td>97.123299</td>\n",
       "      <td>53.840099</td>\n",
       "      <td>351.015991</td>\n",
       "      <td>1263.130005</td>\n",
       "      <td>0.0000</td>\n",
       "      <td>1491.689941</td>\n",
       "      <td>1497.489990</td>\n",
       "      <td>1556.079956</td>\n",
       "      <td>664.554993</td>\n",
       "    </tr>\n",
       "    <tr>\n",
       "      <th>TCGA-WY-A85B</th>\n",
       "      <td>0.0</td>\n",
       "      <td>8.261600</td>\n",
       "      <td>19.707399</td>\n",
       "      <td>133.738998</td>\n",
       "      <td>662.651001</td>\n",
       "      <td>610.155029</td>\n",
       "      <td>2.1515</td>\n",
       "      <td>0.0</td>\n",
       "      <td>11.1876</td>\n",
       "      <td>0.0000</td>\n",
       "      <td>...</td>\n",
       "      <td>241.337997</td>\n",
       "      <td>349.398010</td>\n",
       "      <td>60.241001</td>\n",
       "      <td>503.011993</td>\n",
       "      <td>1347.680054</td>\n",
       "      <td>0.8606</td>\n",
       "      <td>1443.630005</td>\n",
       "      <td>1574.869995</td>\n",
       "      <td>1685.890015</td>\n",
       "      <td>836.919006</td>\n",
       "    </tr>\n",
       "    <tr>\n",
       "      <th>TCGA-WY-A85C</th>\n",
       "      <td>0.0</td>\n",
       "      <td>11.512100</td>\n",
       "      <td>18.729099</td>\n",
       "      <td>120.924004</td>\n",
       "      <td>524.723999</td>\n",
       "      <td>837.760010</td>\n",
       "      <td>3.2693</td>\n",
       "      <td>0.0</td>\n",
       "      <td>13.4859</td>\n",
       "      <td>0.4087</td>\n",
       "      <td>...</td>\n",
       "      <td>96.681702</td>\n",
       "      <td>78.054802</td>\n",
       "      <td>76.420097</td>\n",
       "      <td>530.854004</td>\n",
       "      <td>1556.189941</td>\n",
       "      <td>2.8606</td>\n",
       "      <td>1855.739990</td>\n",
       "      <td>1927.670044</td>\n",
       "      <td>2006.130005</td>\n",
       "      <td>910.093994</td>\n",
       "    </tr>\n",
       "    <tr>\n",
       "      <th>TCGA-WY-A85D</th>\n",
       "      <td>0.0</td>\n",
       "      <td>5.389500</td>\n",
       "      <td>8.910300</td>\n",
       "      <td>107.253998</td>\n",
       "      <td>705.127991</td>\n",
       "      <td>805.719971</td>\n",
       "      <td>0.4931</td>\n",
       "      <td>0.0</td>\n",
       "      <td>7.3964</td>\n",
       "      <td>0.4931</td>\n",
       "      <td>...</td>\n",
       "      <td>49.856998</td>\n",
       "      <td>111.932999</td>\n",
       "      <td>35.009899</td>\n",
       "      <td>312.130005</td>\n",
       "      <td>1456.109985</td>\n",
       "      <td>0.0000</td>\n",
       "      <td>1222.880005</td>\n",
       "      <td>1706.109985</td>\n",
       "      <td>1429.489990</td>\n",
       "      <td>771.203003</td>\n",
       "    </tr>\n",
       "    <tr>\n",
       "      <th>TCGA-WY-A85E</th>\n",
       "      <td>0.0</td>\n",
       "      <td>9.943300</td>\n",
       "      <td>7.448000</td>\n",
       "      <td>143.005997</td>\n",
       "      <td>748.581970</td>\n",
       "      <td>1194.329956</td>\n",
       "      <td>1.1342</td>\n",
       "      <td>0.0</td>\n",
       "      <td>5.6711</td>\n",
       "      <td>1.1342</td>\n",
       "      <td>...</td>\n",
       "      <td>221.153000</td>\n",
       "      <td>362.571014</td>\n",
       "      <td>55.576599</td>\n",
       "      <td>384.121002</td>\n",
       "      <td>727.788025</td>\n",
       "      <td>3.4026</td>\n",
       "      <td>1653.689941</td>\n",
       "      <td>2043.859985</td>\n",
       "      <td>1434.400024</td>\n",
       "      <td>626.465027</td>\n",
       "    </tr>\n",
       "  </tbody>\n",
       "</table>\n",
       "<p>507 rows × 20224 columns</p>\n",
       "</div>"
      ],
      "text/plain": [
       "              100130426  100133144  100134869   10357       10431      \\\n",
       "PATIENT_ID                                                              \n",
       "TCGA-CS-4938        0.0   8.714100  22.752300  268.575989  845.815002   \n",
       "TCGA-CS-4941        0.0  36.449299  21.176701  156.686996  390.269012   \n",
       "TCGA-CS-4942        0.0  11.813100  11.024200  185.138000  621.453003   \n",
       "TCGA-CS-4943        0.0   8.611600   5.083500  269.835999  835.729004   \n",
       "TCGA-CS-4944        0.0   0.000000  30.261000  216.341003  812.507996   \n",
       "...                 ...        ...        ...         ...         ...   \n",
       "TCGA-WY-A85A        0.0   5.452600  16.188999  124.918999  658.221008   \n",
       "TCGA-WY-A85B        0.0   8.261600  19.707399  133.738998  662.651001   \n",
       "TCGA-WY-A85C        0.0  11.512100  18.729099  120.924004  524.723999   \n",
       "TCGA-WY-A85D        0.0   5.389500   8.910300  107.253998  705.127991   \n",
       "TCGA-WY-A85E        0.0   9.943300   7.448000  143.005997  748.581970   \n",
       "\n",
       "                155060     26823      280660     340602     388795     ...  \\\n",
       "PATIENT_ID                                                             ...   \n",
       "TCGA-CS-4938   182.505005     0.4196        0.0     2.0978     0.4196  ...   \n",
       "TCGA-CS-4941   325.052002     1.7253        0.0     3.4507     0.3451  ...   \n",
       "TCGA-CS-4942   131.141998     0.0000        0.0     1.7301     0.3460  ...   \n",
       "TCGA-CS-4943    83.474998     0.3261        0.0     1.3043     0.0000  ...   \n",
       "TCGA-CS-4944    80.695999     0.0000        0.0     3.0261     0.0000  ...   \n",
       "...                   ...        ...        ...        ...        ...  ...   \n",
       "TCGA-WY-A85A   540.512024     1.0557        0.0     7.3898     2.1114  ...   \n",
       "TCGA-WY-A85B   610.155029     2.1515        0.0    11.1876     0.0000  ...   \n",
       "TCGA-WY-A85C   837.760010     3.2693        0.0    13.4859     0.4087  ...   \n",
       "TCGA-WY-A85D   805.719971     0.4931        0.0     7.3964     0.4931  ...   \n",
       "TCGA-WY-A85E  1194.329956     1.1342        0.0     5.6711     1.1342  ...   \n",
       "\n",
       "               55055        11130       7789        158586       79364      \\\n",
       "PATIENT_ID                                                                   \n",
       "TCGA-CS-4938   80.163597    50.346100   64.191299  523.179993  1311.520020   \n",
       "TCGA-CS-4941  187.298004   110.420998  105.934998  467.563995  1226.709961   \n",
       "TCGA-CS-4942  120.030998   186.505005  115.224998  454.325012  1102.420044   \n",
       "TCGA-CS-4943  667.447998  1183.650024   89.018303  491.067993  1288.319946   \n",
       "TCGA-CS-4944   57.324402    56.487202   42.365398  323.792999  1012.729980   \n",
       "...                  ...          ...         ...         ...          ...   \n",
       "TCGA-WY-A85A  101.858002    97.123299   53.840099  351.015991  1263.130005   \n",
       "TCGA-WY-A85B  241.337997   349.398010   60.241001  503.011993  1347.680054   \n",
       "TCGA-WY-A85C   96.681702    78.054802   76.420097  530.854004  1556.189941   \n",
       "TCGA-WY-A85D   49.856998   111.932999   35.009899  312.130005  1456.109985   \n",
       "TCGA-WY-A85E  221.153000   362.571014   55.576599  384.121002   727.788025   \n",
       "\n",
       "              440590       79699        7791         23140        26009      \n",
       "PATIENT_ID                                                                   \n",
       "TCGA-CS-4938     0.0000  1495.699951  1598.910034  1171.810059   836.164978  \n",
       "TCGA-CS-4941     0.3451  1751.209961  3889.919922  1707.729980  1015.530029  \n",
       "TCGA-CS-4942     0.3460  1586.160034  2214.530029  1423.880005   706.919983  \n",
       "TCGA-CS-4943     3.2607  1760.150024  2131.550049  1916.989990   689.320984  \n",
       "TCGA-CS-4944     0.5044  1225.069946  1692.599976   729.794006   456.941010  \n",
       "...                 ...          ...          ...          ...          ...  \n",
       "TCGA-WY-A85A     0.0000  1491.689941  1497.489990  1556.079956   664.554993  \n",
       "TCGA-WY-A85B     0.8606  1443.630005  1574.869995  1685.890015   836.919006  \n",
       "TCGA-WY-A85C     2.8606  1855.739990  1927.670044  2006.130005   910.093994  \n",
       "TCGA-WY-A85D     0.0000  1222.880005  1706.109985  1429.489990   771.203003  \n",
       "TCGA-WY-A85E     3.4026  1653.689941  2043.859985  1434.400024   626.465027  \n",
       "\n",
       "[507 rows x 20224 columns]"
>>>>>>> Stashed changes
      ]
     },
     "execution_count": 21,
     "metadata": {},
     "output_type": "execute_result"
    }
   ],
   "source": [
    "X"
   ]
  },
  {
   "cell_type": "markdown",
   "metadata": {},
   "source": [
    "## Due to every model would give different top rank genes, so I draw 50 times find the average ranking with low variance and high mentioned numbers:"
   ]
  },
  {
   "cell_type": "code",
   "execution_count": 22,
   "metadata": {},
   "outputs": [],
   "source": [
    "def drawing():\n",
    "    rf = RandomForestClassifier(warm_start = True, n_estimators = 100)\n",
    "    rf.fit(X_train,y_train)\n",
    "    # print(f\"The training set accuracy score: {rf.score(X_train,y_train)}\")\n",
    "    # print(f\"The test set accuracy score: {rf.score(X_test,y_test)}\")\n",
    "    explainer = shap.TreeExplainer(rf)\n",
    "    shap_values = explainer.shap_values(X)\n",
    "\n",
    "    # get the table for feature_importance\n",
    "    vals= np.abs(shap_values).mean(0)\n",
    "    feature_importance = pd.DataFrame(list(zip(X.columns, sum(vals))), columns=['gene_id','feature_importance_vals'])\n",
    "    feature_importance.sort_values(by=['feature_importance_vals'], ascending=False,inplace=True)\n",
    "    feature_importance = feature_importance.reset_index(drop=True)\n",
    "    feature_importance_nonzero = feature_importance.loc[feature_importance.feature_importance_vals >0]\n",
    "    return len(feature_importance_nonzero), feature_importance_nonzero.gene_id\n",
    "\n",
    "nums = []\n",
    "gene_important_draws = []\n",
    "for e in range(50):\n",
    "    num, gene_important = drawing()\n",
    "    nums.append(num)\n",
    "    gene_important_draws.append(gene_important)"
   ]
  },
  {
   "cell_type": "code",
<<<<<<< Updated upstream
   "execution_count": 23,
=======
   "execution_count": 24,
>>>>>>> Stashed changes
   "metadata": {},
   "outputs": [],
   "source": [
    "gene_importance_mention_times = {}\n",
    "\n",
    "for i in range(len(gene_important_draws)):\n",
    "    for j in range(len(gene_important_draws[i])):\n",
    "        if gene_important_draws[i][j] in gene_importance_mention_times:\n",
    "            gene_importance_mention_times[gene_important_draws[i][j]] +=1\n",
    "        else:\n",
    "            gene_importance_mention_times[gene_important_draws[i][j]] = 1"
   ]
  },
  {
   "cell_type": "code",
<<<<<<< Updated upstream
   "execution_count": 24,
=======
   "execution_count": 25,
>>>>>>> Stashed changes
   "metadata": {},
   "outputs": [
    {
     "data": {
      "text/html": [
       "<div>\n",
       "<style scoped>\n",
       "    .dataframe tbody tr th:only-of-type {\n",
       "        vertical-align: middle;\n",
       "    }\n",
       "\n",
       "    .dataframe tbody tr th {\n",
       "        vertical-align: top;\n",
       "    }\n",
       "\n",
       "    .dataframe thead th {\n",
       "        text-align: right;\n",
       "    }\n",
       "</style>\n",
       "<table border=\"1\" class=\"dataframe\">\n",
       "  <thead>\n",
       "    <tr style=\"text-align: right;\">\n",
       "      <th></th>\n",
       "      <th>gene_id</th>\n",
       "      <th>times</th>\n",
       "      <th>occur_ratio</th>\n",
       "    </tr>\n",
       "  </thead>\n",
       "  <tbody>\n",
       "    <tr>\n",
       "      <th>0</th>\n",
       "      <td>51249</td>\n",
       "      <td>48</td>\n",
       "      <td>0.96</td>\n",
       "    </tr>\n",
       "    <tr>\n",
       "      <th>1</th>\n",
<<<<<<< Updated upstream
       "      <td>54455</td>\n",
       "      <td>49</td>\n",
       "      <td>0.98</td>\n",
       "    </tr>\n",
       "    <tr>\n",
       "      <th>2</th>\n",
       "      <td>7268</td>\n",
=======
       "      <td>56181</td>\n",
       "      <td>48</td>\n",
       "      <td>0.96</td>\n",
       "    </tr>\n",
       "    <tr>\n",
       "      <th>2</th>\n",
       "      <td>115353</td>\n",
>>>>>>> Stashed changes
       "      <td>48</td>\n",
       "      <td>0.96</td>\n",
       "    </tr>\n",
       "    <tr>\n",
       "      <th>3</th>\n",
<<<<<<< Updated upstream
       "      <td>115353</td>\n",
=======
       "      <td>10489</td>\n",
>>>>>>> Stashed changes
       "      <td>48</td>\n",
       "      <td>0.96</td>\n",
       "    </tr>\n",
       "    <tr>\n",
       "      <th>4</th>\n",
<<<<<<< Updated upstream
       "      <td>5947</td>\n",
=======
       "      <td>79730</td>\n",
>>>>>>> Stashed changes
       "      <td>48</td>\n",
       "      <td>0.96</td>\n",
       "    </tr>\n",
       "    <tr>\n",
       "      <th>...</th>\n",
       "      <td>...</td>\n",
       "      <td>...</td>\n",
       "      <td>...</td>\n",
       "    </tr>\n",
       "    <tr>\n",
<<<<<<< Updated upstream
       "      <th>1061</th>\n",
       "      <td>54522</td>\n",
=======
       "      <th>1050</th>\n",
       "      <td>57020</td>\n",
>>>>>>> Stashed changes
       "      <td>10</td>\n",
       "      <td>0.20</td>\n",
       "    </tr>\n",
       "    <tr>\n",
<<<<<<< Updated upstream
       "      <th>1062</th>\n",
       "      <td>10780</td>\n",
=======
       "      <th>1051</th>\n",
       "      <td>238</td>\n",
>>>>>>> Stashed changes
       "      <td>10</td>\n",
       "      <td>0.20</td>\n",
       "    </tr>\n",
       "    <tr>\n",
<<<<<<< Updated upstream
       "      <th>1063</th>\n",
       "      <td>10782</td>\n",
=======
       "      <th>1052</th>\n",
       "      <td>10419</td>\n",
>>>>>>> Stashed changes
       "      <td>10</td>\n",
       "      <td>0.20</td>\n",
       "    </tr>\n",
       "    <tr>\n",
<<<<<<< Updated upstream
       "      <th>1064</th>\n",
       "      <td>158219</td>\n",
=======
       "      <th>1053</th>\n",
       "      <td>116138</td>\n",
>>>>>>> Stashed changes
       "      <td>10</td>\n",
       "      <td>0.20</td>\n",
       "    </tr>\n",
       "    <tr>\n",
<<<<<<< Updated upstream
       "      <th>1065</th>\n",
       "      <td>197021</td>\n",
=======
       "      <th>1054</th>\n",
       "      <td>6235</td>\n",
>>>>>>> Stashed changes
       "      <td>10</td>\n",
       "      <td>0.20</td>\n",
       "    </tr>\n",
       "  </tbody>\n",
       "</table>\n",
<<<<<<< Updated upstream
       "<p>1066 rows × 3 columns</p>\n",
=======
       "<p>1055 rows × 3 columns</p>\n",
>>>>>>> Stashed changes
       "</div>"
      ],
      "text/plain": [
       "      gene_id  times  occur_ratio\n",
<<<<<<< Updated upstream
       "0        5690     49         0.98\n",
       "1       54455     49         0.98\n",
       "2        7268     48         0.96\n",
       "3      115353     48         0.96\n",
       "4        5947     48         0.96\n",
       "...       ...    ...          ...\n",
       "1061    54522     10         0.20\n",
       "1062    10780     10         0.20\n",
       "1063    10782     10         0.20\n",
       "1064   158219     10         0.20\n",
       "1065   197021     10         0.20\n",
       "\n",
       "[1066 rows x 3 columns]"
      ]
     },
     "execution_count": 24,
=======
       "0       51249     48         0.96\n",
       "1       56181     48         0.96\n",
       "2      115353     48         0.96\n",
       "3       10489     48         0.96\n",
       "4       79730     48         0.96\n",
       "...       ...    ...          ...\n",
       "1050    57020     10         0.20\n",
       "1051      238     10         0.20\n",
       "1052    10419     10         0.20\n",
       "1053   116138     10         0.20\n",
       "1054     6235     10         0.20\n",
       "\n",
       "[1055 rows x 3 columns]"
      ]
     },
     "execution_count": 25,
>>>>>>> Stashed changes
     "metadata": {},
     "output_type": "execute_result"
    }
   ],
   "source": [
    "df_gene_important = pd.DataFrame(gene_importance_mention_times.items())\n",
    "df_gene_important.columns = [\"gene_id\", \"times\"]\n",
    "df_gene_important = df_gene_important.sort_values(\"times\", ascending =False)\n",
    "df_gene_important[\"occur_ratio\"] = df_gene_important[\"times\"]/50\n",
    "df_gene_important_more = df_gene_important[df_gene_important[\"occur_ratio\"]>=0.20]\n",
    "df_gene_important_more = df_gene_important_more.reset_index(drop = True)\n",
    "df_gene_important_more"
   ]
  },
  {
   "cell_type": "code",
<<<<<<< Updated upstream
   "execution_count": 25,
=======
   "execution_count": 26,
   "metadata": {},
   "outputs": [
    {
     "data": {
      "text/html": [
       "<div>\n",
       "<style scoped>\n",
       "    .dataframe tbody tr th:only-of-type {\n",
       "        vertical-align: middle;\n",
       "    }\n",
       "\n",
       "    .dataframe tbody tr th {\n",
       "        vertical-align: top;\n",
       "    }\n",
       "\n",
       "    .dataframe thead th {\n",
       "        text-align: right;\n",
       "    }\n",
       "</style>\n",
       "<table border=\"1\" class=\"dataframe\">\n",
       "  <thead>\n",
       "    <tr style=\"text-align: right;\">\n",
       "      <th></th>\n",
       "      <th>gene_id</th>\n",
       "      <th>times</th>\n",
       "      <th>occur_ratio</th>\n",
       "    </tr>\n",
       "  </thead>\n",
       "  <tbody>\n",
       "    <tr>\n",
       "      <th>40</th>\n",
       "      <td>51249</td>\n",
       "      <td>48</td>\n",
       "      <td>0.96</td>\n",
       "    </tr>\n",
       "    <tr>\n",
       "      <th>4</th>\n",
       "      <td>56181</td>\n",
       "      <td>48</td>\n",
       "      <td>0.96</td>\n",
       "    </tr>\n",
       "    <tr>\n",
       "      <th>20</th>\n",
       "      <td>115353</td>\n",
       "      <td>48</td>\n",
       "      <td>0.96</td>\n",
       "    </tr>\n",
       "    <tr>\n",
       "      <th>15</th>\n",
       "      <td>10489</td>\n",
       "      <td>48</td>\n",
       "      <td>0.96</td>\n",
       "    </tr>\n",
       "    <tr>\n",
       "      <th>95</th>\n",
       "      <td>79730</td>\n",
       "      <td>48</td>\n",
       "      <td>0.96</td>\n",
       "    </tr>\n",
       "    <tr>\n",
       "      <th>...</th>\n",
       "      <td>...</td>\n",
       "      <td>...</td>\n",
       "      <td>...</td>\n",
       "    </tr>\n",
       "    <tr>\n",
       "      <th>12062</th>\n",
       "      <td>2243</td>\n",
       "      <td>1</td>\n",
       "      <td>0.02</td>\n",
       "    </tr>\n",
       "    <tr>\n",
       "      <th>12060</th>\n",
       "      <td>353238</td>\n",
       "      <td>1</td>\n",
       "      <td>0.02</td>\n",
       "    </tr>\n",
       "    <tr>\n",
       "      <th>12053</th>\n",
       "      <td>5516</td>\n",
       "      <td>1</td>\n",
       "      <td>0.02</td>\n",
       "    </tr>\n",
       "    <tr>\n",
       "      <th>12052</th>\n",
       "      <td>25849</td>\n",
       "      <td>1</td>\n",
       "      <td>0.02</td>\n",
       "    </tr>\n",
       "    <tr>\n",
       "      <th>16522</th>\n",
       "      <td>79612</td>\n",
       "      <td>1</td>\n",
       "      <td>0.02</td>\n",
       "    </tr>\n",
       "  </tbody>\n",
       "</table>\n",
       "<p>16523 rows × 3 columns</p>\n",
       "</div>"
      ],
      "text/plain": [
       "       gene_id  times  occur_ratio\n",
       "40       51249     48         0.96\n",
       "4        56181     48         0.96\n",
       "20      115353     48         0.96\n",
       "15       10489     48         0.96\n",
       "95       79730     48         0.96\n",
       "...        ...    ...          ...\n",
       "12062     2243      1         0.02\n",
       "12060   353238      1         0.02\n",
       "12053     5516      1         0.02\n",
       "12052    25849      1         0.02\n",
       "16522    79612      1         0.02\n",
       "\n",
       "[16523 rows x 3 columns]"
      ]
     },
     "execution_count": 26,
     "metadata": {},
     "output_type": "execute_result"
    }
   ],
   "source": [
    "df_gene_important"
   ]
  },
  {
   "cell_type": "code",
   "execution_count": 27,
>>>>>>> Stashed changes
   "metadata": {},
   "outputs": [
    {
     "data": {
      "text/html": [
       "<div>\n",
       "<style scoped>\n",
       "    .dataframe tbody tr th:only-of-type {\n",
       "        vertical-align: middle;\n",
       "    }\n",
       "\n",
       "    .dataframe tbody tr th {\n",
       "        vertical-align: top;\n",
       "    }\n",
       "\n",
       "    .dataframe thead th {\n",
       "        text-align: right;\n",
       "    }\n",
       "</style>\n",
       "<table border=\"1\" class=\"dataframe\">\n",
       "  <thead>\n",
       "    <tr style=\"text-align: right;\">\n",
       "      <th></th>\n",
       "      <th>gene_id</th>\n",
       "      <th>times</th>\n",
       "      <th>occur_ratio</th>\n",
       "      <th>NCBI GeneID</th>\n",
       "      <th>Symbol</th>\n",
       "      <th>Description</th>\n",
       "      <th>Taxonomic Name</th>\n",
       "      <th>Gene Type</th>\n",
       "      <th>Gene Group Identifier</th>\n",
       "      <th>Gene Group Method</th>\n",
       "    </tr>\n",
       "  </thead>\n",
       "  <tbody>\n",
       "    <tr>\n",
       "      <th>0</th>\n",
       "      <td>51249</td>\n",
       "      <td>48</td>\n",
       "      <td>0.96</td>\n",
       "      <td>51249.0</td>\n",
       "      <td>TMEM69</td>\n",
       "      <td>transmembrane protein 69</td>\n",
       "      <td>Homo sapiens</td>\n",
       "      <td>PROTEIN_CODING</td>\n",
       "      <td>51249.0</td>\n",
       "      <td>NCBI Ortholog</td>\n",
       "    </tr>\n",
       "    <tr>\n",
       "      <th>1</th>\n",
<<<<<<< Updated upstream
       "      <td>54455</td>\n",
       "      <td>49</td>\n",
       "      <td>0.98</td>\n",
=======
       "      <td>56181</td>\n",
       "      <td>48</td>\n",
       "      <td>0.96</td>\n",
       "      <td>56181.0</td>\n",
       "      <td>MTFR1L</td>\n",
       "      <td>mitochondrial fission regulator 1 like</td>\n",
       "      <td>Homo sapiens</td>\n",
       "      <td>PROTEIN_CODING</td>\n",
       "      <td>56181.0</td>\n",
       "      <td>NCBI Ortholog</td>\n",
       "    </tr>\n",
       "    <tr>\n",
       "      <th>2</th>\n",
       "      <td>115353</td>\n",
       "      <td>48</td>\n",
       "      <td>0.96</td>\n",
       "      <td>115353.0</td>\n",
       "      <td>LRRC42</td>\n",
       "      <td>leucine rich repeat containing 42</td>\n",
       "      <td>Homo sapiens</td>\n",
       "      <td>PROTEIN_CODING</td>\n",
       "      <td>115353.0</td>\n",
       "      <td>NCBI Ortholog</td>\n",
       "    </tr>\n",
       "    <tr>\n",
       "      <th>3</th>\n",
       "      <td>10489</td>\n",
       "      <td>48</td>\n",
       "      <td>0.96</td>\n",
       "      <td>10489.0</td>\n",
       "      <td>LRRC41</td>\n",
       "      <td>leucine rich repeat containing 41</td>\n",
       "      <td>Homo sapiens</td>\n",
       "      <td>PROTEIN_CODING</td>\n",
       "      <td>10489.0</td>\n",
       "      <td>NCBI Ortholog</td>\n",
       "    </tr>\n",
       "    <tr>\n",
       "      <th>4</th>\n",
       "      <td>79730</td>\n",
       "      <td>48</td>\n",
       "      <td>0.96</td>\n",
       "      <td>79730.0</td>\n",
       "      <td>NSUN7</td>\n",
       "      <td>NOP2/Sun RNA methyltransferase family member 7</td>\n",
       "      <td>Homo sapiens</td>\n",
       "      <td>PROTEIN_CODING</td>\n",
       "      <td>79730.0</td>\n",
       "      <td>NCBI Ortholog</td>\n",
       "    </tr>\n",
       "    <tr>\n",
       "      <th>5</th>\n",
       "      <td>57212</td>\n",
       "      <td>47</td>\n",
       "      <td>0.94</td>\n",
       "      <td>57212.0</td>\n",
       "      <td>TP73-AS1</td>\n",
       "      <td>TP73 antisense RNA 1</td>\n",
       "      <td>Homo sapiens</td>\n",
       "      <td>ncRNA</td>\n",
       "      <td>57212.0</td>\n",
       "      <td>NCBI Ortholog</td>\n",
       "    </tr>\n",
       "    <tr>\n",
       "      <th>6</th>\n",
       "      <td>6429</td>\n",
       "      <td>47</td>\n",
       "      <td>0.94</td>\n",
       "      <td>6429.0</td>\n",
       "      <td>SRSF4</td>\n",
       "      <td>serine and arginine rich splicing factor 4</td>\n",
       "      <td>Homo sapiens</td>\n",
       "      <td>PROTEIN_CODING</td>\n",
       "      <td>6429.0</td>\n",
       "      <td>NCBI Ortholog</td>\n",
       "    </tr>\n",
       "    <tr>\n",
       "      <th>7</th>\n",
       "      <td>54455</td>\n",
       "      <td>47</td>\n",
       "      <td>0.94</td>\n",
>>>>>>> Stashed changes
       "      <td>54455.0</td>\n",
       "      <td>FBXO42</td>\n",
       "      <td>F-box protein 42</td>\n",
       "      <td>Homo sapiens</td>\n",
       "      <td>PROTEIN_CODING</td>\n",
       "      <td>54455.0</td>\n",
       "      <td>NCBI Ortholog</td>\n",
       "    </tr>\n",
       "    <tr>\n",
<<<<<<< Updated upstream
       "      <th>2</th>\n",
       "      <td>7268</td>\n",
       "      <td>48</td>\n",
       "      <td>0.96</td>\n",
=======
       "      <th>8</th>\n",
       "      <td>7268</td>\n",
       "      <td>47</td>\n",
       "      <td>0.94</td>\n",
>>>>>>> Stashed changes
       "      <td>7268.0</td>\n",
       "      <td>TTC4</td>\n",
       "      <td>tetratricopeptide repeat domain 4</td>\n",
       "      <td>Homo sapiens</td>\n",
       "      <td>PROTEIN_CODING</td>\n",
       "      <td>7268.0</td>\n",
       "      <td>NCBI Ortholog</td>\n",
       "    </tr>\n",
       "    <tr>\n",
<<<<<<< Updated upstream
       "      <th>3</th>\n",
       "      <td>115353</td>\n",
       "      <td>48</td>\n",
       "      <td>0.96</td>\n",
       "      <td>115353.0</td>\n",
       "      <td>LRRC42</td>\n",
       "      <td>leucine rich repeat containing 42</td>\n",
       "      <td>Homo sapiens</td>\n",
       "      <td>PROTEIN_CODING</td>\n",
       "      <td>115353.0</td>\n",
       "      <td>NCBI Ortholog</td>\n",
       "    </tr>\n",
       "    <tr>\n",
       "      <th>4</th>\n",
       "      <td>5947</td>\n",
       "      <td>48</td>\n",
       "      <td>0.96</td>\n",
       "      <td>5947.0</td>\n",
       "      <td>RBP1</td>\n",
       "      <td>retinol binding protein 1</td>\n",
       "      <td>Homo sapiens</td>\n",
       "      <td>PROTEIN_CODING</td>\n",
       "      <td>5947.0</td>\n",
       "      <td>NCBI Ortholog</td>\n",
       "    </tr>\n",
       "    <tr>\n",
       "      <th>5</th>\n",
       "      <td>10489</td>\n",
       "      <td>48</td>\n",
       "      <td>0.96</td>\n",
       "      <td>10489.0</td>\n",
       "      <td>LRRC41</td>\n",
       "      <td>leucine rich repeat containing 41</td>\n",
       "      <td>Homo sapiens</td>\n",
       "      <td>PROTEIN_CODING</td>\n",
       "      <td>10489.0</td>\n",
       "      <td>NCBI Ortholog</td>\n",
       "    </tr>\n",
       "    <tr>\n",
       "      <th>6</th>\n",
       "      <td>6429</td>\n",
       "      <td>47</td>\n",
       "      <td>0.94</td>\n",
       "      <td>6429.0</td>\n",
       "      <td>SRSF4</td>\n",
       "      <td>serine and arginine rich splicing factor 4</td>\n",
       "      <td>Homo sapiens</td>\n",
       "      <td>PROTEIN_CODING</td>\n",
       "      <td>6429.0</td>\n",
       "      <td>NCBI Ortholog</td>\n",
       "    </tr>\n",
       "    <tr>\n",
       "      <th>7</th>\n",
       "      <td>55113</td>\n",
       "      <td>46</td>\n",
       "      <td>0.92</td>\n",
       "      <td>55113.0</td>\n",
       "      <td>XKR8</td>\n",
       "      <td>XK related 8</td>\n",
       "      <td>Homo sapiens</td>\n",
       "      <td>PROTEIN_CODING</td>\n",
       "      <td>55113.0</td>\n",
       "      <td>NCBI Ortholog</td>\n",
       "    </tr>\n",
       "    <tr>\n",
       "      <th>8</th>\n",
       "      <td>79730</td>\n",
       "      <td>46</td>\n",
       "      <td>0.92</td>\n",
       "      <td>79730.0</td>\n",
       "      <td>NSUN7</td>\n",
       "      <td>NOP2/Sun RNA methyltransferase family member 7</td>\n",
       "      <td>Homo sapiens</td>\n",
       "      <td>PROTEIN_CODING</td>\n",
       "      <td>79730.0</td>\n",
       "      <td>NCBI Ortholog</td>\n",
       "    </tr>\n",
       "    <tr>\n",
       "      <th>9</th>\n",
       "      <td>4802</td>\n",
       "      <td>46</td>\n",
       "      <td>0.92</td>\n",
       "      <td>4802.0</td>\n",
       "      <td>NFYC</td>\n",
       "      <td>nuclear transcription factor Y subunit gamma</td>\n",
       "      <td>Homo sapiens</td>\n",
       "      <td>PROTEIN_CODING</td>\n",
       "      <td>4802.0</td>\n",
=======
       "      <th>9</th>\n",
       "      <td>79084</td>\n",
       "      <td>45</td>\n",
       "      <td>0.90</td>\n",
       "      <td>79084.0</td>\n",
       "      <td>WDR77</td>\n",
       "      <td>WD repeat domain 77</td>\n",
       "      <td>Homo sapiens</td>\n",
       "      <td>PROTEIN_CODING</td>\n",
       "      <td>79084.0</td>\n",
>>>>>>> Stashed changes
       "      <td>NCBI Ortholog</td>\n",
       "    </tr>\n",
       "  </tbody>\n",
       "</table>\n",
       "</div>"
      ],
      "text/plain": [
<<<<<<< Updated upstream
       "   gene_id  times  occur_ratio  NCBI GeneID  Symbol  \\\n",
       "0     5690     49         0.98       5690.0   PSMB2   \n",
       "1    54455     49         0.98      54455.0  FBXO42   \n",
       "2     7268     48         0.96       7268.0    TTC4   \n",
       "3   115353     48         0.96     115353.0  LRRC42   \n",
       "4     5947     48         0.96       5947.0    RBP1   \n",
       "5    10489     48         0.96      10489.0  LRRC41   \n",
       "6     6429     47         0.94       6429.0   SRSF4   \n",
       "7    55113     46         0.92      55113.0    XKR8   \n",
       "8    79730     46         0.92      79730.0   NSUN7   \n",
       "9     4802     46         0.92       4802.0    NFYC   \n",
       "\n",
       "                                      Description Taxonomic Name  \\\n",
       "0                   proteasome 20S subunit beta 2   Homo sapiens   \n",
       "1                                F-box protein 42   Homo sapiens   \n",
       "2               tetratricopeptide repeat domain 4   Homo sapiens   \n",
       "3               leucine rich repeat containing 42   Homo sapiens   \n",
       "4                       retinol binding protein 1   Homo sapiens   \n",
       "5               leucine rich repeat containing 41   Homo sapiens   \n",
       "6      serine and arginine rich splicing factor 4   Homo sapiens   \n",
       "7                                    XK related 8   Homo sapiens   \n",
       "8  NOP2/Sun RNA methyltransferase family member 7   Homo sapiens   \n",
       "9    nuclear transcription factor Y subunit gamma   Homo sapiens   \n",
       "\n",
       "        Gene Type  Gene Group Identifier Gene Group Method  \n",
       "0  PROTEIN_CODING                 5690.0     NCBI Ortholog  \n",
       "1  PROTEIN_CODING                54455.0     NCBI Ortholog  \n",
       "2  PROTEIN_CODING                 7268.0     NCBI Ortholog  \n",
       "3  PROTEIN_CODING               115353.0     NCBI Ortholog  \n",
       "4  PROTEIN_CODING                 5947.0     NCBI Ortholog  \n",
       "5  PROTEIN_CODING                10489.0     NCBI Ortholog  \n",
       "6  PROTEIN_CODING                 6429.0     NCBI Ortholog  \n",
       "7  PROTEIN_CODING                55113.0     NCBI Ortholog  \n",
       "8  PROTEIN_CODING                79730.0     NCBI Ortholog  \n",
       "9  PROTEIN_CODING                 4802.0     NCBI Ortholog  "
      ]
     },
     "execution_count": 25,
=======
       "   gene_id  times  occur_ratio  NCBI GeneID    Symbol  \\\n",
       "0    51249     48         0.96      51249.0    TMEM69   \n",
       "1    56181     48         0.96      56181.0    MTFR1L   \n",
       "2   115353     48         0.96     115353.0    LRRC42   \n",
       "3    10489     48         0.96      10489.0    LRRC41   \n",
       "4    79730     48         0.96      79730.0     NSUN7   \n",
       "5    57212     47         0.94      57212.0  TP73-AS1   \n",
       "6     6429     47         0.94       6429.0     SRSF4   \n",
       "7    54455     47         0.94      54455.0    FBXO42   \n",
       "8     7268     47         0.94       7268.0      TTC4   \n",
       "9    79084     45         0.90      79084.0     WDR77   \n",
       "\n",
       "                                      Description Taxonomic Name  \\\n",
       "0                        transmembrane protein 69   Homo sapiens   \n",
       "1          mitochondrial fission regulator 1 like   Homo sapiens   \n",
       "2               leucine rich repeat containing 42   Homo sapiens   \n",
       "3               leucine rich repeat containing 41   Homo sapiens   \n",
       "4  NOP2/Sun RNA methyltransferase family member 7   Homo sapiens   \n",
       "5                            TP73 antisense RNA 1   Homo sapiens   \n",
       "6      serine and arginine rich splicing factor 4   Homo sapiens   \n",
       "7                                F-box protein 42   Homo sapiens   \n",
       "8               tetratricopeptide repeat domain 4   Homo sapiens   \n",
       "9                             WD repeat domain 77   Homo sapiens   \n",
       "\n",
       "        Gene Type  Gene Group Identifier Gene Group Method  \n",
       "0  PROTEIN_CODING                51249.0     NCBI Ortholog  \n",
       "1  PROTEIN_CODING                56181.0     NCBI Ortholog  \n",
       "2  PROTEIN_CODING               115353.0     NCBI Ortholog  \n",
       "3  PROTEIN_CODING                10489.0     NCBI Ortholog  \n",
       "4  PROTEIN_CODING                79730.0     NCBI Ortholog  \n",
       "5           ncRNA                57212.0     NCBI Ortholog  \n",
       "6  PROTEIN_CODING                 6429.0     NCBI Ortholog  \n",
       "7  PROTEIN_CODING                54455.0     NCBI Ortholog  \n",
       "8  PROTEIN_CODING                 7268.0     NCBI Ortholog  \n",
       "9  PROTEIN_CODING                79084.0     NCBI Ortholog  "
      ]
     },
     "execution_count": 27,
>>>>>>> Stashed changes
     "metadata": {},
     "output_type": "execute_result"
    }
   ],
   "source": [
    "df_gene_reference = pd.read_table(\"./supplement_data/gene_table.tsv\")\n",
    "df_important_gene_description = df_gene_important_more.merge(df_gene_reference, how = \"left\", left_on = \"gene_id\", right_on = \"NCBI GeneID\")\n",
    "\n",
    "# here is the table with the description:\n",
    "df_important_gene_description.head(10)"
   ]
  },
  {
   "cell_type": "code",
<<<<<<< Updated upstream
   "execution_count": 26,
=======
   "execution_count": 28,
>>>>>>> Stashed changes
   "metadata": {},
   "outputs": [
    {
     "data": {
      "text/plain": [
       "Gene Type\n",
<<<<<<< Updated upstream
       "PROTEIN_CODING    1021\n",
       "PSEUDO              18\n",
       "ncRNA               24\n",
       "Name: gene_id, dtype: int64"
      ]
     },
     "execution_count": 26,
=======
       "PROTEIN_CODING    1011\n",
       "PSEUDO              19\n",
       "ncRNA               23\n",
       "Name: gene_id, dtype: int64"
      ]
     },
     "execution_count": 28,
>>>>>>> Stashed changes
     "metadata": {},
     "output_type": "execute_result"
    }
   ],
   "source": [
    "df_important_gene_description.groupby(\"Gene Type\").gene_id.count()"
   ]
  },
  {
   "cell_type": "markdown",
   "metadata": {},
   "source": [
    "## Then what if we using left unimportant genes as features to do the prediction? "
   ]
  },
  {
   "cell_type": "code",
<<<<<<< Updated upstream
   "execution_count": 27,
   "metadata": {},
   "outputs": [
    {
     "name": "stdout",
     "output_type": "stream",
     "text": [
      "The training set accuracy score: 1.0\n",
      "The test set accuracy score: 0.968503937007874\n"
     ]
    }
   ],
=======
   "execution_count": null,
   "metadata": {},
   "outputs": [],
>>>>>>> Stashed changes
   "source": [
    "non_important_genes = set(X.columns).difference(set(df_important_gene_description.gene_id))\n",
    "\n",
    "X_non = X[non_important_genes]\n",
    "from sklearn.model_selection import train_test_split\n",
    "X_train,X_test, y_train, y_test = train_test_split(X_non,y,random_state = 42)\n",
    "rf = RandomForestClassifier(warm_start = True, n_estimators = 100)\n",
    "rf.fit(X_train,y_train)\n",
    "print(f\"The training set accuracy score: {rf.score(X_train,y_train)}\")\n",
    "print(f\"The test set accuracy score: {rf.score(X_test,y_test)}\")\n",
    "# it still have very high accuracy score, so I think we might could not looking at gene one by one, we might need to \n",
    "# cluster them or assign them into different groups. "
   ]
  },
  {
   "attachments": {},
   "cell_type": "markdown",
   "metadata": {},
   "source": [
    "### test with 1 random feature "
   ]
  },
  {
   "cell_type": "code",
   "execution_count": 28,
   "metadata": {},
   "outputs": [
    {
     "data": {
      "text/html": [
       "<div>\n",
       "<style scoped>\n",
       "    .dataframe tbody tr th:only-of-type {\n",
       "        vertical-align: middle;\n",
       "    }\n",
       "\n",
       "    .dataframe tbody tr th {\n",
       "        vertical-align: top;\n",
       "    }\n",
       "\n",
       "    .dataframe thead th {\n",
       "        text-align: right;\n",
       "    }\n",
       "</style>\n",
       "<table border=\"1\" class=\"dataframe\">\n",
       "  <thead>\n",
       "    <tr style=\"text-align: right;\">\n",
       "      <th></th>\n",
       "      <th>2517</th>\n",
       "    </tr>\n",
       "    <tr>\n",
       "      <th>PATIENT_ID</th>\n",
       "      <th></th>\n",
       "    </tr>\n",
       "  </thead>\n",
       "  <tbody>\n",
       "    <tr>\n",
       "      <th>TCGA-EZ-7264</th>\n",
       "      <td>187.373001</td>\n",
       "    </tr>\n",
       "    <tr>\n",
       "      <th>TCGA-E1-5304</th>\n",
       "      <td>83.751198</td>\n",
       "    </tr>\n",
       "    <tr>\n",
       "      <th>TCGA-HT-7875</th>\n",
       "      <td>159.257004</td>\n",
       "    </tr>\n",
       "    <tr>\n",
       "      <th>TCGA-DU-8166</th>\n",
       "      <td>197.035004</td>\n",
       "    </tr>\n",
       "    <tr>\n",
       "      <th>TCGA-HW-7490</th>\n",
       "      <td>220.604996</td>\n",
       "    </tr>\n",
       "    <tr>\n",
       "      <th>...</th>\n",
       "      <td>...</td>\n",
       "    </tr>\n",
       "    <tr>\n",
       "      <th>TCGA-DU-7015</th>\n",
       "      <td>309.446014</td>\n",
       "    </tr>\n",
       "    <tr>\n",
       "      <th>TCGA-HT-7694</th>\n",
       "      <td>222.332001</td>\n",
       "    </tr>\n",
       "    <tr>\n",
       "      <th>TCGA-P5-A5EX</th>\n",
       "      <td>508.345001</td>\n",
       "    </tr>\n",
       "    <tr>\n",
       "      <th>TCGA-S9-A7J1</th>\n",
       "      <td>266.769012</td>\n",
       "    </tr>\n",
       "    <tr>\n",
       "      <th>TCGA-DU-7010</th>\n",
       "      <td>195.298004</td>\n",
       "    </tr>\n",
       "  </tbody>\n",
       "</table>\n",
       "<p>380 rows × 1 columns</p>\n",
       "</div>"
      ],
      "text/plain": [
       "                    2517\n",
       "PATIENT_ID              \n",
       "TCGA-EZ-7264  187.373001\n",
       "TCGA-E1-5304   83.751198\n",
       "TCGA-HT-7875  159.257004\n",
       "TCGA-DU-8166  197.035004\n",
       "TCGA-HW-7490  220.604996\n",
       "...                  ...\n",
       "TCGA-DU-7015  309.446014\n",
       "TCGA-HT-7694  222.332001\n",
       "TCGA-P5-A5EX  508.345001\n",
       "TCGA-S9-A7J1  266.769012\n",
       "TCGA-DU-7010  195.298004\n",
       "\n",
       "[380 rows x 1 columns]"
      ]
     },
     "execution_count": 28,
     "metadata": {},
     "output_type": "execute_result"
    }
   ],
   "source": [
    "n = 1\n",
    "X_train_rand = X_train.sample(n=1, axis=1)\n",
    "X_train_rand"
   ]
  },
  {
   "cell_type": "code",
   "execution_count": 29,
   "metadata": {},
   "outputs": [],
   "source": [
    "rf = RandomForestClassifier()"
   ]
  },
  {
   "cell_type": "code",
   "execution_count": 30,
   "metadata": {},
   "outputs": [
    {
     "data": {
      "text/html": [
       "<style>#sk-container-id-1 {color: black;background-color: white;}#sk-container-id-1 pre{padding: 0;}#sk-container-id-1 div.sk-toggleable {background-color: white;}#sk-container-id-1 label.sk-toggleable__label {cursor: pointer;display: block;width: 100%;margin-bottom: 0;padding: 0.3em;box-sizing: border-box;text-align: center;}#sk-container-id-1 label.sk-toggleable__label-arrow:before {content: \"▸\";float: left;margin-right: 0.25em;color: #696969;}#sk-container-id-1 label.sk-toggleable__label-arrow:hover:before {color: black;}#sk-container-id-1 div.sk-estimator:hover label.sk-toggleable__label-arrow:before {color: black;}#sk-container-id-1 div.sk-toggleable__content {max-height: 0;max-width: 0;overflow: hidden;text-align: left;background-color: #f0f8ff;}#sk-container-id-1 div.sk-toggleable__content pre {margin: 0.2em;color: black;border-radius: 0.25em;background-color: #f0f8ff;}#sk-container-id-1 input.sk-toggleable__control:checked~div.sk-toggleable__content {max-height: 200px;max-width: 100%;overflow: auto;}#sk-container-id-1 input.sk-toggleable__control:checked~label.sk-toggleable__label-arrow:before {content: \"▾\";}#sk-container-id-1 div.sk-estimator input.sk-toggleable__control:checked~label.sk-toggleable__label {background-color: #d4ebff;}#sk-container-id-1 div.sk-label input.sk-toggleable__control:checked~label.sk-toggleable__label {background-color: #d4ebff;}#sk-container-id-1 input.sk-hidden--visually {border: 0;clip: rect(1px 1px 1px 1px);clip: rect(1px, 1px, 1px, 1px);height: 1px;margin: -1px;overflow: hidden;padding: 0;position: absolute;width: 1px;}#sk-container-id-1 div.sk-estimator {font-family: monospace;background-color: #f0f8ff;border: 1px dotted black;border-radius: 0.25em;box-sizing: border-box;margin-bottom: 0.5em;}#sk-container-id-1 div.sk-estimator:hover {background-color: #d4ebff;}#sk-container-id-1 div.sk-parallel-item::after {content: \"\";width: 100%;border-bottom: 1px solid gray;flex-grow: 1;}#sk-container-id-1 div.sk-label:hover label.sk-toggleable__label {background-color: #d4ebff;}#sk-container-id-1 div.sk-serial::before {content: \"\";position: absolute;border-left: 1px solid gray;box-sizing: border-box;top: 0;bottom: 0;left: 50%;z-index: 0;}#sk-container-id-1 div.sk-serial {display: flex;flex-direction: column;align-items: center;background-color: white;padding-right: 0.2em;padding-left: 0.2em;position: relative;}#sk-container-id-1 div.sk-item {position: relative;z-index: 1;}#sk-container-id-1 div.sk-parallel {display: flex;align-items: stretch;justify-content: center;background-color: white;position: relative;}#sk-container-id-1 div.sk-item::before, #sk-container-id-1 div.sk-parallel-item::before {content: \"\";position: absolute;border-left: 1px solid gray;box-sizing: border-box;top: 0;bottom: 0;left: 50%;z-index: -1;}#sk-container-id-1 div.sk-parallel-item {display: flex;flex-direction: column;z-index: 1;position: relative;background-color: white;}#sk-container-id-1 div.sk-parallel-item:first-child::after {align-self: flex-end;width: 50%;}#sk-container-id-1 div.sk-parallel-item:last-child::after {align-self: flex-start;width: 50%;}#sk-container-id-1 div.sk-parallel-item:only-child::after {width: 0;}#sk-container-id-1 div.sk-dashed-wrapped {border: 1px dashed gray;margin: 0 0.4em 0.5em 0.4em;box-sizing: border-box;padding-bottom: 0.4em;background-color: white;}#sk-container-id-1 div.sk-label label {font-family: monospace;font-weight: bold;display: inline-block;line-height: 1.2em;}#sk-container-id-1 div.sk-label-container {text-align: center;}#sk-container-id-1 div.sk-container {/* jupyter's `normalize.less` sets `[hidden] { display: none; }` but bootstrap.min.css set `[hidden] { display: none !important; }` so we also need the `!important` here to be able to override the default hidden behavior on the sphinx rendered scikit-learn.org. See: https://github.com/scikit-learn/scikit-learn/issues/21755 */display: inline-block !important;position: relative;}#sk-container-id-1 div.sk-text-repr-fallback {display: none;}</style><div id=\"sk-container-id-1\" class=\"sk-top-container\"><div class=\"sk-text-repr-fallback\"><pre>RandomForestClassifier()</pre><b>In a Jupyter environment, please rerun this cell to show the HTML representation or trust the notebook. <br />On GitHub, the HTML representation is unable to render, please try loading this page with nbviewer.org.</b></div><div class=\"sk-container\" hidden><div class=\"sk-item\"><div class=\"sk-estimator sk-toggleable\"><input class=\"sk-toggleable__control sk-hidden--visually\" id=\"sk-estimator-id-1\" type=\"checkbox\" checked><label for=\"sk-estimator-id-1\" class=\"sk-toggleable__label sk-toggleable__label-arrow\">RandomForestClassifier</label><div class=\"sk-toggleable__content\"><pre>RandomForestClassifier()</pre></div></div></div></div></div>"
      ],
      "text/plain": [
       "RandomForestClassifier()"
      ]
     },
     "execution_count": 30,
     "metadata": {},
     "output_type": "execute_result"
    }
   ],
   "source": [
    "rf.fit(X_train_rand, y_train)"
   ]
  },
  {
   "cell_type": "code",
   "execution_count": 31,
   "metadata": {},
   "outputs": [
    {
     "name": "stdout",
     "output_type": "stream",
     "text": [
      "1.0\n"
     ]
    }
   ],
   "source": [
    "print(rf.score(X_train_rand, y_train))\n"
   ]
  },
  {
   "cell_type": "markdown",
   "metadata": {},
   "source": [
    "**Notice**: It still have very high accuracy score. If there is no data leakage here, I think we might could not look at gene one by one, we might need to cluster them or assign them into different groups."
   ]
  },
  {
   "cell_type": "markdown",
   "metadata": {},
   "source": [
    "## Method 1: NMF"
   ]
  },
  {
   "cell_type": "code",
   "execution_count": 32,
   "metadata": {},
   "outputs": [],
   "source": [
    "## see another notebook: \n",
    "## Main idea: could only use non-negative data, but with different level, so could I use max - min scale? "
   ]
  },
  {
   "cell_type": "markdown",
   "metadata": {},
   "source": [
    "## Method 2: Correlation Matrix - removing correlated genes"
   ]
  },
  {
   "cell_type": "code",
<<<<<<< Updated upstream
   "execution_count": 33,
=======
   "execution_count": 23,
>>>>>>> Stashed changes
   "metadata": {},
   "outputs": [],
   "source": [
    "# remove the correlated genes and assign highly correlated gene into same group. \n",
    "\n",
    "df"
   ]
  },
  {
   "cell_type": "markdown",
   "metadata": {},
   "source": [
    "## Method 3: using NLP to cluster genes according to its description, GO terms, and then use clusters as features"
   ]
  },
  {
   "cell_type": "code",
   "execution_count": 34,
   "metadata": {},
   "outputs": [],
   "source": [
    "# cluster genes"
   ]
  },
  {
   "cell_type": "code",
   "execution_count": null,
   "metadata": {},
   "outputs": [],
   "source": []
  },
  {
   "cell_type": "code",
   "execution_count": null,
   "metadata": {},
   "outputs": [],
   "source": [
    "# Paper - r12 methods. "
   ]
  },
  {
   "cell_type": "code",
   "execution_count": 15,
   "metadata": {},
   "outputs": [
    {
     "name": "stdout",
     "output_type": "stream",
     "text": [
      "              precision    recall  f1-score   support\n",
      "\n",
      "           0       0.97      0.98      0.98        64\n",
      "           1       1.00      0.90      0.95        21\n",
      "           2       0.95      0.98      0.96        42\n",
      "\n",
      "    accuracy                           0.97       127\n",
      "   macro avg       0.97      0.96      0.96       127\n",
      "weighted avg       0.97      0.97      0.97       127\n",
      "\n",
      "Train score 0.9736842105263158 \n",
      "Test Score 0.968503937007874\n"
     ]
    }
   ],
   "source": [
    "from sklearn.linear_model import LogisticRegression\n",
    "clf = LogisticRegression(penalty='l1', multi_class='multinomial', solver='saga')\n",
    "clf.fit(X_train, y_train)\n",
    "\n",
    "# get the model coefficients\n",
    "coefficients = clf.coef_\n",
    "intercept = clf.intercept_\n",
    "y_pred = clf.predict(X_test)\n",
    "from sklearn.metrics import classification_report\n",
    "print(classification_report(y_test,y_pred))\n",
    "print(\"Train score\", clf.score(X_train, y_train), \"\\nTest Score\", clf.score(X_test, y_test))"
   ]
  },
  {
   "cell_type": "code",
   "execution_count": 27,
   "metadata": {},
   "outputs": [
    {
     "data": {
      "image/png": "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\n",
      "text/plain": [
       "<Figure size 576x684 with 1 Axes>"
      ]
     },
     "metadata": {
      "needs_background": "light"
     },
     "output_type": "display_data"
    }
   ],
   "source": [
    "explainer = shap.Explainer(clf, X_train, feature_names=X.columns)\n",
    "shap_values = explainer.shap_values(X_test)\n",
    "\n",
    "# get the table for feature_importance\n",
    "vals= np.abs(shap_values).mean(0)\n",
    "feature_importance = pd.DataFrame(list(zip(X.columns, sum(vals))), columns=['gene_id','feature_importance_vals'])\n",
    "feature_importance.sort_values(by=['feature_importance_vals'], ascending=False,inplace=True)\n",
    "feature_importance = feature_importance.reset_index(drop=True)\n",
    "\n",
    "# the plot for the data\n",
    "class_names = [\"LGG_IDHmut-non-codel\", \"LGG_IDHwt\", \"LGG_IDHmut-codel\"]\n",
    "shap.summary_plot(shap_values, X_train.values, plot_type=\"bar\", class_names= class_names, feature_names = X.columns)"
   ]
  },
  {
   "cell_type": "code",
   "execution_count": null,
   "metadata": {},
   "outputs": [],
   "source": []
  },
  {
   "attachments": {},
   "cell_type": "markdown",
   "metadata": {},
   "source": [
    "## Emile: using Logistic with L1"
   ]
  },
  {
   "cell_type": "code",
   "execution_count": 35,
   "metadata": {},
   "outputs": [],
   "source": [
    "from sklearn.linear_model import LogisticRegression"
   ]
  },
  {
   "cell_type": "code",
   "execution_count": 36,
   "metadata": {},
   "outputs": [],
   "source": [
    "clf = LogisticRegression(penalty='l1', multi_class='multinomial', solver='saga')\n",
    "clf.fit(X_train, y_train)\n",
    "\n",
    "# get the model coefficients\n",
    "coefficients = clf.coef_\n",
    "intercept = clf.intercept_"
   ]
  },
  {
   "cell_type": "code",
   "execution_count": 37,
   "metadata": {},
   "outputs": [
    {
     "name": "stdout",
     "output_type": "stream",
     "text": [
      "              precision    recall  f1-score   support\n",
      "\n",
      "           0       0.95      0.98      0.97        64\n",
      "           1       1.00      0.90      0.95        21\n",
      "           2       0.95      0.95      0.95        42\n",
      "\n",
      "    accuracy                           0.96       127\n",
      "   macro avg       0.97      0.95      0.96       127\n",
      "weighted avg       0.96      0.96      0.96       127\n",
      "\n"
     ]
    }
   ],
   "source": [
    "y_pred = clf.predict(X_test)\n",
    "from sklearn.metrics import classification_report\n",
    "print(classification_report(y_test,y_pred))"
   ]
  },
  {
   "cell_type": "code",
   "execution_count": 38,
   "metadata": {},
   "outputs": [
    {
     "name": "stdout",
     "output_type": "stream",
     "text": [
      "Train score 0.9736842105263158 \n",
      "Test Score 0.9606299212598425\n"
     ]
    }
   ],
   "source": [
    "print(\"Train score\", clf.score(X_train, y_train), \"\\nTest Score\", clf.score(X_test, y_test))"
   ]
  },
  {
   "cell_type": "code",
   "execution_count": 39,
   "metadata": {},
   "outputs": [
    {
     "data": {
      "image/png": "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",
      "text/plain": [
       "<Figure size 640x760 with 1 Axes>"
      ]
     },
     "metadata": {
      "image/png": {
       "height": 743,
       "width": 622
      }
     },
     "output_type": "display_data"
    }
   ],
   "source": [
    "explainer = shap.Explainer(clf, X_train, feature_names=X.columns)\n",
    "shap_values = explainer.shap_values(X_test)\n",
    "\n",
    "# get the table for feature_importance\n",
    "vals= np.abs(shap_values).mean(0)\n",
    "feature_importance = pd.DataFrame(list(zip(X.columns, sum(vals))), columns=['gene_id','feature_importance_vals'])\n",
    "feature_importance.sort_values(by=['feature_importance_vals'], ascending=False,inplace=True)\n",
    "feature_importance = feature_importance.reset_index(drop=True)\n",
    "\n",
    "# the plot for the data\n",
    "class_names = [\"LGG_IDHmut-non-codel\", \"LGG_IDHwt\", \"LGG_IDHmut-codel\"]\n",
    "shap.summary_plot(shap_values, X_train.values, plot_type=\"bar\", class_names= class_names, feature_names = X.columns)"
   ]
  },
  {
   "attachments": {},
   "cell_type": "markdown",
   "metadata": {},
   "source": [
    "### Logit on non important features"
   ]
  },
  {
   "cell_type": "code",
   "execution_count": 40,
   "metadata": {},
   "outputs": [
    {
     "data": {
      "text/html": [
       "<style>#sk-container-id-2 {color: black;background-color: white;}#sk-container-id-2 pre{padding: 0;}#sk-container-id-2 div.sk-toggleable {background-color: white;}#sk-container-id-2 label.sk-toggleable__label {cursor: pointer;display: block;width: 100%;margin-bottom: 0;padding: 0.3em;box-sizing: border-box;text-align: center;}#sk-container-id-2 label.sk-toggleable__label-arrow:before {content: \"▸\";float: left;margin-right: 0.25em;color: #696969;}#sk-container-id-2 label.sk-toggleable__label-arrow:hover:before {color: black;}#sk-container-id-2 div.sk-estimator:hover label.sk-toggleable__label-arrow:before {color: black;}#sk-container-id-2 div.sk-toggleable__content {max-height: 0;max-width: 0;overflow: hidden;text-align: left;background-color: #f0f8ff;}#sk-container-id-2 div.sk-toggleable__content pre {margin: 0.2em;color: black;border-radius: 0.25em;background-color: #f0f8ff;}#sk-container-id-2 input.sk-toggleable__control:checked~div.sk-toggleable__content {max-height: 200px;max-width: 100%;overflow: auto;}#sk-container-id-2 input.sk-toggleable__control:checked~label.sk-toggleable__label-arrow:before {content: \"▾\";}#sk-container-id-2 div.sk-estimator input.sk-toggleable__control:checked~label.sk-toggleable__label {background-color: #d4ebff;}#sk-container-id-2 div.sk-label input.sk-toggleable__control:checked~label.sk-toggleable__label {background-color: #d4ebff;}#sk-container-id-2 input.sk-hidden--visually {border: 0;clip: rect(1px 1px 1px 1px);clip: rect(1px, 1px, 1px, 1px);height: 1px;margin: -1px;overflow: hidden;padding: 0;position: absolute;width: 1px;}#sk-container-id-2 div.sk-estimator {font-family: monospace;background-color: #f0f8ff;border: 1px dotted black;border-radius: 0.25em;box-sizing: border-box;margin-bottom: 0.5em;}#sk-container-id-2 div.sk-estimator:hover {background-color: #d4ebff;}#sk-container-id-2 div.sk-parallel-item::after {content: \"\";width: 100%;border-bottom: 1px solid gray;flex-grow: 1;}#sk-container-id-2 div.sk-label:hover label.sk-toggleable__label {background-color: #d4ebff;}#sk-container-id-2 div.sk-serial::before {content: \"\";position: absolute;border-left: 1px solid gray;box-sizing: border-box;top: 0;bottom: 0;left: 50%;z-index: 0;}#sk-container-id-2 div.sk-serial {display: flex;flex-direction: column;align-items: center;background-color: white;padding-right: 0.2em;padding-left: 0.2em;position: relative;}#sk-container-id-2 div.sk-item {position: relative;z-index: 1;}#sk-container-id-2 div.sk-parallel {display: flex;align-items: stretch;justify-content: center;background-color: white;position: relative;}#sk-container-id-2 div.sk-item::before, #sk-container-id-2 div.sk-parallel-item::before {content: \"\";position: absolute;border-left: 1px solid gray;box-sizing: border-box;top: 0;bottom: 0;left: 50%;z-index: -1;}#sk-container-id-2 div.sk-parallel-item {display: flex;flex-direction: column;z-index: 1;position: relative;background-color: white;}#sk-container-id-2 div.sk-parallel-item:first-child::after {align-self: flex-end;width: 50%;}#sk-container-id-2 div.sk-parallel-item:last-child::after {align-self: flex-start;width: 50%;}#sk-container-id-2 div.sk-parallel-item:only-child::after {width: 0;}#sk-container-id-2 div.sk-dashed-wrapped {border: 1px dashed gray;margin: 0 0.4em 0.5em 0.4em;box-sizing: border-box;padding-bottom: 0.4em;background-color: white;}#sk-container-id-2 div.sk-label label {font-family: monospace;font-weight: bold;display: inline-block;line-height: 1.2em;}#sk-container-id-2 div.sk-label-container {text-align: center;}#sk-container-id-2 div.sk-container {/* jupyter's `normalize.less` sets `[hidden] { display: none; }` but bootstrap.min.css set `[hidden] { display: none !important; }` so we also need the `!important` here to be able to override the default hidden behavior on the sphinx rendered scikit-learn.org. See: https://github.com/scikit-learn/scikit-learn/issues/21755 */display: inline-block !important;position: relative;}#sk-container-id-2 div.sk-text-repr-fallback {display: none;}</style><div id=\"sk-container-id-2\" class=\"sk-top-container\"><div class=\"sk-text-repr-fallback\"><pre>LogisticRegression(multi_class=&#x27;multinomial&#x27;, penalty=&#x27;l1&#x27;, solver=&#x27;saga&#x27;)</pre><b>In a Jupyter environment, please rerun this cell to show the HTML representation or trust the notebook. <br />On GitHub, the HTML representation is unable to render, please try loading this page with nbviewer.org.</b></div><div class=\"sk-container\" hidden><div class=\"sk-item\"><div class=\"sk-estimator sk-toggleable\"><input class=\"sk-toggleable__control sk-hidden--visually\" id=\"sk-estimator-id-2\" type=\"checkbox\" checked><label for=\"sk-estimator-id-2\" class=\"sk-toggleable__label sk-toggleable__label-arrow\">LogisticRegression</label><div class=\"sk-toggleable__content\"><pre>LogisticRegression(multi_class=&#x27;multinomial&#x27;, penalty=&#x27;l1&#x27;, solver=&#x27;saga&#x27;)</pre></div></div></div></div></div>"
      ],
      "text/plain": [
       "LogisticRegression(multi_class='multinomial', penalty='l1', solver='saga')"
      ]
     },
     "execution_count": 40,
     "metadata": {},
     "output_type": "execute_result"
    }
   ],
   "source": [
    "non_important_genes = set(X.columns).difference(set(df_important_gene_description.gene_id))\n",
    "\n",
    "X_non = X[non_important_genes]\n",
    "from sklearn.model_selection import train_test_split\n",
    "X_train,X_test, y_train, y_test = train_test_split(X_non,y,random_state = 42)\n",
    "\n",
    "clf = LogisticRegression(penalty='l1', multi_class='multinomial', solver='saga')\n",
    "clf.fit(X_train, y_train)"
   ]
  },
  {
   "cell_type": "code",
   "execution_count": 42,
   "metadata": {},
   "outputs": [
    {
     "name": "stdout",
     "output_type": "stream",
     "text": [
      "The training set accuracy score: 0.9736842105263158\n",
      "The test set accuracy score: 0.9606299212598425\n"
     ]
    }
   ],
   "source": [
    "print(f\"The training set accuracy score: {clf.score(X_train,y_train)}\")\n",
    "print(f\"The test set accuracy score: {clf.score(X_test,y_test)}\")"
   ]
  }
 ],
 "metadata": {
  "kernelspec": {
   "display_name": "Python 3",
   "language": "python",
   "name": "python3"
  },
  "language_info": {
   "codemirror_mode": {
    "name": "ipython",
    "version": 3
   },
   "file_extension": ".py",
   "mimetype": "text/x-python",
   "name": "python",
   "nbconvert_exporter": "python",
   "pygments_lexer": "ipython3",
   "version": "3.10.10"
  }
 },
 "nbformat": 4,
 "nbformat_minor": 4
}
