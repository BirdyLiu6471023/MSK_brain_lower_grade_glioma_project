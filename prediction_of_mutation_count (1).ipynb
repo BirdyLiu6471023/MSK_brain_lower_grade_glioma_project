{
  "cells": [
    {
      "cell_type": "markdown",
      "metadata": {
        "id": "ORrsw2c4h2Vz"
      },
      "source": [
        "## Basic Information (Brain Lower Grade Glioma)\n",
        "\n",
        "Jin Liu"
      ]
    },
    {
      "cell_type": "code",
      "execution_count": 1,
      "metadata": {
        "id": "kDHtfDN8h2V1"
      },
      "outputs": [],
      "source": [
        "import numpy as np \n",
        "import pandas as pd \n",
        "import matplotlib.pyplot as plt\n",
        "import warnings\n",
        "warnings.filterwarnings(\"ignore\")\n",
        "%matplotlib inline\n",
        "\n",
        "from sklearn.model_selection import train_test_split\n",
        "from sklearn.linear_model import LinearRegression\n",
        "from sklearn.metrics import mean_squared_error\n",
        "from sklearn.linear_model import LogisticRegression\n",
        "from sklearn.metrics import accuracy_score\n",
        "\n",
        "from sklearn.cluster import KMeans\n",
        "import seaborn as sns\n",
        "from sklearn.metrics import silhouette_score\n",
        "from sklearn.ensemble import RandomForestRegressor\n",
        "\n",
        "from sklearn.feature_selection import RFE\n",
        "from sklearn.datasets import make_friedman1\n",
        "from sklearn.preprocessing import StandardScaler"
      ]
    },
    {
      "cell_type": "markdown",
      "metadata": {
        "id": "uh63a1P_h2V2"
      },
      "source": [
        "## Gene Data"
      ]
    },
    {
      "cell_type": "code",
      "execution_count": 2,
      "metadata": {
        "colab": {
          "base_uri": "https://localhost:8080/"
        },
        "id": "DsDBXUcsh2V3",
        "outputId": "05120e92-f6ae-455e-8b4a-81645bc09dc5"
      },
      "outputs": [
        {
          "output_type": "stream",
          "name": "stdout",
          "text": [
            "Mounted at /content/drive\n"
          ]
        }
      ],
      "source": [
        "# read the gene expression data: \n",
        "# Mount the Google Drive to access files\n",
        "from google.colab import drive\n",
        "drive.mount('/content/drive')\n",
        "\n",
        "# Change directory to the location of the file\n",
        "import os\n",
        "os.chdir('/content/drive/My Drive/prediction_mutation_count')\n",
        "\n",
        "# Load the TSV file using pandas\n",
        "import pandas as pd\n",
        "raw_data_rna = pd.read_csv('data_mrna_seq_v2_rsem.txt', sep='\\t')\n",
        "\n"
      ]
    },
    {
      "cell_type": "code",
      "execution_count": 3,
      "metadata": {
        "colab": {
          "base_uri": "https://localhost:8080/"
        },
        "id": "x4sJ_Ac4h2V3",
        "outputId": "62ec0c3c-8ddf-452a-aac0-71fbd07a97aa"
      },
      "outputs": [
        {
          "output_type": "stream",
          "name": "stdout",
          "text": [
            "There are 0 genes has no ids\n",
            "we would use Entrez_Gene_Id as name of gene with a correponding dictionary table\n"
          ]
        }
      ],
      "source": [
        "# choosing Entrez_Gene_Id as column because: \n",
        "print(f\"There are {len(raw_data_rna[raw_data_rna.Entrez_Gene_Id.isna()])} genes has no ids\")\n",
        "print(\"we would use Entrez_Gene_Id as name of gene with a correponding dictionary table\")\n",
        "gene_symbol_id = raw_data_rna.iloc[:,:2].copy()"
      ]
    },
    {
      "cell_type": "code",
      "execution_count": 4,
      "metadata": {
        "colab": {
          "base_uri": "https://localhost:8080/",
          "height": 404
        },
        "id": "KYJQt4SIh2V4",
        "outputId": "d0ba4a5f-431a-4368-c51a-48fbb61be8f2"
      },
      "outputs": [
        {
          "output_type": "stream",
          "name": "stdout",
          "text": [
            "There are 514 samples in total, and there are 20531 genes in total.\n"
          ]
        },
        {
          "output_type": "execute_result",
          "data": {
            "text/plain": [
              "Entrez_Gene_Id   100130426  100133144  100134869  10357      10431      \\\n",
              "TCGA-CS-4938-01        0.0     8.7141    22.7523    268.576    845.815   \n",
              "TCGA-CS-4941-01        0.0    36.4493    21.1767    156.687    390.269   \n",
              "TCGA-CS-4942-01        0.0    11.8131    11.0242    185.138    621.453   \n",
              "TCGA-CS-4943-01        0.0     8.6116     5.0835    269.836    835.729   \n",
              "TCGA-CS-4944-01        0.0     0.0000    30.2610    216.341    812.508   \n",
              "\n",
              "Entrez_Gene_Id   136542     155060     26823      280660     317712     ...  \\\n",
              "TCGA-CS-4938-01        0.0    182.505     0.4196        0.0        0.0  ...   \n",
              "TCGA-CS-4941-01        0.0    325.052     1.7253        0.0        0.0  ...   \n",
              "TCGA-CS-4942-01        0.0    131.142     0.0000        0.0        0.0  ...   \n",
              "TCGA-CS-4943-01        0.0     83.475     0.3261        0.0        0.0  ...   \n",
              "TCGA-CS-4944-01        0.0     80.696     0.0000        0.0        0.0  ...   \n",
              "\n",
              "Entrez_Gene_Id   55055      11130      7789       158586     79364      \\\n",
              "TCGA-CS-4938-01    80.1636    50.3461    64.1913    523.180    1311.52   \n",
              "TCGA-CS-4941-01   187.2980   110.4210   105.9350    467.564    1226.71   \n",
              "TCGA-CS-4942-01   120.0310   186.5050   115.2250    454.325    1102.42   \n",
              "TCGA-CS-4943-01   667.4480  1183.6500    89.0183    491.068    1288.32   \n",
              "TCGA-CS-4944-01    57.3244    56.4872    42.3654    323.793    1012.73   \n",
              "\n",
              "Entrez_Gene_Id   440590     79699      7791       23140      26009      \n",
              "TCGA-CS-4938-01     0.0000    1495.70    1598.91   1171.810    836.165  \n",
              "TCGA-CS-4941-01     0.3451    1751.21    3889.92   1707.730   1015.530  \n",
              "TCGA-CS-4942-01     0.3460    1586.16    2214.53   1423.880    706.920  \n",
              "TCGA-CS-4943-01     3.2607    1760.15    2131.55   1916.990    689.321  \n",
              "TCGA-CS-4944-01     0.5044    1225.07    1692.60    729.794    456.941  \n",
              "\n",
              "[5 rows x 20531 columns]"
            ],
            "text/html": [
              "\n",
              "  <div id=\"df-4ae2530e-dadd-435c-98b5-a8ea7c232492\">\n",
              "    <div class=\"colab-df-container\">\n",
              "      <div>\n",
              "<style scoped>\n",
              "    .dataframe tbody tr th:only-of-type {\n",
              "        vertical-align: middle;\n",
              "    }\n",
              "\n",
              "    .dataframe tbody tr th {\n",
              "        vertical-align: top;\n",
              "    }\n",
              "\n",
              "    .dataframe thead th {\n",
              "        text-align: right;\n",
              "    }\n",
              "</style>\n",
              "<table border=\"1\" class=\"dataframe\">\n",
              "  <thead>\n",
              "    <tr style=\"text-align: right;\">\n",
              "      <th>Entrez_Gene_Id</th>\n",
              "      <th>100130426</th>\n",
              "      <th>100133144</th>\n",
              "      <th>100134869</th>\n",
              "      <th>10357</th>\n",
              "      <th>10431</th>\n",
              "      <th>136542</th>\n",
              "      <th>155060</th>\n",
              "      <th>26823</th>\n",
              "      <th>280660</th>\n",
              "      <th>317712</th>\n",
              "      <th>...</th>\n",
              "      <th>55055</th>\n",
              "      <th>11130</th>\n",
              "      <th>7789</th>\n",
              "      <th>158586</th>\n",
              "      <th>79364</th>\n",
              "      <th>440590</th>\n",
              "      <th>79699</th>\n",
              "      <th>7791</th>\n",
              "      <th>23140</th>\n",
              "      <th>26009</th>\n",
              "    </tr>\n",
              "  </thead>\n",
              "  <tbody>\n",
              "    <tr>\n",
              "      <th>TCGA-CS-4938-01</th>\n",
              "      <td>0.0</td>\n",
              "      <td>8.7141</td>\n",
              "      <td>22.7523</td>\n",
              "      <td>268.576</td>\n",
              "      <td>845.815</td>\n",
              "      <td>0.0</td>\n",
              "      <td>182.505</td>\n",
              "      <td>0.4196</td>\n",
              "      <td>0.0</td>\n",
              "      <td>0.0</td>\n",
              "      <td>...</td>\n",
              "      <td>80.1636</td>\n",
              "      <td>50.3461</td>\n",
              "      <td>64.1913</td>\n",
              "      <td>523.180</td>\n",
              "      <td>1311.52</td>\n",
              "      <td>0.0000</td>\n",
              "      <td>1495.70</td>\n",
              "      <td>1598.91</td>\n",
              "      <td>1171.810</td>\n",
              "      <td>836.165</td>\n",
              "    </tr>\n",
              "    <tr>\n",
              "      <th>TCGA-CS-4941-01</th>\n",
              "      <td>0.0</td>\n",
              "      <td>36.4493</td>\n",
              "      <td>21.1767</td>\n",
              "      <td>156.687</td>\n",
              "      <td>390.269</td>\n",
              "      <td>0.0</td>\n",
              "      <td>325.052</td>\n",
              "      <td>1.7253</td>\n",
              "      <td>0.0</td>\n",
              "      <td>0.0</td>\n",
              "      <td>...</td>\n",
              "      <td>187.2980</td>\n",
              "      <td>110.4210</td>\n",
              "      <td>105.9350</td>\n",
              "      <td>467.564</td>\n",
              "      <td>1226.71</td>\n",
              "      <td>0.3451</td>\n",
              "      <td>1751.21</td>\n",
              "      <td>3889.92</td>\n",
              "      <td>1707.730</td>\n",
              "      <td>1015.530</td>\n",
              "    </tr>\n",
              "    <tr>\n",
              "      <th>TCGA-CS-4942-01</th>\n",
              "      <td>0.0</td>\n",
              "      <td>11.8131</td>\n",
              "      <td>11.0242</td>\n",
              "      <td>185.138</td>\n",
              "      <td>621.453</td>\n",
              "      <td>0.0</td>\n",
              "      <td>131.142</td>\n",
              "      <td>0.0000</td>\n",
              "      <td>0.0</td>\n",
              "      <td>0.0</td>\n",
              "      <td>...</td>\n",
              "      <td>120.0310</td>\n",
              "      <td>186.5050</td>\n",
              "      <td>115.2250</td>\n",
              "      <td>454.325</td>\n",
              "      <td>1102.42</td>\n",
              "      <td>0.3460</td>\n",
              "      <td>1586.16</td>\n",
              "      <td>2214.53</td>\n",
              "      <td>1423.880</td>\n",
              "      <td>706.920</td>\n",
              "    </tr>\n",
              "    <tr>\n",
              "      <th>TCGA-CS-4943-01</th>\n",
              "      <td>0.0</td>\n",
              "      <td>8.6116</td>\n",
              "      <td>5.0835</td>\n",
              "      <td>269.836</td>\n",
              "      <td>835.729</td>\n",
              "      <td>0.0</td>\n",
              "      <td>83.475</td>\n",
              "      <td>0.3261</td>\n",
              "      <td>0.0</td>\n",
              "      <td>0.0</td>\n",
              "      <td>...</td>\n",
              "      <td>667.4480</td>\n",
              "      <td>1183.6500</td>\n",
              "      <td>89.0183</td>\n",
              "      <td>491.068</td>\n",
              "      <td>1288.32</td>\n",
              "      <td>3.2607</td>\n",
              "      <td>1760.15</td>\n",
              "      <td>2131.55</td>\n",
              "      <td>1916.990</td>\n",
              "      <td>689.321</td>\n",
              "    </tr>\n",
              "    <tr>\n",
              "      <th>TCGA-CS-4944-01</th>\n",
              "      <td>0.0</td>\n",
              "      <td>0.0000</td>\n",
              "      <td>30.2610</td>\n",
              "      <td>216.341</td>\n",
              "      <td>812.508</td>\n",
              "      <td>0.0</td>\n",
              "      <td>80.696</td>\n",
              "      <td>0.0000</td>\n",
              "      <td>0.0</td>\n",
              "      <td>0.0</td>\n",
              "      <td>...</td>\n",
              "      <td>57.3244</td>\n",
              "      <td>56.4872</td>\n",
              "      <td>42.3654</td>\n",
              "      <td>323.793</td>\n",
              "      <td>1012.73</td>\n",
              "      <td>0.5044</td>\n",
              "      <td>1225.07</td>\n",
              "      <td>1692.60</td>\n",
              "      <td>729.794</td>\n",
              "      <td>456.941</td>\n",
              "    </tr>\n",
              "  </tbody>\n",
              "</table>\n",
              "<p>5 rows × 20531 columns</p>\n",
              "</div>\n",
              "      <button class=\"colab-df-convert\" onclick=\"convertToInteractive('df-4ae2530e-dadd-435c-98b5-a8ea7c232492')\"\n",
              "              title=\"Convert this dataframe to an interactive table.\"\n",
              "              style=\"display:none;\">\n",
              "        \n",
              "  <svg xmlns=\"http://www.w3.org/2000/svg\" height=\"24px\"viewBox=\"0 0 24 24\"\n",
              "       width=\"24px\">\n",
              "    <path d=\"M0 0h24v24H0V0z\" fill=\"none\"/>\n",
              "    <path d=\"M18.56 5.44l.94 2.06.94-2.06 2.06-.94-2.06-.94-.94-2.06-.94 2.06-2.06.94zm-11 1L8.5 8.5l.94-2.06 2.06-.94-2.06-.94L8.5 2.5l-.94 2.06-2.06.94zm10 10l.94 2.06.94-2.06 2.06-.94-2.06-.94-.94-2.06-.94 2.06-2.06.94z\"/><path d=\"M17.41 7.96l-1.37-1.37c-.4-.4-.92-.59-1.43-.59-.52 0-1.04.2-1.43.59L10.3 9.45l-7.72 7.72c-.78.78-.78 2.05 0 2.83L4 21.41c.39.39.9.59 1.41.59.51 0 1.02-.2 1.41-.59l7.78-7.78 2.81-2.81c.8-.78.8-2.07 0-2.86zM5.41 20L4 18.59l7.72-7.72 1.47 1.35L5.41 20z\"/>\n",
              "  </svg>\n",
              "      </button>\n",
              "      \n",
              "  <style>\n",
              "    .colab-df-container {\n",
              "      display:flex;\n",
              "      flex-wrap:wrap;\n",
              "      gap: 12px;\n",
              "    }\n",
              "\n",
              "    .colab-df-convert {\n",
              "      background-color: #E8F0FE;\n",
              "      border: none;\n",
              "      border-radius: 50%;\n",
              "      cursor: pointer;\n",
              "      display: none;\n",
              "      fill: #1967D2;\n",
              "      height: 32px;\n",
              "      padding: 0 0 0 0;\n",
              "      width: 32px;\n",
              "    }\n",
              "\n",
              "    .colab-df-convert:hover {\n",
              "      background-color: #E2EBFA;\n",
              "      box-shadow: 0px 1px 2px rgba(60, 64, 67, 0.3), 0px 1px 3px 1px rgba(60, 64, 67, 0.15);\n",
              "      fill: #174EA6;\n",
              "    }\n",
              "\n",
              "    [theme=dark] .colab-df-convert {\n",
              "      background-color: #3B4455;\n",
              "      fill: #D2E3FC;\n",
              "    }\n",
              "\n",
              "    [theme=dark] .colab-df-convert:hover {\n",
              "      background-color: #434B5C;\n",
              "      box-shadow: 0px 1px 3px 1px rgba(0, 0, 0, 0.15);\n",
              "      filter: drop-shadow(0px 1px 2px rgba(0, 0, 0, 0.3));\n",
              "      fill: #FFFFFF;\n",
              "    }\n",
              "  </style>\n",
              "\n",
              "      <script>\n",
              "        const buttonEl =\n",
              "          document.querySelector('#df-4ae2530e-dadd-435c-98b5-a8ea7c232492 button.colab-df-convert');\n",
              "        buttonEl.style.display =\n",
              "          google.colab.kernel.accessAllowed ? 'block' : 'none';\n",
              "\n",
              "        async function convertToInteractive(key) {\n",
              "          const element = document.querySelector('#df-4ae2530e-dadd-435c-98b5-a8ea7c232492');\n",
              "          const dataTable =\n",
              "            await google.colab.kernel.invokeFunction('convertToInteractive',\n",
              "                                                     [key], {});\n",
              "          if (!dataTable) return;\n",
              "\n",
              "          const docLinkHtml = 'Like what you see? Visit the ' +\n",
              "            '<a target=\"_blank\" href=https://colab.research.google.com/notebooks/data_table.ipynb>data table notebook</a>'\n",
              "            + ' to learn more about interactive tables.';\n",
              "          element.innerHTML = '';\n",
              "          dataTable['output_type'] = 'display_data';\n",
              "          await google.colab.output.renderOutput(dataTable, element);\n",
              "          const docLink = document.createElement('div');\n",
              "          docLink.innerHTML = docLinkHtml;\n",
              "          element.appendChild(docLink);\n",
              "        }\n",
              "      </script>\n",
              "    </div>\n",
              "  </div>\n",
              "  "
            ]
          },
          "metadata": {},
          "execution_count": 4
        }
      ],
      "source": [
        "# transpose the data and make the gene id as the column names: \n",
        "df_clean = raw_data_rna.set_index(\"Entrez_Gene_Id\").drop(\"Hugo_Symbol\", axis = 1).transpose()\n",
        "print(f\"There are {len(df_clean)} samples in total, and there are {len(df_clean.columns)} genes in total.\")\n",
        "df_clean.head()"
      ]
    },
    {
      "cell_type": "code",
      "execution_count": 5,
      "metadata": {
        "id": "GuGsTmXW1D6R",
        "colab": {
          "base_uri": "https://localhost:8080/"
        },
        "outputId": "2777663d-e0ef-48e7-8bf2-f3ad0540e186"
      },
      "outputs": [
        {
          "output_type": "execute_result",
          "data": {
            "text/plain": [
              "(514, 20531)"
            ]
          },
          "metadata": {},
          "execution_count": 5
        }
      ],
      "source": [
        "df_clean.shape"
      ]
    },
    {
      "cell_type": "markdown",
      "metadata": {
        "id": "y6RD2Jnah2V5"
      },
      "source": [
        "## Clinical Patient"
      ]
    },
    {
      "cell_type": "code",
      "execution_count": 6,
      "metadata": {
        "colab": {
          "base_uri": "https://localhost:8080/"
        },
        "id": "WGoK_qG5h2V5",
        "outputId": "57857e3c-eec4-4c47-a0f3-32b044989633"
      },
      "outputs": [
        {
          "output_type": "stream",
          "name": "stdout",
          "text": [
            "Drive already mounted at /content/drive; to attempt to forcibly remount, call drive.mount(\"/content/drive\", force_remount=True).\n"
          ]
        }
      ],
      "source": [
        "drive.mount('/content/drive')\n",
        "os.chdir('/content/drive/My Drive/prediction_mutation_count')\n",
        "df_patient = pd.read_csv('data_clinical_sample.txt', sep='\\t')\n",
        "df_sample2 = pd.read_csv('Clinical_Data.tsv', sep='\\t')\n"
      ]
    },
    {
      "cell_type": "code",
      "execution_count": 7,
      "metadata": {
        "id": "k_6esRcoh2V5"
      },
      "outputs": [],
      "source": [
        "df_patient.columns = df_patient.iloc[3,:]\n",
        "df_patient = df_patient.drop([0,1,2,3], axis = 0)\n",
        "df_patient = df_patient.reset_index().drop([\"index\"], axis = 1)"
      ]
    },
    {
      "cell_type": "code",
      "execution_count": 8,
      "metadata": {
        "id": "65urufoTh2V5"
      },
      "outputs": [],
      "source": [
        "df_full_patient = df_patient.merge(df_sample2, left_on = \"PATIENT_ID\", right_on = \"Patient ID\", how = \"left\")"
      ]
    },
    {
      "cell_type": "code",
      "execution_count": 9,
      "metadata": {
        "id": "mOOvNX_rh2V6"
      },
      "outputs": [],
      "source": [
        "df_full_patient = df_full_patient.drop(['Patient ID', 'Sample ID','Cancer Type Detailed','Tumor Type', 'Aneuploidy Score'], axis = 1)"
      ]
    },
    {
      "cell_type": "code",
      "execution_count": 10,
      "metadata": {
        "colab": {
          "base_uri": "https://localhost:8080/"
        },
        "id": "1V56IqzssrW5",
        "outputId": "d2102e11-10c0-4055-b800-90657efcb07f"
      },
      "outputs": [
        {
          "output_type": "execute_result",
          "data": {
            "text/plain": [
              "Index(['PATIENT_ID', 'SAMPLE_ID', 'ONCOTREE_CODE', 'CANCER_TYPE',\n",
              "       'CANCER_TYPE_DETAILED', 'TUMOR_TYPE', 'GRADE',\n",
              "       'TISSUE_PROSPECTIVE_COLLECTION_INDICATOR',\n",
              "       'TISSUE_RETROSPECTIVE_COLLECTION_INDICATOR', 'TISSUE_SOURCE_SITE_CODE',\n",
              "       'TUMOR_TISSUE_SITE', 'ANEUPLOIDY_SCORE', 'SAMPLE_TYPE',\n",
              "       'MSI_SCORE_MANTIS', 'MSI_SENSOR_SCORE', 'SOMATIC_STATUS',\n",
              "       'TMB_NONSYNONYMOUS', 'TISSUE_SOURCE_SITE', 'Mutation Count',\n",
              "       'Fraction Genome Altered', 'Diagnosis Age', 'MSI MANTIS Score',\n",
              "       'MSIsensor Score', 'Overall Survival Status', 'Sex',\n",
              "       'Ethnicity Category', 'Race Category', 'Subtype',\n",
              "       'Birth from Initial Pathologic Diagnosis Date', 'Buffa Hypoxia Score',\n",
              "       'Somatic Status'],\n",
              "      dtype='object')"
            ]
          },
          "metadata": {},
          "execution_count": 10
        }
      ],
      "source": [
        "df_full_patient.columns"
      ]
    },
    {
      "cell_type": "code",
      "source": [
        "df_full_patient.shape"
      ],
      "metadata": {
        "colab": {
          "base_uri": "https://localhost:8080/"
        },
        "id": "-Gx2om9p-VNI",
        "outputId": "7f7276af-eadc-4898-9899-b8e95db7d94b"
      },
      "execution_count": 11,
      "outputs": [
        {
          "output_type": "execute_result",
          "data": {
            "text/plain": [
              "(514, 31)"
            ]
          },
          "metadata": {},
          "execution_count": 11
        }
      ]
    },
    {
      "cell_type": "markdown",
      "metadata": {
        "id": "mS-r_sbgh2V6"
      },
      "source": [
        "Merging Gene data and Clinical Data"
      ]
    },
    {
      "cell_type": "code",
      "execution_count": 12,
      "metadata": {
        "id": "wwP5wz5hh2V6"
      },
      "outputs": [],
      "source": [
        "df_clean = df_clean.reset_index().rename(columns={'index': 'Entrez_Gene_Id'})\n"
      ]
    },
    {
      "cell_type": "code",
      "execution_count": 13,
      "metadata": {
        "id": "jrGG-IjTh2V6",
        "scrolled": true
      },
      "outputs": [],
      "source": [
        "# Drop duplicate rows based on the Entrez_Gene_Id column\n",
        "df_clean = df_clean.drop_duplicates(subset='Entrez_Gene_Id')\n",
        "\n",
        "df_mutation = df_full_patient[['SAMPLE_ID','Mutation Count']]\n",
        "\n",
        "# Merge the two dataframes on the patient identifier and gene ID columns\n",
        "merged_df = pd.merge(df_clean, df_mutation, left_on='Entrez_Gene_Id', right_on='SAMPLE_ID').drop('SAMPLE_ID', axis=1)"
      ]
    },
    {
      "cell_type": "code",
      "execution_count": 14,
      "metadata": {
        "colab": {
          "base_uri": "https://localhost:8080/",
          "height": 679
        },
        "id": "qAxBaNfqCWMZ",
        "outputId": "e8fc44f8-cc8a-44f0-f677-5f51d038f9b2"
      },
      "outputs": [
        {
          "output_type": "execute_result",
          "data": {
            "text/plain": [
              "      Entrez_Gene_Id  100130426  100133144  100134869    10357    10431  \\\n",
              "0    TCGA-CS-4938-01        0.0     8.7141    22.7523  268.576  845.815   \n",
              "1    TCGA-CS-4941-01        0.0    36.4493    21.1767  156.687  390.269   \n",
              "2    TCGA-CS-4942-01        0.0    11.8131    11.0242  185.138  621.453   \n",
              "3    TCGA-CS-4943-01        0.0     8.6116     5.0835  269.836  835.729   \n",
              "4    TCGA-CS-4944-01        0.0     0.0000    30.2610  216.341  812.508   \n",
              "..               ...        ...        ...        ...      ...      ...   \n",
              "509  TCGA-WY-A85A-01        0.0     5.4526    16.1890  124.919  658.221   \n",
              "510  TCGA-WY-A85B-01        0.0     8.2616    19.7074  133.739  662.651   \n",
              "511  TCGA-WY-A85C-01        0.0    11.5121    18.7291  120.924  524.724   \n",
              "512  TCGA-WY-A85D-01        0.0     5.3895     8.9103  107.254  705.128   \n",
              "513  TCGA-WY-A85E-01        0.0     9.9433     7.4480  143.006  748.582   \n",
              "\n",
              "     136542    155060   26823  280660  ...      11130      7789   158586  \\\n",
              "0       0.0   182.505  0.4196     0.0  ...    50.3461   64.1913  523.180   \n",
              "1       0.0   325.052  1.7253     0.0  ...   110.4210  105.9350  467.564   \n",
              "2       0.0   131.142  0.0000     0.0  ...   186.5050  115.2250  454.325   \n",
              "3       0.0    83.475  0.3261     0.0  ...  1183.6500   89.0183  491.068   \n",
              "4       0.0    80.696  0.0000     0.0  ...    56.4872   42.3654  323.793   \n",
              "..      ...       ...     ...     ...  ...        ...       ...      ...   \n",
              "509     0.0   540.512  1.0557     0.0  ...    97.1233   53.8401  351.016   \n",
              "510     0.0   610.155  2.1515     0.0  ...   349.3980   60.2410  503.012   \n",
              "511     0.0   837.760  3.2693     0.0  ...    78.0548   76.4201  530.854   \n",
              "512     0.0   805.720  0.4931     0.0  ...   111.9330   35.0099  312.130   \n",
              "513     0.0  1194.330  1.1342     0.0  ...   362.5710   55.5766  384.121   \n",
              "\n",
              "        79364  440590    79699     7791     23140     26009  Mutation Count  \n",
              "0    1311.520  0.0000  1495.70  1598.91  1171.810   836.165            14.0  \n",
              "1    1226.710  0.3451  1751.21  3889.92  1707.730  1015.530            43.0  \n",
              "2    1102.420  0.3460  1586.16  2214.53  1423.880   706.920            25.0  \n",
              "3    1288.320  3.2607  1760.15  2131.55  1916.990   689.321            24.0  \n",
              "4    1012.730  0.5044  1225.07  1692.60   729.794   456.941            21.0  \n",
              "..        ...     ...      ...      ...       ...       ...             ...  \n",
              "509  1263.130  0.0000  1491.69  1497.49  1556.080   664.555            14.0  \n",
              "510  1347.680  0.8606  1443.63  1574.87  1685.890   836.919            13.0  \n",
              "511  1556.190  2.8606  1855.74  1927.67  2006.130   910.094            27.0  \n",
              "512  1456.110  0.0000  1222.88  1706.11  1429.490   771.203            31.0  \n",
              "513   727.788  3.4026  1653.69  2043.86  1434.400   626.465            58.0  \n",
              "\n",
              "[514 rows x 20533 columns]"
            ],
            "text/html": [
              "\n",
              "  <div id=\"df-8c503f16-b694-433d-92d2-07421304eb0a\">\n",
              "    <div class=\"colab-df-container\">\n",
              "      <div>\n",
              "<style scoped>\n",
              "    .dataframe tbody tr th:only-of-type {\n",
              "        vertical-align: middle;\n",
              "    }\n",
              "\n",
              "    .dataframe tbody tr th {\n",
              "        vertical-align: top;\n",
              "    }\n",
              "\n",
              "    .dataframe thead th {\n",
              "        text-align: right;\n",
              "    }\n",
              "</style>\n",
              "<table border=\"1\" class=\"dataframe\">\n",
              "  <thead>\n",
              "    <tr style=\"text-align: right;\">\n",
              "      <th></th>\n",
              "      <th>Entrez_Gene_Id</th>\n",
              "      <th>100130426</th>\n",
              "      <th>100133144</th>\n",
              "      <th>100134869</th>\n",
              "      <th>10357</th>\n",
              "      <th>10431</th>\n",
              "      <th>136542</th>\n",
              "      <th>155060</th>\n",
              "      <th>26823</th>\n",
              "      <th>280660</th>\n",
              "      <th>...</th>\n",
              "      <th>11130</th>\n",
              "      <th>7789</th>\n",
              "      <th>158586</th>\n",
              "      <th>79364</th>\n",
              "      <th>440590</th>\n",
              "      <th>79699</th>\n",
              "      <th>7791</th>\n",
              "      <th>23140</th>\n",
              "      <th>26009</th>\n",
              "      <th>Mutation Count</th>\n",
              "    </tr>\n",
              "  </thead>\n",
              "  <tbody>\n",
              "    <tr>\n",
              "      <th>0</th>\n",
              "      <td>TCGA-CS-4938-01</td>\n",
              "      <td>0.0</td>\n",
              "      <td>8.7141</td>\n",
              "      <td>22.7523</td>\n",
              "      <td>268.576</td>\n",
              "      <td>845.815</td>\n",
              "      <td>0.0</td>\n",
              "      <td>182.505</td>\n",
              "      <td>0.4196</td>\n",
              "      <td>0.0</td>\n",
              "      <td>...</td>\n",
              "      <td>50.3461</td>\n",
              "      <td>64.1913</td>\n",
              "      <td>523.180</td>\n",
              "      <td>1311.520</td>\n",
              "      <td>0.0000</td>\n",
              "      <td>1495.70</td>\n",
              "      <td>1598.91</td>\n",
              "      <td>1171.810</td>\n",
              "      <td>836.165</td>\n",
              "      <td>14.0</td>\n",
              "    </tr>\n",
              "    <tr>\n",
              "      <th>1</th>\n",
              "      <td>TCGA-CS-4941-01</td>\n",
              "      <td>0.0</td>\n",
              "      <td>36.4493</td>\n",
              "      <td>21.1767</td>\n",
              "      <td>156.687</td>\n",
              "      <td>390.269</td>\n",
              "      <td>0.0</td>\n",
              "      <td>325.052</td>\n",
              "      <td>1.7253</td>\n",
              "      <td>0.0</td>\n",
              "      <td>...</td>\n",
              "      <td>110.4210</td>\n",
              "      <td>105.9350</td>\n",
              "      <td>467.564</td>\n",
              "      <td>1226.710</td>\n",
              "      <td>0.3451</td>\n",
              "      <td>1751.21</td>\n",
              "      <td>3889.92</td>\n",
              "      <td>1707.730</td>\n",
              "      <td>1015.530</td>\n",
              "      <td>43.0</td>\n",
              "    </tr>\n",
              "    <tr>\n",
              "      <th>2</th>\n",
              "      <td>TCGA-CS-4942-01</td>\n",
              "      <td>0.0</td>\n",
              "      <td>11.8131</td>\n",
              "      <td>11.0242</td>\n",
              "      <td>185.138</td>\n",
              "      <td>621.453</td>\n",
              "      <td>0.0</td>\n",
              "      <td>131.142</td>\n",
              "      <td>0.0000</td>\n",
              "      <td>0.0</td>\n",
              "      <td>...</td>\n",
              "      <td>186.5050</td>\n",
              "      <td>115.2250</td>\n",
              "      <td>454.325</td>\n",
              "      <td>1102.420</td>\n",
              "      <td>0.3460</td>\n",
              "      <td>1586.16</td>\n",
              "      <td>2214.53</td>\n",
              "      <td>1423.880</td>\n",
              "      <td>706.920</td>\n",
              "      <td>25.0</td>\n",
              "    </tr>\n",
              "    <tr>\n",
              "      <th>3</th>\n",
              "      <td>TCGA-CS-4943-01</td>\n",
              "      <td>0.0</td>\n",
              "      <td>8.6116</td>\n",
              "      <td>5.0835</td>\n",
              "      <td>269.836</td>\n",
              "      <td>835.729</td>\n",
              "      <td>0.0</td>\n",
              "      <td>83.475</td>\n",
              "      <td>0.3261</td>\n",
              "      <td>0.0</td>\n",
              "      <td>...</td>\n",
              "      <td>1183.6500</td>\n",
              "      <td>89.0183</td>\n",
              "      <td>491.068</td>\n",
              "      <td>1288.320</td>\n",
              "      <td>3.2607</td>\n",
              "      <td>1760.15</td>\n",
              "      <td>2131.55</td>\n",
              "      <td>1916.990</td>\n",
              "      <td>689.321</td>\n",
              "      <td>24.0</td>\n",
              "    </tr>\n",
              "    <tr>\n",
              "      <th>4</th>\n",
              "      <td>TCGA-CS-4944-01</td>\n",
              "      <td>0.0</td>\n",
              "      <td>0.0000</td>\n",
              "      <td>30.2610</td>\n",
              "      <td>216.341</td>\n",
              "      <td>812.508</td>\n",
              "      <td>0.0</td>\n",
              "      <td>80.696</td>\n",
              "      <td>0.0000</td>\n",
              "      <td>0.0</td>\n",
              "      <td>...</td>\n",
              "      <td>56.4872</td>\n",
              "      <td>42.3654</td>\n",
              "      <td>323.793</td>\n",
              "      <td>1012.730</td>\n",
              "      <td>0.5044</td>\n",
              "      <td>1225.07</td>\n",
              "      <td>1692.60</td>\n",
              "      <td>729.794</td>\n",
              "      <td>456.941</td>\n",
              "      <td>21.0</td>\n",
              "    </tr>\n",
              "    <tr>\n",
              "      <th>...</th>\n",
              "      <td>...</td>\n",
              "      <td>...</td>\n",
              "      <td>...</td>\n",
              "      <td>...</td>\n",
              "      <td>...</td>\n",
              "      <td>...</td>\n",
              "      <td>...</td>\n",
              "      <td>...</td>\n",
              "      <td>...</td>\n",
              "      <td>...</td>\n",
              "      <td>...</td>\n",
              "      <td>...</td>\n",
              "      <td>...</td>\n",
              "      <td>...</td>\n",
              "      <td>...</td>\n",
              "      <td>...</td>\n",
              "      <td>...</td>\n",
              "      <td>...</td>\n",
              "      <td>...</td>\n",
              "      <td>...</td>\n",
              "      <td>...</td>\n",
              "    </tr>\n",
              "    <tr>\n",
              "      <th>509</th>\n",
              "      <td>TCGA-WY-A85A-01</td>\n",
              "      <td>0.0</td>\n",
              "      <td>5.4526</td>\n",
              "      <td>16.1890</td>\n",
              "      <td>124.919</td>\n",
              "      <td>658.221</td>\n",
              "      <td>0.0</td>\n",
              "      <td>540.512</td>\n",
              "      <td>1.0557</td>\n",
              "      <td>0.0</td>\n",
              "      <td>...</td>\n",
              "      <td>97.1233</td>\n",
              "      <td>53.8401</td>\n",
              "      <td>351.016</td>\n",
              "      <td>1263.130</td>\n",
              "      <td>0.0000</td>\n",
              "      <td>1491.69</td>\n",
              "      <td>1497.49</td>\n",
              "      <td>1556.080</td>\n",
              "      <td>664.555</td>\n",
              "      <td>14.0</td>\n",
              "    </tr>\n",
              "    <tr>\n",
              "      <th>510</th>\n",
              "      <td>TCGA-WY-A85B-01</td>\n",
              "      <td>0.0</td>\n",
              "      <td>8.2616</td>\n",
              "      <td>19.7074</td>\n",
              "      <td>133.739</td>\n",
              "      <td>662.651</td>\n",
              "      <td>0.0</td>\n",
              "      <td>610.155</td>\n",
              "      <td>2.1515</td>\n",
              "      <td>0.0</td>\n",
              "      <td>...</td>\n",
              "      <td>349.3980</td>\n",
              "      <td>60.2410</td>\n",
              "      <td>503.012</td>\n",
              "      <td>1347.680</td>\n",
              "      <td>0.8606</td>\n",
              "      <td>1443.63</td>\n",
              "      <td>1574.87</td>\n",
              "      <td>1685.890</td>\n",
              "      <td>836.919</td>\n",
              "      <td>13.0</td>\n",
              "    </tr>\n",
              "    <tr>\n",
              "      <th>511</th>\n",
              "      <td>TCGA-WY-A85C-01</td>\n",
              "      <td>0.0</td>\n",
              "      <td>11.5121</td>\n",
              "      <td>18.7291</td>\n",
              "      <td>120.924</td>\n",
              "      <td>524.724</td>\n",
              "      <td>0.0</td>\n",
              "      <td>837.760</td>\n",
              "      <td>3.2693</td>\n",
              "      <td>0.0</td>\n",
              "      <td>...</td>\n",
              "      <td>78.0548</td>\n",
              "      <td>76.4201</td>\n",
              "      <td>530.854</td>\n",
              "      <td>1556.190</td>\n",
              "      <td>2.8606</td>\n",
              "      <td>1855.74</td>\n",
              "      <td>1927.67</td>\n",
              "      <td>2006.130</td>\n",
              "      <td>910.094</td>\n",
              "      <td>27.0</td>\n",
              "    </tr>\n",
              "    <tr>\n",
              "      <th>512</th>\n",
              "      <td>TCGA-WY-A85D-01</td>\n",
              "      <td>0.0</td>\n",
              "      <td>5.3895</td>\n",
              "      <td>8.9103</td>\n",
              "      <td>107.254</td>\n",
              "      <td>705.128</td>\n",
              "      <td>0.0</td>\n",
              "      <td>805.720</td>\n",
              "      <td>0.4931</td>\n",
              "      <td>0.0</td>\n",
              "      <td>...</td>\n",
              "      <td>111.9330</td>\n",
              "      <td>35.0099</td>\n",
              "      <td>312.130</td>\n",
              "      <td>1456.110</td>\n",
              "      <td>0.0000</td>\n",
              "      <td>1222.88</td>\n",
              "      <td>1706.11</td>\n",
              "      <td>1429.490</td>\n",
              "      <td>771.203</td>\n",
              "      <td>31.0</td>\n",
              "    </tr>\n",
              "    <tr>\n",
              "      <th>513</th>\n",
              "      <td>TCGA-WY-A85E-01</td>\n",
              "      <td>0.0</td>\n",
              "      <td>9.9433</td>\n",
              "      <td>7.4480</td>\n",
              "      <td>143.006</td>\n",
              "      <td>748.582</td>\n",
              "      <td>0.0</td>\n",
              "      <td>1194.330</td>\n",
              "      <td>1.1342</td>\n",
              "      <td>0.0</td>\n",
              "      <td>...</td>\n",
              "      <td>362.5710</td>\n",
              "      <td>55.5766</td>\n",
              "      <td>384.121</td>\n",
              "      <td>727.788</td>\n",
              "      <td>3.4026</td>\n",
              "      <td>1653.69</td>\n",
              "      <td>2043.86</td>\n",
              "      <td>1434.400</td>\n",
              "      <td>626.465</td>\n",
              "      <td>58.0</td>\n",
              "    </tr>\n",
              "  </tbody>\n",
              "</table>\n",
              "<p>514 rows × 20533 columns</p>\n",
              "</div>\n",
              "      <button class=\"colab-df-convert\" onclick=\"convertToInteractive('df-8c503f16-b694-433d-92d2-07421304eb0a')\"\n",
              "              title=\"Convert this dataframe to an interactive table.\"\n",
              "              style=\"display:none;\">\n",
              "        \n",
              "  <svg xmlns=\"http://www.w3.org/2000/svg\" height=\"24px\"viewBox=\"0 0 24 24\"\n",
              "       width=\"24px\">\n",
              "    <path d=\"M0 0h24v24H0V0z\" fill=\"none\"/>\n",
              "    <path d=\"M18.56 5.44l.94 2.06.94-2.06 2.06-.94-2.06-.94-.94-2.06-.94 2.06-2.06.94zm-11 1L8.5 8.5l.94-2.06 2.06-.94-2.06-.94L8.5 2.5l-.94 2.06-2.06.94zm10 10l.94 2.06.94-2.06 2.06-.94-2.06-.94-.94-2.06-.94 2.06-2.06.94z\"/><path d=\"M17.41 7.96l-1.37-1.37c-.4-.4-.92-.59-1.43-.59-.52 0-1.04.2-1.43.59L10.3 9.45l-7.72 7.72c-.78.78-.78 2.05 0 2.83L4 21.41c.39.39.9.59 1.41.59.51 0 1.02-.2 1.41-.59l7.78-7.78 2.81-2.81c.8-.78.8-2.07 0-2.86zM5.41 20L4 18.59l7.72-7.72 1.47 1.35L5.41 20z\"/>\n",
              "  </svg>\n",
              "      </button>\n",
              "      \n",
              "  <style>\n",
              "    .colab-df-container {\n",
              "      display:flex;\n",
              "      flex-wrap:wrap;\n",
              "      gap: 12px;\n",
              "    }\n",
              "\n",
              "    .colab-df-convert {\n",
              "      background-color: #E8F0FE;\n",
              "      border: none;\n",
              "      border-radius: 50%;\n",
              "      cursor: pointer;\n",
              "      display: none;\n",
              "      fill: #1967D2;\n",
              "      height: 32px;\n",
              "      padding: 0 0 0 0;\n",
              "      width: 32px;\n",
              "    }\n",
              "\n",
              "    .colab-df-convert:hover {\n",
              "      background-color: #E2EBFA;\n",
              "      box-shadow: 0px 1px 2px rgba(60, 64, 67, 0.3), 0px 1px 3px 1px rgba(60, 64, 67, 0.15);\n",
              "      fill: #174EA6;\n",
              "    }\n",
              "\n",
              "    [theme=dark] .colab-df-convert {\n",
              "      background-color: #3B4455;\n",
              "      fill: #D2E3FC;\n",
              "    }\n",
              "\n",
              "    [theme=dark] .colab-df-convert:hover {\n",
              "      background-color: #434B5C;\n",
              "      box-shadow: 0px 1px 3px 1px rgba(0, 0, 0, 0.15);\n",
              "      filter: drop-shadow(0px 1px 2px rgba(0, 0, 0, 0.3));\n",
              "      fill: #FFFFFF;\n",
              "    }\n",
              "  </style>\n",
              "\n",
              "      <script>\n",
              "        const buttonEl =\n",
              "          document.querySelector('#df-8c503f16-b694-433d-92d2-07421304eb0a button.colab-df-convert');\n",
              "        buttonEl.style.display =\n",
              "          google.colab.kernel.accessAllowed ? 'block' : 'none';\n",
              "\n",
              "        async function convertToInteractive(key) {\n",
              "          const element = document.querySelector('#df-8c503f16-b694-433d-92d2-07421304eb0a');\n",
              "          const dataTable =\n",
              "            await google.colab.kernel.invokeFunction('convertToInteractive',\n",
              "                                                     [key], {});\n",
              "          if (!dataTable) return;\n",
              "\n",
              "          const docLinkHtml = 'Like what you see? Visit the ' +\n",
              "            '<a target=\"_blank\" href=https://colab.research.google.com/notebooks/data_table.ipynb>data table notebook</a>'\n",
              "            + ' to learn more about interactive tables.';\n",
              "          element.innerHTML = '';\n",
              "          dataTable['output_type'] = 'display_data';\n",
              "          await google.colab.output.renderOutput(dataTable, element);\n",
              "          const docLink = document.createElement('div');\n",
              "          docLink.innerHTML = docLinkHtml;\n",
              "          element.appendChild(docLink);\n",
              "        }\n",
              "      </script>\n",
              "    </div>\n",
              "  </div>\n",
              "  "
            ]
          },
          "metadata": {},
          "execution_count": 14
        }
      ],
      "source": [
        "merged_df"
      ]
    },
    {
      "cell_type": "markdown",
      "metadata": {
        "id": "4aSnb1Dch2V6"
      },
      "source": [
        "Data preprocessing of the final data frame  \n",
        "- drop NAs  \n",
        "- Encoding  \n",
        "- scaling  "
      ]
    },
    {
      "cell_type": "code",
      "execution_count": 15,
      "metadata": {
        "id": "GTY6PKsmh2V6"
      },
      "outputs": [],
      "source": [
        "# Drop rows with missing values/0/duplicates\n",
        "merged_df = merged_df.dropna()\n",
        "merged_df = merged_df.loc[:, merged_df.nunique() > 1]\n",
        "merged_df = merged_df.loc[:, (merged_df != 0).any()]\n",
        "merged_df = merged_df.drop('Entrez_Gene_Id',axis = 1)"
      ]
    },
    {
      "cell_type": "code",
      "execution_count": 16,
      "metadata": {
        "id": "cYTPP62dh2V7"
      },
      "outputs": [],
      "source": [
        "#encoding\n",
        "categorical_cols = merged_df.select_dtypes(include=['object']).columns.tolist()\n",
        "df_encoded = pd.get_dummies(merged_df, columns=categorical_cols) "
      ]
    },
    {
      "cell_type": "code",
      "execution_count": 17,
      "metadata": {
        "id": "mDpEWEdrh2V7"
      },
      "outputs": [],
      "source": [
        "# Convert all feature names to strings\n",
        "df_encoded.columns = df_encoded.columns.astype(str)\n",
        "\n"
      ]
    },
    {
      "cell_type": "markdown",
      "metadata": {
        "id": "ymWBteukh2V7"
      },
      "source": [
        "Data split"
      ]
    },
    {
      "cell_type": "code",
      "execution_count": 18,
      "metadata": {
        "id": "nmM-H_Arh2V8"
      },
      "outputs": [],
      "source": [
        "from sklearn.model_selection import train_test_split\n",
        "\n",
        "# Split the data into features (X) and target variable (y)\n",
        "X = df_encoded.drop('Mutation Count', axis=1)\n",
        "y = df_encoded['Mutation Count']\n",
        "\n",
        "# Split the data into training and testing sets\n",
        "X_train, X_test, y_train, y_test = train_test_split(X, y, test_size=0.2, random_state=42)\n",
        "\n",
        "\n",
        "# Instantiate a scaler object\n",
        "scaler = StandardScaler()\n",
        "\n",
        "# Scale the encoded DataFrame\n",
        "X_train = scaler.fit_transform(X_train)\n",
        "X_test = scaler.transform(X_test)\n"
      ]
    },
    {
      "cell_type": "code",
      "execution_count": 19,
      "metadata": {
        "colab": {
          "base_uri": "https://localhost:8080/",
          "height": 488
        },
        "id": "EdQnUJ9PovwE",
        "outputId": "bf7d1e51-0e9c-44cd-d222-2bbc221df09f"
      },
      "outputs": [
        {
          "output_type": "execute_result",
          "data": {
            "text/plain": [
              "     100130426  100133144  100134869    10357    10431    155060   26823  \\\n",
              "0          0.0     8.7141    22.7523  268.576  845.815   182.505  0.4196   \n",
              "1          0.0    36.4493    21.1767  156.687  390.269   325.052  1.7253   \n",
              "2          0.0    11.8131    11.0242  185.138  621.453   131.142  0.0000   \n",
              "3          0.0     8.6116     5.0835  269.836  835.729    83.475  0.3261   \n",
              "4          0.0     0.0000    30.2610  216.341  812.508    80.696  0.0000   \n",
              "..         ...        ...        ...      ...      ...       ...     ...   \n",
              "509        0.0     5.4526    16.1890  124.919  658.221   540.512  1.0557   \n",
              "510        0.0     8.2616    19.7074  133.739  662.651   610.155  2.1515   \n",
              "511        0.0    11.5121    18.7291  120.924  524.724   837.760  3.2693   \n",
              "512        0.0     5.3895     8.9103  107.254  705.128   805.720  0.4931   \n",
              "513        0.0     9.9433     7.4480  143.006  748.582  1194.330  1.1342   \n",
              "\n",
              "     280660   340602  388795  ...     55055      11130      7789   158586  \\\n",
              "0       0.0   2.0978  0.4196  ...   80.1636    50.3461   64.1913  523.180   \n",
              "1       0.0   3.4507  0.3451  ...  187.2980   110.4210  105.9350  467.564   \n",
              "2       0.0   1.7301  0.3460  ...  120.0310   186.5050  115.2250  454.325   \n",
              "3       0.0   1.3043  0.0000  ...  667.4480  1183.6500   89.0183  491.068   \n",
              "4       0.0   3.0261  0.0000  ...   57.3244    56.4872   42.3654  323.793   \n",
              "..      ...      ...     ...  ...       ...        ...       ...      ...   \n",
              "509     0.0   7.3898  2.1114  ...  101.8580    97.1233   53.8401  351.016   \n",
              "510     0.0  11.1876  0.0000  ...  241.3380   349.3980   60.2410  503.012   \n",
              "511     0.0  13.4859  0.4087  ...   96.6817    78.0548   76.4201  530.854   \n",
              "512     0.0   7.3964  0.4931  ...   49.8570   111.9330   35.0099  312.130   \n",
              "513     0.0   5.6711  1.1342  ...  221.1530   362.5710   55.5766  384.121   \n",
              "\n",
              "        79364  440590    79699     7791     23140     26009  \n",
              "0    1311.520  0.0000  1495.70  1598.91  1171.810   836.165  \n",
              "1    1226.710  0.3451  1751.21  3889.92  1707.730  1015.530  \n",
              "2    1102.420  0.3460  1586.16  2214.53  1423.880   706.920  \n",
              "3    1288.320  3.2607  1760.15  2131.55  1916.990   689.321  \n",
              "4    1012.730  0.5044  1225.07  1692.60   729.794   456.941  \n",
              "..        ...     ...      ...      ...       ...       ...  \n",
              "509  1263.130  0.0000  1491.69  1497.49  1556.080   664.555  \n",
              "510  1347.680  0.8606  1443.63  1574.87  1685.890   836.919  \n",
              "511  1556.190  2.8606  1855.74  1927.67  2006.130   910.094  \n",
              "512  1456.110  0.0000  1222.88  1706.11  1429.490   771.203  \n",
              "513   727.788  3.4026  1653.69  2043.86  1434.400   626.465  \n",
              "\n",
              "[509 rows x 20223 columns]"
            ],
            "text/html": [
              "\n",
              "  <div id=\"df-07bf1961-af64-43cd-af23-baf7b8744645\">\n",
              "    <div class=\"colab-df-container\">\n",
              "      <div>\n",
              "<style scoped>\n",
              "    .dataframe tbody tr th:only-of-type {\n",
              "        vertical-align: middle;\n",
              "    }\n",
              "\n",
              "    .dataframe tbody tr th {\n",
              "        vertical-align: top;\n",
              "    }\n",
              "\n",
              "    .dataframe thead th {\n",
              "        text-align: right;\n",
              "    }\n",
              "</style>\n",
              "<table border=\"1\" class=\"dataframe\">\n",
              "  <thead>\n",
              "    <tr style=\"text-align: right;\">\n",
              "      <th></th>\n",
              "      <th>100130426</th>\n",
              "      <th>100133144</th>\n",
              "      <th>100134869</th>\n",
              "      <th>10357</th>\n",
              "      <th>10431</th>\n",
              "      <th>155060</th>\n",
              "      <th>26823</th>\n",
              "      <th>280660</th>\n",
              "      <th>340602</th>\n",
              "      <th>388795</th>\n",
              "      <th>...</th>\n",
              "      <th>55055</th>\n",
              "      <th>11130</th>\n",
              "      <th>7789</th>\n",
              "      <th>158586</th>\n",
              "      <th>79364</th>\n",
              "      <th>440590</th>\n",
              "      <th>79699</th>\n",
              "      <th>7791</th>\n",
              "      <th>23140</th>\n",
              "      <th>26009</th>\n",
              "    </tr>\n",
              "  </thead>\n",
              "  <tbody>\n",
              "    <tr>\n",
              "      <th>0</th>\n",
              "      <td>0.0</td>\n",
              "      <td>8.7141</td>\n",
              "      <td>22.7523</td>\n",
              "      <td>268.576</td>\n",
              "      <td>845.815</td>\n",
              "      <td>182.505</td>\n",
              "      <td>0.4196</td>\n",
              "      <td>0.0</td>\n",
              "      <td>2.0978</td>\n",
              "      <td>0.4196</td>\n",
              "      <td>...</td>\n",
              "      <td>80.1636</td>\n",
              "      <td>50.3461</td>\n",
              "      <td>64.1913</td>\n",
              "      <td>523.180</td>\n",
              "      <td>1311.520</td>\n",
              "      <td>0.0000</td>\n",
              "      <td>1495.70</td>\n",
              "      <td>1598.91</td>\n",
              "      <td>1171.810</td>\n",
              "      <td>836.165</td>\n",
              "    </tr>\n",
              "    <tr>\n",
              "      <th>1</th>\n",
              "      <td>0.0</td>\n",
              "      <td>36.4493</td>\n",
              "      <td>21.1767</td>\n",
              "      <td>156.687</td>\n",
              "      <td>390.269</td>\n",
              "      <td>325.052</td>\n",
              "      <td>1.7253</td>\n",
              "      <td>0.0</td>\n",
              "      <td>3.4507</td>\n",
              "      <td>0.3451</td>\n",
              "      <td>...</td>\n",
              "      <td>187.2980</td>\n",
              "      <td>110.4210</td>\n",
              "      <td>105.9350</td>\n",
              "      <td>467.564</td>\n",
              "      <td>1226.710</td>\n",
              "      <td>0.3451</td>\n",
              "      <td>1751.21</td>\n",
              "      <td>3889.92</td>\n",
              "      <td>1707.730</td>\n",
              "      <td>1015.530</td>\n",
              "    </tr>\n",
              "    <tr>\n",
              "      <th>2</th>\n",
              "      <td>0.0</td>\n",
              "      <td>11.8131</td>\n",
              "      <td>11.0242</td>\n",
              "      <td>185.138</td>\n",
              "      <td>621.453</td>\n",
              "      <td>131.142</td>\n",
              "      <td>0.0000</td>\n",
              "      <td>0.0</td>\n",
              "      <td>1.7301</td>\n",
              "      <td>0.3460</td>\n",
              "      <td>...</td>\n",
              "      <td>120.0310</td>\n",
              "      <td>186.5050</td>\n",
              "      <td>115.2250</td>\n",
              "      <td>454.325</td>\n",
              "      <td>1102.420</td>\n",
              "      <td>0.3460</td>\n",
              "      <td>1586.16</td>\n",
              "      <td>2214.53</td>\n",
              "      <td>1423.880</td>\n",
              "      <td>706.920</td>\n",
              "    </tr>\n",
              "    <tr>\n",
              "      <th>3</th>\n",
              "      <td>0.0</td>\n",
              "      <td>8.6116</td>\n",
              "      <td>5.0835</td>\n",
              "      <td>269.836</td>\n",
              "      <td>835.729</td>\n",
              "      <td>83.475</td>\n",
              "      <td>0.3261</td>\n",
              "      <td>0.0</td>\n",
              "      <td>1.3043</td>\n",
              "      <td>0.0000</td>\n",
              "      <td>...</td>\n",
              "      <td>667.4480</td>\n",
              "      <td>1183.6500</td>\n",
              "      <td>89.0183</td>\n",
              "      <td>491.068</td>\n",
              "      <td>1288.320</td>\n",
              "      <td>3.2607</td>\n",
              "      <td>1760.15</td>\n",
              "      <td>2131.55</td>\n",
              "      <td>1916.990</td>\n",
              "      <td>689.321</td>\n",
              "    </tr>\n",
              "    <tr>\n",
              "      <th>4</th>\n",
              "      <td>0.0</td>\n",
              "      <td>0.0000</td>\n",
              "      <td>30.2610</td>\n",
              "      <td>216.341</td>\n",
              "      <td>812.508</td>\n",
              "      <td>80.696</td>\n",
              "      <td>0.0000</td>\n",
              "      <td>0.0</td>\n",
              "      <td>3.0261</td>\n",
              "      <td>0.0000</td>\n",
              "      <td>...</td>\n",
              "      <td>57.3244</td>\n",
              "      <td>56.4872</td>\n",
              "      <td>42.3654</td>\n",
              "      <td>323.793</td>\n",
              "      <td>1012.730</td>\n",
              "      <td>0.5044</td>\n",
              "      <td>1225.07</td>\n",
              "      <td>1692.60</td>\n",
              "      <td>729.794</td>\n",
              "      <td>456.941</td>\n",
              "    </tr>\n",
              "    <tr>\n",
              "      <th>...</th>\n",
              "      <td>...</td>\n",
              "      <td>...</td>\n",
              "      <td>...</td>\n",
              "      <td>...</td>\n",
              "      <td>...</td>\n",
              "      <td>...</td>\n",
              "      <td>...</td>\n",
              "      <td>...</td>\n",
              "      <td>...</td>\n",
              "      <td>...</td>\n",
              "      <td>...</td>\n",
              "      <td>...</td>\n",
              "      <td>...</td>\n",
              "      <td>...</td>\n",
              "      <td>...</td>\n",
              "      <td>...</td>\n",
              "      <td>...</td>\n",
              "      <td>...</td>\n",
              "      <td>...</td>\n",
              "      <td>...</td>\n",
              "      <td>...</td>\n",
              "    </tr>\n",
              "    <tr>\n",
              "      <th>509</th>\n",
              "      <td>0.0</td>\n",
              "      <td>5.4526</td>\n",
              "      <td>16.1890</td>\n",
              "      <td>124.919</td>\n",
              "      <td>658.221</td>\n",
              "      <td>540.512</td>\n",
              "      <td>1.0557</td>\n",
              "      <td>0.0</td>\n",
              "      <td>7.3898</td>\n",
              "      <td>2.1114</td>\n",
              "      <td>...</td>\n",
              "      <td>101.8580</td>\n",
              "      <td>97.1233</td>\n",
              "      <td>53.8401</td>\n",
              "      <td>351.016</td>\n",
              "      <td>1263.130</td>\n",
              "      <td>0.0000</td>\n",
              "      <td>1491.69</td>\n",
              "      <td>1497.49</td>\n",
              "      <td>1556.080</td>\n",
              "      <td>664.555</td>\n",
              "    </tr>\n",
              "    <tr>\n",
              "      <th>510</th>\n",
              "      <td>0.0</td>\n",
              "      <td>8.2616</td>\n",
              "      <td>19.7074</td>\n",
              "      <td>133.739</td>\n",
              "      <td>662.651</td>\n",
              "      <td>610.155</td>\n",
              "      <td>2.1515</td>\n",
              "      <td>0.0</td>\n",
              "      <td>11.1876</td>\n",
              "      <td>0.0000</td>\n",
              "      <td>...</td>\n",
              "      <td>241.3380</td>\n",
              "      <td>349.3980</td>\n",
              "      <td>60.2410</td>\n",
              "      <td>503.012</td>\n",
              "      <td>1347.680</td>\n",
              "      <td>0.8606</td>\n",
              "      <td>1443.63</td>\n",
              "      <td>1574.87</td>\n",
              "      <td>1685.890</td>\n",
              "      <td>836.919</td>\n",
              "    </tr>\n",
              "    <tr>\n",
              "      <th>511</th>\n",
              "      <td>0.0</td>\n",
              "      <td>11.5121</td>\n",
              "      <td>18.7291</td>\n",
              "      <td>120.924</td>\n",
              "      <td>524.724</td>\n",
              "      <td>837.760</td>\n",
              "      <td>3.2693</td>\n",
              "      <td>0.0</td>\n",
              "      <td>13.4859</td>\n",
              "      <td>0.4087</td>\n",
              "      <td>...</td>\n",
              "      <td>96.6817</td>\n",
              "      <td>78.0548</td>\n",
              "      <td>76.4201</td>\n",
              "      <td>530.854</td>\n",
              "      <td>1556.190</td>\n",
              "      <td>2.8606</td>\n",
              "      <td>1855.74</td>\n",
              "      <td>1927.67</td>\n",
              "      <td>2006.130</td>\n",
              "      <td>910.094</td>\n",
              "    </tr>\n",
              "    <tr>\n",
              "      <th>512</th>\n",
              "      <td>0.0</td>\n",
              "      <td>5.3895</td>\n",
              "      <td>8.9103</td>\n",
              "      <td>107.254</td>\n",
              "      <td>705.128</td>\n",
              "      <td>805.720</td>\n",
              "      <td>0.4931</td>\n",
              "      <td>0.0</td>\n",
              "      <td>7.3964</td>\n",
              "      <td>0.4931</td>\n",
              "      <td>...</td>\n",
              "      <td>49.8570</td>\n",
              "      <td>111.9330</td>\n",
              "      <td>35.0099</td>\n",
              "      <td>312.130</td>\n",
              "      <td>1456.110</td>\n",
              "      <td>0.0000</td>\n",
              "      <td>1222.88</td>\n",
              "      <td>1706.11</td>\n",
              "      <td>1429.490</td>\n",
              "      <td>771.203</td>\n",
              "    </tr>\n",
              "    <tr>\n",
              "      <th>513</th>\n",
              "      <td>0.0</td>\n",
              "      <td>9.9433</td>\n",
              "      <td>7.4480</td>\n",
              "      <td>143.006</td>\n",
              "      <td>748.582</td>\n",
              "      <td>1194.330</td>\n",
              "      <td>1.1342</td>\n",
              "      <td>0.0</td>\n",
              "      <td>5.6711</td>\n",
              "      <td>1.1342</td>\n",
              "      <td>...</td>\n",
              "      <td>221.1530</td>\n",
              "      <td>362.5710</td>\n",
              "      <td>55.5766</td>\n",
              "      <td>384.121</td>\n",
              "      <td>727.788</td>\n",
              "      <td>3.4026</td>\n",
              "      <td>1653.69</td>\n",
              "      <td>2043.86</td>\n",
              "      <td>1434.400</td>\n",
              "      <td>626.465</td>\n",
              "    </tr>\n",
              "  </tbody>\n",
              "</table>\n",
              "<p>509 rows × 20223 columns</p>\n",
              "</div>\n",
              "      <button class=\"colab-df-convert\" onclick=\"convertToInteractive('df-07bf1961-af64-43cd-af23-baf7b8744645')\"\n",
              "              title=\"Convert this dataframe to an interactive table.\"\n",
              "              style=\"display:none;\">\n",
              "        \n",
              "  <svg xmlns=\"http://www.w3.org/2000/svg\" height=\"24px\"viewBox=\"0 0 24 24\"\n",
              "       width=\"24px\">\n",
              "    <path d=\"M0 0h24v24H0V0z\" fill=\"none\"/>\n",
              "    <path d=\"M18.56 5.44l.94 2.06.94-2.06 2.06-.94-2.06-.94-.94-2.06-.94 2.06-2.06.94zm-11 1L8.5 8.5l.94-2.06 2.06-.94-2.06-.94L8.5 2.5l-.94 2.06-2.06.94zm10 10l.94 2.06.94-2.06 2.06-.94-2.06-.94-.94-2.06-.94 2.06-2.06.94z\"/><path d=\"M17.41 7.96l-1.37-1.37c-.4-.4-.92-.59-1.43-.59-.52 0-1.04.2-1.43.59L10.3 9.45l-7.72 7.72c-.78.78-.78 2.05 0 2.83L4 21.41c.39.39.9.59 1.41.59.51 0 1.02-.2 1.41-.59l7.78-7.78 2.81-2.81c.8-.78.8-2.07 0-2.86zM5.41 20L4 18.59l7.72-7.72 1.47 1.35L5.41 20z\"/>\n",
              "  </svg>\n",
              "      </button>\n",
              "      \n",
              "  <style>\n",
              "    .colab-df-container {\n",
              "      display:flex;\n",
              "      flex-wrap:wrap;\n",
              "      gap: 12px;\n",
              "    }\n",
              "\n",
              "    .colab-df-convert {\n",
              "      background-color: #E8F0FE;\n",
              "      border: none;\n",
              "      border-radius: 50%;\n",
              "      cursor: pointer;\n",
              "      display: none;\n",
              "      fill: #1967D2;\n",
              "      height: 32px;\n",
              "      padding: 0 0 0 0;\n",
              "      width: 32px;\n",
              "    }\n",
              "\n",
              "    .colab-df-convert:hover {\n",
              "      background-color: #E2EBFA;\n",
              "      box-shadow: 0px 1px 2px rgba(60, 64, 67, 0.3), 0px 1px 3px 1px rgba(60, 64, 67, 0.15);\n",
              "      fill: #174EA6;\n",
              "    }\n",
              "\n",
              "    [theme=dark] .colab-df-convert {\n",
              "      background-color: #3B4455;\n",
              "      fill: #D2E3FC;\n",
              "    }\n",
              "\n",
              "    [theme=dark] .colab-df-convert:hover {\n",
              "      background-color: #434B5C;\n",
              "      box-shadow: 0px 1px 3px 1px rgba(0, 0, 0, 0.15);\n",
              "      filter: drop-shadow(0px 1px 2px rgba(0, 0, 0, 0.3));\n",
              "      fill: #FFFFFF;\n",
              "    }\n",
              "  </style>\n",
              "\n",
              "      <script>\n",
              "        const buttonEl =\n",
              "          document.querySelector('#df-07bf1961-af64-43cd-af23-baf7b8744645 button.colab-df-convert');\n",
              "        buttonEl.style.display =\n",
              "          google.colab.kernel.accessAllowed ? 'block' : 'none';\n",
              "\n",
              "        async function convertToInteractive(key) {\n",
              "          const element = document.querySelector('#df-07bf1961-af64-43cd-af23-baf7b8744645');\n",
              "          const dataTable =\n",
              "            await google.colab.kernel.invokeFunction('convertToInteractive',\n",
              "                                                     [key], {});\n",
              "          if (!dataTable) return;\n",
              "\n",
              "          const docLinkHtml = 'Like what you see? Visit the ' +\n",
              "            '<a target=\"_blank\" href=https://colab.research.google.com/notebooks/data_table.ipynb>data table notebook</a>'\n",
              "            + ' to learn more about interactive tables.';\n",
              "          element.innerHTML = '';\n",
              "          dataTable['output_type'] = 'display_data';\n",
              "          await google.colab.output.renderOutput(dataTable, element);\n",
              "          const docLink = document.createElement('div');\n",
              "          docLink.innerHTML = docLinkHtml;\n",
              "          element.appendChild(docLink);\n",
              "        }\n",
              "      </script>\n",
              "    </div>\n",
              "  </div>\n",
              "  "
            ]
          },
          "metadata": {},
          "execution_count": 19
        }
      ],
      "source": [
        "X"
      ]
    },
    {
      "cell_type": "markdown",
      "metadata": {
        "id": "AW01EyELh2V8"
      },
      "source": [
        "Applying Lasso regression on the final data frame  \n",
        "- Do grid search to find the best model\n",
        "- Evaluate model by its performance on test set"
      ]
    },
    {
      "cell_type": "code",
      "execution_count": 20,
      "metadata": {
        "colab": {
          "base_uri": "https://localhost:8080/"
        },
        "id": "EL7cUWReoV9i",
        "outputId": "cc259c9c-3029-4919-be4d-3fe01486457f"
      },
      "outputs": [
        {
          "output_type": "stream",
          "name": "stdout",
          "text": [
            "Mean squared error: 1150314.5851274896\n"
          ]
        }
      ],
      "source": [
        "from sklearn.linear_model import Lasso\n",
        "from sklearn.model_selection import train_test_split\n",
        "from sklearn.metrics import mean_squared_error\n",
        "lasso = Lasso(alpha=0.1)\n",
        "\n",
        "lasso.fit(X_train, y_train)\n",
        "\n",
        "y_pred = lasso.predict(X_test)\n",
        "\n",
        "mse = mean_squared_error(y_test, y_pred)\n",
        "print(\"Mean squared error:\", mse)\n"
      ]
    },
    {
      "cell_type": "markdown",
      "metadata": {
        "id": "fODPMMEJh2V8"
      },
      "source": [
        "Apply Lasso regression multiple times to see the full picture of feature importance:  \n",
        "- Because when two or more features are highly correlated, Lasso regularization may arbitrarily choose one of them to keep and one to discard, which can lead to instability and inconsistency in the selected features."
      ]
    },
    {
      "cell_type": "code",
      "execution_count": 21,
      "metadata": {
        "id": "U4AtuPq7o1rL"
      },
      "outputs": [],
      "source": [
        "from sklearn.linear_model import LassoCV"
      ]
    },
    {
      "cell_type": "code",
      "execution_count": 22,
      "metadata": {
        "id": "VfrnJiCzoph3"
      },
      "outputs": [],
      "source": [
        "lasso = LassoCV(cv=2, random_state=0).fit(X_train, y_train)"
      ]
    },
    {
      "cell_type": "code",
      "execution_count": 23,
      "metadata": {
        "colab": {
          "base_uri": "https://localhost:8080/"
        },
        "id": "TYi-_iAQo-o3",
        "outputId": "baad8604-2857-4e2f-9370-d2d0c461801a"
      },
      "outputs": [
        {
          "output_type": "stream",
          "name": "stdout",
          "text": [
            "train:  0.4211399733583626 \n",
            "test:  -0.00973287068730988\n"
          ]
        }
      ],
      "source": [
        "print('train: ', lasso.score(X_train, y_train), '\\ntest: ', lasso.score(X_test, y_test))"
      ]
    },
    {
      "cell_type": "code",
      "execution_count": 24,
      "metadata": {
        "colab": {
          "base_uri": "https://localhost:8080/"
        },
        "id": "g3lnuhorh2V8",
        "outputId": "e5a4c618-b646-4d39-b84c-a7130a340d4c"
      },
      "outputs": [
        {
          "output_type": "stream",
          "name": "stdout",
          "text": [
            "Feature Importance:\n",
            "      Feature  Coefficient\n",
            "7991     3219     9.820877\n",
            "12998   56130     3.611751\n",
            "7944   343069     3.583266\n",
            "7990     3218     3.180427\n",
            "13940   65122     0.736052\n",
            "...       ...          ...\n",
            "6740     2539    -0.000000\n",
            "6739    92579    -0.000000\n",
            "6738    57818     0.000000\n",
            "6737     2538    -0.000000\n",
            "20222   26009     0.000000\n",
            "\n",
            "[20223 rows x 2 columns]\n"
          ]
        }
      ],
      "source": [
        "# Get the feature importance information with their coefficients\n",
        "feature_importance = pd.DataFrame({'Feature': X.columns, 'Coefficient': lasso.coef_})\n",
        "feature_importance = feature_importance.sort_values(by='Coefficient', ascending=False)\n",
        "\n",
        "# Print the feature importance information\n",
        "print('Feature Importance:')\n",
        "print(feature_importance)"
      ]
    },
    {
      "cell_type": "code",
      "execution_count": 25,
      "metadata": {
        "colab": {
          "base_uri": "https://localhost:8080/"
        },
        "id": "APLcT_VU1mnF",
        "outputId": "16870648-21e9-4a82-d1ee-bf5f1b8abb78"
      },
      "outputs": [
        {
          "output_type": "stream",
          "name": "stdout",
          "text": [
            "Top 10 Important Gene Features:\n",
            "      Feature  Coefficient\n",
            "7991     3219     9.820877\n",
            "12998   56130     3.611751\n",
            "7944   343069     3.583266\n",
            "7990     3218     3.180427\n",
            "13940   65122     0.736052\n",
            "18430   51605     0.677225\n",
            "6007   642938     0.393993\n",
            "11935   55035     0.317411\n",
            "7987     3215     0.036037\n",
            "13477    5322    -0.000000\n"
          ]
        }
      ],
      "source": [
        "# Get the top 10 important gene features and their coefficients\n",
        "top_features = feature_importance.head(10)\n",
        "\n",
        "# Print the top 10 important gene features and their coefficients\n",
        "print('Top 10 Important Gene Features:')\n",
        "print(top_features[['Feature', 'Coefficient']])\n"
      ]
    },
    {
      "cell_type": "markdown",
      "metadata": {
        "id": "KkYFN8rch2V9"
      },
      "source": [
        "Plot a graph showing feature importances here"
      ]
    },
    {
      "cell_type": "code",
      "execution_count": 26,
      "metadata": {
        "colab": {
          "base_uri": "https://localhost:8080/",
          "height": 618
        },
        "id": "CbeYxHYSh2V9",
        "outputId": "15fb8df3-7322-45ee-f5d8-84854f35a2f9"
      },
      "outputs": [
        {
          "output_type": "stream",
          "name": "stdout",
          "text": [
            "Top 10 Important Gene Features:\n",
            "      Feature  Coefficient\n",
            "7991     3219     9.820877\n",
            "12998   56130     3.611751\n",
            "7944   343069     3.583266\n",
            "7990     3218     3.180427\n",
            "13940   65122     0.736052\n",
            "18430   51605     0.677225\n",
            "6007   642938     0.393993\n",
            "11935   55035     0.317411\n",
            "7987     3215     0.036037\n",
            "13477    5322    -0.000000\n"
          ]
        },
        {
          "output_type": "display_data",
          "data": {
            "text/plain": [
              "<Figure size 432x432 with 1 Axes>"
            ],
            "image/png": "[encoded data removed]"
          },
          "metadata": {
            "needs_background": "light"
          }
        }
      ],
      "source": [
        "import matplotlib.pyplot as plt\n",
        "\n",
        "# Get the top 10 important gene features and their coefficients\n",
        "top_features = feature_importance.head(10)\n",
        "\n",
        "# Print the top 10 important gene features and their coefficients\n",
        "print('Top 10 Important Gene Features:')\n",
        "print(top_features[['Feature', 'Coefficient']])\n",
        "\n",
        "# Create a bar chart of the top 10 important gene features and their coefficients\n",
        "fig, ax = plt.subplots(figsize=(6, 6))\n",
        "top_features.set_index('Feature')['Coefficient'].plot(kind='barh', ax=ax)\n",
        "ax.set_xlabel('Coefficient')\n",
        "ax.set_title(f'Top 10 Features')\n",
        "ax.grid(True)\n",
        "\n",
        "plt.show()\n",
        "\n",
        "\n",
        "\n"
      ]
    },
    {
      "cell_type": "markdown",
      "metadata": {
        "id": "EyqXzCvvh2V9"
      },
      "source": [
        "Try RFE method to see if it differs from results obtained above."
      ]
    },
    {
      "cell_type": "code",
      "execution_count": 27,
      "metadata": {
        "colab": {
          "base_uri": "https://localhost:8080/"
        },
        "id": "P6CE9iiEh2V9",
        "outputId": "c60cecec-8be2-47f7-ea2a-dba4e26cd602"
      },
      "outputs": [
        {
          "output_type": "stream",
          "name": "stdout",
          "text": [
            "Selected features:  [False  True False ... False False False]\n",
            "Feature rankings:  [11  1  2 ...  6  7  3]\n",
            "Train score:  0.9981409590522372\n",
            "Test score:  -0.0109213697742776\n"
          ]
        }
      ],
      "source": [
        "from sklearn.linear_model import Lasso\n",
        "\n",
        "# Create a Lasso estimator\n",
        "estimator = Lasso(alpha=0.1)\n",
        "\n",
        "# Determine the optimal number of features to select using Lasso\n",
        "estimator.fit(X_train, y_train)\n",
        "n_features = (estimator.coef_ != 0).sum()\n",
        "\n",
        "# Create the RFE object and specify the number of features to select\n",
        "# Use a smaller step size to reduce the number of iterations\n",
        "selector = RFE(estimator, n_features_to_select=n_features//2, step=0.1)\n",
        "\n",
        "# Fit the RFE estimator to the data\n",
        "selector = selector.fit(X_train, y_train)\n",
        "\n",
        "# Print the selected features\n",
        "print(\"Selected features: \", selector.support_)\n",
        "\n",
        "# Print the feature rankings\n",
        "print(\"Feature rankings: \", selector.ranking_)\n",
        "\n",
        "# Print the train and test scores\n",
        "train_score = estimator.score(X_train, y_train)\n",
        "test_score = estimator.score(X_test, y_test)\n",
        "print(\"Train score: \", train_score)\n",
        "print(\"Test score: \", test_score)"
      ]
    },
    {
      "cell_type": "code",
      "execution_count": 28,
      "metadata": {
        "colab": {
          "base_uri": "https://localhost:8080/"
        },
        "id": "-XSL0d1znpNN",
        "outputId": "66d9a012-abcd-40e2-99b2-3ceab3fb2271"
      },
      "outputs": [
        {
          "output_type": "stream",
          "name": "stdout",
          "text": [
            "The first 10 most important features are: Index(['10240', '5671', '10234', '341277', '79973', '10795', '58503', '122665',\n",
            "       '55888', '376412'],\n",
            "      dtype='object')\n"
          ]
        }
      ],
      "source": [
        "import numpy as np\n",
        "\n",
        "# Get the indices of the most important features\n",
        "important_feature_indices = np.argsort(selector.ranking_)[:10]\n",
        "\n",
        "# Print the names of the most important features\n",
        "important_feature_names = X.columns[important_feature_indices]\n",
        "print(\"The first 10 most important features are:\", important_feature_names)\n"
      ]
    },
    {
      "cell_type": "code",
      "execution_count": 29,
      "metadata": {
        "colab": {
          "base_uri": "https://localhost:8080/"
        },
        "id": "uy6dBr8wPHLa",
        "outputId": "df7a5837-42bf-48f4-d396-7feb51ca4db8"
      },
      "outputs": [
        {
          "output_type": "stream",
          "name": "stdout",
          "text": [
            "Top 10 Important Gene Features:\n",
            "  Feature  Coefficient\n",
            "3  341277     1.722621\n",
            "5   10795     0.938393\n",
            "2   10234     0.701098\n",
            "4   79973     0.639684\n",
            "6   58503     0.562195\n",
            "0   10240     0.432273\n",
            "9  376412    -0.388985\n",
            "1    5671    -0.721075\n",
            "7  122665    -0.744435\n",
            "8   55888    -1.225921\n"
          ]
        }
      ],
      "source": [
        "# Get the top 10 important gene features and their coefficients\n",
        "important_feature_indices = np.argsort(selector.ranking_)[:10]\n",
        "important_feature_names = X.columns[important_feature_indices]\n",
        "important_feature_coefficients = estimator.coef_[important_feature_indices]\n",
        "\n",
        "# Create a dataframe with the top 10 features and their coefficients\n",
        "feature_importance = pd.DataFrame({'Feature': important_feature_names, 'Coefficient': important_feature_coefficients})\n",
        "\n",
        "# Sort the dataframe by coefficient values in descending order\n",
        "feature_importance = feature_importance.sort_values('Coefficient', ascending=False)\n",
        "\n",
        "# Print the top 10 important gene features and their coefficients\n",
        "top_features = feature_importance.head(10)\n",
        "print('Top 10 Important Gene Features:')\n",
        "print(top_features[['Feature', 'Coefficient']])\n",
        "\n"
      ]
    },
    {
      "cell_type": "code",
      "execution_count": 30,
      "metadata": {
        "colab": {
          "base_uri": "https://localhost:8080/",
          "height": 404
        },
        "id": "GF4BxCauQnTw",
        "outputId": "57d6ab67-3e12-4bb6-aeae-f4e98c3680a4"
      },
      "outputs": [
        {
          "output_type": "display_data",
          "data": {
            "text/plain": [
              "<Figure size 432x432 with 1 Axes>"
            ],
            "image/png": "[encoded data removed]"
          },
          "metadata": {
            "needs_background": "light"
          }
        }
      ],
      "source": [
        "import matplotlib.pyplot as plt\n",
        "\n",
        "# Get the top 10 important gene features and their coefficients\n",
        "important_feature_indices = np.argsort(selector.ranking_)[:10]\n",
        "important_feature_names = X.columns[important_feature_indices]\n",
        "important_feature_coefficients = estimator.coef_[important_feature_indices]\n",
        "\n",
        "# Create a dataframe with the top 10 features and their coefficients\n",
        "feature_importance = pd.DataFrame({'Feature': important_feature_names, 'Coefficient': important_feature_coefficients})\n",
        "\n",
        "# Sort the dataframe by coefficient values in descending order\n",
        "feature_importance = feature_importance.sort_values('Coefficient', ascending=False)\n",
        "\n",
        "# Select the top 10 important gene features\n",
        "top_features = feature_importance.head(10)\n",
        "\n",
        "# Create a horizontal bar chart with the top 10 features and their coefficients\n",
        "_, ax = plt.subplots(figsize=(6, 6))\n",
        "alpha = round(estimator.alpha, 2)\n",
        "top_features.plot.barh(x='Feature', y='Coefficient', ax=ax, legend=False)\n",
        "ax.set_xlabel(\"Coefficient\")\n",
        "ax.set_title(f'Top 10 Feature Importances after RFE')\n",
        "ax.grid(True)\n",
        "\n",
        "plt.show()\n",
        "\n"
      ]
    },
    {
      "cell_type": "code",
      "execution_count": 31,
      "metadata": {
        "colab": {
          "base_uri": "https://localhost:8080/"
        },
        "id": "ULDPVC0NjDUV",
        "outputId": "4fa494b9-e224-423c-c3f2-66a47c714023"
      },
      "outputs": [
        {
          "output_type": "stream",
          "name": "stdout",
          "text": [
            "Selected features:  [False False False ... False False False]\n",
            "Mean squared error: 1147310.4520686204\n"
          ]
        }
      ],
      "source": [
        "from sklearn.linear_model import ElasticNetCV\n",
        "from sklearn.model_selection import train_test_split\n",
        "from sklearn.metrics import mean_squared_error\n",
        "\n",
        "# Instantiate an ElasticNetCV estimator with cross-validation\n",
        "elastic_net = ElasticNetCV(cv=5, l1_ratio=0.5)\n",
        "\n",
        "# Fit the estimator to the data\n",
        "elastic_net.fit(X_train, y_train)\n",
        "\n",
        "# Print the selected features\n",
        "print(\"Selected features: \", elastic_net.coef_ != 0)\n",
        "\n",
        "y_pred = elastic_net.predict(X_test)\n",
        "\n",
        "# Evaluate the performance of the model using mean squared error\n",
        "mse = mean_squared_error(y_test, y_pred)\n",
        "print(\"Mean squared error:\", mse)\n",
        "\n",
        "# Get the feature rankings\n",
        "feature_rankings = elastic_net.coef_\n",
        "\n",
        "# Combine the feature names and their rankings into a list of tuples\n",
        "features = zip(X.columns, feature_rankings)\n",
        "\n",
        "# Sort the list by the ranking\n",
        "sorted_features = sorted(features, key=lambda x: abs(x[1]), reverse=True)\n",
        "\n"
      ]
    },
    {
      "cell_type": "code",
      "execution_count": 32,
      "metadata": {
        "colab": {
          "base_uri": "https://localhost:8080/"
        },
        "id": "FUjgQUH8rtMQ",
        "outputId": "c3cf6696-717f-4022-8658-921cada9d9fa"
      },
      "outputs": [
        {
          "output_type": "stream",
          "name": "stdout",
          "text": [
            "Feature rankings:\n",
            "1. 56130: 2.479337698771636\n",
            "2. 343069: 2.1906927921706547\n",
            "3. 5913: 1.3352452622061608\n",
            "4. 3219: 1.3079370067577938\n",
            "5. 3215: 1.2983862998147446\n",
            "6. 3216: 1.2776543161843146\n",
            "7. 3218: 1.2760699925488885\n",
            "8. 158833: 1.2418695290856334\n",
            "9. 65122: 1.2329131034115364\n",
            "10. 642938: 1.1953989492922514\n"
          ]
        }
      ],
      "source": [
        "print(\"Feature rankings:\")\n",
        "for i, (name, rank) in enumerate(sorted_features[:10]):\n",
        "    print(f\"{i+1}. {name}: {rank}\")\n"
      ]
    },
    {
      "cell_type": "code",
      "execution_count": 33,
      "metadata": {
        "colab": {
          "base_uri": "https://localhost:8080/",
          "height": 618
        },
        "id": "PI2k_xwxcNja",
        "outputId": "aa124ac3-8a8e-44e3-ed99-f7088ae99fbc"
      },
      "outputs": [
        {
          "output_type": "stream",
          "name": "stdout",
          "text": [
            "Top 10 Important Gene Features:\n",
            "  Feature  Coefficient\n",
            "0   56130     2.479338\n",
            "1  343069     2.190693\n",
            "2    5913     1.335245\n",
            "3    3219     1.307937\n",
            "4    3215     1.298386\n",
            "5    3216     1.277654\n",
            "6    3218     1.276070\n",
            "7  158833     1.241870\n",
            "8   65122     1.232913\n",
            "9  642938     1.195399\n"
          ]
        },
        {
          "output_type": "display_data",
          "data": {
            "text/plain": [
              "<Figure size 432x432 with 1 Axes>"
            ],
            "image/png": "[encoded data removed]"
          },
          "metadata": {
            "needs_background": "light"
          }
        }
      ],
      "source": [
        "import matplotlib.pyplot as plt\n",
        "\n",
        "# Get the top 10 important gene features and their coefficients\n",
        "top_features = pd.DataFrame(sorted_features[:10], columns=['Feature', 'Coefficient'])\n",
        "\n",
        "# Print the top 10 important gene features and their coefficients\n",
        "print('Top 10 Important Gene Features:')\n",
        "print(top_features)\n",
        "\n",
        "# Create a bar chart of the top 10 important gene features and their coefficients\n",
        "fig, ax = plt.subplots(figsize=(6, 6))\n",
        "top_features.set_index('Feature')['Coefficient'].plot(kind='barh', ax=ax)\n",
        "ax.set_xlabel('Coefficient')\n",
        "ax.set_title('Top 10 Important Gene Features')\n",
        "ax.grid(True)\n",
        "\n",
        "plt.show()\n"
      ]
    },
    {
      "cell_type": "code",
      "source": [
        "import pandas as pd\n",
        "\n",
        "# Lasso results\n",
        "lasso_df = pd.DataFrame({\n",
        "    'Feature': [3219, 56130, 343069, 3218, 65122, 51605, 642938, 55035, 3215, 5322],\n",
        "    'Coefficient (Lasso)': [9.820877, 3.611751, 3.583266, 3.180427, 0.736052, 0.677225, 0.393993, 0.317411, 0.036037, -0.000000]\n",
        "})\n",
        "\n",
        "# ElasticNetCV results\n",
        "elastic_df = pd.DataFrame({\n",
        "    'Feature': [56130, 343069, 5913, 3219, 3215, 3216, 3218, 158833, 65122, 642938],\n",
        "    'Coefficient (ElasticNetCV)': [2.479337698771636, 2.1906927921706547, 1.3352452622061608, 1.3079370067577938, 1.2983862998147446, 1.2776543161843146, 1.2760699925488885, 1.2418695290856334, 1.2329131034115364, 1.1953989492922514]\n",
        "})\n",
        "\n",
        "# Merge dataframes\n",
        "merged_df = pd.merge(lasso_df, elastic_df, on='Feature', how='outer')\n",
        "\n",
        "# Set feature as index\n",
        "merged_df.set_index('Feature', inplace=True)\n",
        "\n",
        "# Highlight important features\n",
        "def highlight_important(s):\n",
        "    if s['Coefficient (Lasso)'] > 1 and s['Coefficient (ElasticNetCV)'] > 1:\n",
        "        return ['background-color: yellow'] * 2\n",
        "    else:\n",
        "        return [''] * 2\n",
        "\n",
        "# Apply highlighting function\n",
        "merged_df.style.apply(highlight_important, axis=1)\n",
        "\n"
      ],
      "metadata": {
        "colab": {
          "base_uri": "https://localhost:8080/",
          "height": 488
        },
        "id": "3lg9o89hbCsN",
        "outputId": "5700d61d-abf8-413c-dec9-64b2b27aa55f"
      },
      "execution_count": 34,
      "outputs": [
        {
          "output_type": "execute_result",
          "data": {
            "text/plain": [
              "<pandas.io.formats.style.Styler at 0x7fbd51f5c100>"
            ],
            "text/html": [
              "<style type=\"text/css\">\n",
              "#T_35314_row0_col0, #T_35314_row0_col1, #T_35314_row1_col0, #T_35314_row1_col1, #T_35314_row2_col0, #T_35314_row2_col1, #T_35314_row3_col0, #T_35314_row3_col1 {\n",
              "  background-color: yellow;\n",
              "}\n",
              "</style>\n",
              "<table id=\"T_35314\" class=\"dataframe\">\n",
              "  <thead>\n",
              "    <tr>\n",
              "      <th class=\"blank level0\" >&nbsp;</th>\n",
              "      <th id=\"T_35314_level0_col0\" class=\"col_heading level0 col0\" >Coefficient (Lasso)</th>\n",
              "      <th id=\"T_35314_level0_col1\" class=\"col_heading level0 col1\" >Coefficient (ElasticNetCV)</th>\n",
              "    </tr>\n",
              "    <tr>\n",
              "      <th class=\"index_name level0\" >Feature</th>\n",
              "      <th class=\"blank col0\" >&nbsp;</th>\n",
              "      <th class=\"blank col1\" >&nbsp;</th>\n",
              "    </tr>\n",
              "  </thead>\n",
              "  <tbody>\n",
              "    <tr>\n",
              "      <th id=\"T_35314_level0_row0\" class=\"row_heading level0 row0\" >3219</th>\n",
              "      <td id=\"T_35314_row0_col0\" class=\"data row0 col0\" >9.820877</td>\n",
              "      <td id=\"T_35314_row0_col1\" class=\"data row0 col1\" >1.307937</td>\n",
              "    </tr>\n",
              "    <tr>\n",
              "      <th id=\"T_35314_level0_row1\" class=\"row_heading level0 row1\" >56130</th>\n",
              "      <td id=\"T_35314_row1_col0\" class=\"data row1 col0\" >3.611751</td>\n",
              "      <td id=\"T_35314_row1_col1\" class=\"data row1 col1\" >2.479338</td>\n",
              "    </tr>\n",
              "    <tr>\n",
              "      <th id=\"T_35314_level0_row2\" class=\"row_heading level0 row2\" >343069</th>\n",
              "      <td id=\"T_35314_row2_col0\" class=\"data row2 col0\" >3.583266</td>\n",
              "      <td id=\"T_35314_row2_col1\" class=\"data row2 col1\" >2.190693</td>\n",
              "    </tr>\n",
              "    <tr>\n",
              "      <th id=\"T_35314_level0_row3\" class=\"row_heading level0 row3\" >3218</th>\n",
              "      <td id=\"T_35314_row3_col0\" class=\"data row3 col0\" >3.180427</td>\n",
              "      <td id=\"T_35314_row3_col1\" class=\"data row3 col1\" >1.276070</td>\n",
              "    </tr>\n",
              "    <tr>\n",
              "      <th id=\"T_35314_level0_row4\" class=\"row_heading level0 row4\" >65122</th>\n",
              "      <td id=\"T_35314_row4_col0\" class=\"data row4 col0\" >0.736052</td>\n",
              "      <td id=\"T_35314_row4_col1\" class=\"data row4 col1\" >1.232913</td>\n",
              "    </tr>\n",
              "    <tr>\n",
              "      <th id=\"T_35314_level0_row5\" class=\"row_heading level0 row5\" >51605</th>\n",
              "      <td id=\"T_35314_row5_col0\" class=\"data row5 col0\" >0.677225</td>\n",
              "      <td id=\"T_35314_row5_col1\" class=\"data row5 col1\" >nan</td>\n",
              "    </tr>\n",
              "    <tr>\n",
              "      <th id=\"T_35314_level0_row6\" class=\"row_heading level0 row6\" >642938</th>\n",
              "      <td id=\"T_35314_row6_col0\" class=\"data row6 col0\" >0.393993</td>\n",
              "      <td id=\"T_35314_row6_col1\" class=\"data row6 col1\" >1.195399</td>\n",
              "    </tr>\n",
              "    <tr>\n",
              "      <th id=\"T_35314_level0_row7\" class=\"row_heading level0 row7\" >55035</th>\n",
              "      <td id=\"T_35314_row7_col0\" class=\"data row7 col0\" >0.317411</td>\n",
              "      <td id=\"T_35314_row7_col1\" class=\"data row7 col1\" >nan</td>\n",
              "    </tr>\n",
              "    <tr>\n",
              "      <th id=\"T_35314_level0_row8\" class=\"row_heading level0 row8\" >3215</th>\n",
              "      <td id=\"T_35314_row8_col0\" class=\"data row8 col0\" >0.036037</td>\n",
              "      <td id=\"T_35314_row8_col1\" class=\"data row8 col1\" >1.298386</td>\n",
              "    </tr>\n",
              "    <tr>\n",
              "      <th id=\"T_35314_level0_row9\" class=\"row_heading level0 row9\" >5322</th>\n",
              "      <td id=\"T_35314_row9_col0\" class=\"data row9 col0\" >-0.000000</td>\n",
              "      <td id=\"T_35314_row9_col1\" class=\"data row9 col1\" >nan</td>\n",
              "    </tr>\n",
              "    <tr>\n",
              "      <th id=\"T_35314_level0_row10\" class=\"row_heading level0 row10\" >5913</th>\n",
              "      <td id=\"T_35314_row10_col0\" class=\"data row10 col0\" >nan</td>\n",
              "      <td id=\"T_35314_row10_col1\" class=\"data row10 col1\" >1.335245</td>\n",
              "    </tr>\n",
              "    <tr>\n",
              "      <th id=\"T_35314_level0_row11\" class=\"row_heading level0 row11\" >3216</th>\n",
              "      <td id=\"T_35314_row11_col0\" class=\"data row11 col0\" >nan</td>\n",
              "      <td id=\"T_35314_row11_col1\" class=\"data row11 col1\" >1.277654</td>\n",
              "    </tr>\n",
              "    <tr>\n",
              "      <th id=\"T_35314_level0_row12\" class=\"row_heading level0 row12\" >158833</th>\n",
              "      <td id=\"T_35314_row12_col0\" class=\"data row12 col0\" >nan</td>\n",
              "      <td id=\"T_35314_row12_col1\" class=\"data row12 col1\" >1.241870</td>\n",
              "    </tr>\n",
              "  </tbody>\n",
              "</table>\n"
            ]
          },
          "metadata": {},
          "execution_count": 34
        }
      ]
    },
    {
      "cell_type": "code",
      "source": [
        "import matplotlib.pyplot as plt\n",
        "import numpy as np\n",
        "\n",
        "# Set up data for plotting\n",
        "lasso_features = lasso_df['Feature']\n",
        "lasso_coefs = lasso_df['Coefficient (Lasso)']\n",
        "elastic_features = elastic_df['Feature']\n",
        "elastic_coefs = elastic_df['Coefficient (ElasticNetCV)']\n",
        "\n",
        "# Create a bar chart\n",
        "fig, ax = plt.subplots(figsize=(8, 6))\n",
        "ax.bar(np.arange(len(lasso_features)), lasso_coefs, width=0.4, label='Lasso', color='b')\n",
        "ax.bar(np.arange(len(elastic_features))+0.4, elastic_coefs, width=0.4, label='ElasticNetCV', color='g')\n",
        "ax.set_xticks(np.arange(len(lasso_features)))\n",
        "ax.set_xticklabels(lasso_features, rotation=45)\n",
        "ax.set_xlabel('Feature')\n",
        "ax.set_ylabel('Coefficient')\n",
        "ax.set_title('Lasso and ElasticNetCV Coefficients by Feature')\n",
        "\n",
        "# Highlight top five important features with arrows\n",
        "highlight_indices = [0, 1, 2, 3, 4]\n",
        "for index in highlight_indices:\n",
        "    feature = lasso_features[index]\n",
        "    lasso_coef = lasso_coefs[index]\n",
        "    if feature in elastic_features:\n",
        "        elastic_coef = elastic_coefs[elastic_features == feature][0]\n",
        "        x = index\n",
        "        y = max(lasso_coef, elastic_coef)\n",
        "        ax.annotate(f'{feature}', xy=(x, y), xytext=(x, y+0.5), ha='center', fontsize=10, arrowprops=dict(facecolor='red', shrink=0.05))\n",
        "\n",
        "plt.legend()\n",
        "plt.show()\n",
        "\n",
        "\n"
      ],
      "metadata": {
        "colab": {
          "base_uri": "https://localhost:8080/",
          "height": 428
        },
        "id": "i1YTNUa-er1j",
        "outputId": "e679ab66-9dfd-4583-9f38-b01e6683c080"
      },
      "execution_count": 35,
      "outputs": [
        {
          "output_type": "display_data",
          "data": {
            "text/plain": [
              "<Figure size 576x432 with 1 Axes>"
            ],
            "image/png": "[encoded data removed]"
          },
          "metadata": {
            "needs_background": "light"
          }
        }
      ]
    },
    {
      "cell_type": "code",
      "source": [
        "from tabulate import tabulate\n",
        "\n",
        "# Define the data\n",
        "data = [\n",
        "    ['Feature', 'Gene Name', 'Protein', 'Protein Class', 'Prognostic Summary'],\n",
        "    ['3219', 'HOXB9', 'Homeobox B9', 'Transcription factors', 'Prognostic marker in head and neck cancer (unfavorable) and endometrial cancer (unfavorable)'],\n",
        "    ['56130', 'PCDHB6', 'Protocadherin beta 6', 'None', 'Prognostic marker in renal cancer (unfavorable)'],\n",
        "    ['343069', 'HNRNPCL1', 'Heterogeneous nuclear ribonucleoprotein C like 1', 'None', 'Gene product is not prognostic'],\n",
        "    ['3218', 'HOXB8', 'Homeobox B8', 'Transcription factors', 'Prognostic marker in renal cancer (favorable)'],\n",
        "    ['65122', 'PRAMEF2', 'PRAME family member 2', 'None', 'Gene product is not prognostic']\n",
        "]\n",
        "\n",
        "# Create the table using tabulate\n",
        "table = tabulate(data, headers='firstrow', tablefmt='grid')\n",
        "\n",
        "# Print the table\n",
        "print(table)\n",
        "\n",
        "\n"
      ],
      "metadata": {
        "colab": {
          "base_uri": "https://localhost:8080/"
        },
        "id": "p_oZQn-r8NE_",
        "outputId": "6e2328ba-febb-4248-8f7a-8122e34fa0b8"
      },
      "execution_count": 36,
      "outputs": [
        {
          "output_type": "stream",
          "name": "stdout",
          "text": [
            "+-----------+-------------+--------------------------------------------------+-----------------------+----------------------------------------------------------------------------------------------+\n",
            "|   Feature | Gene Name   | Protein                                          | Protein Class         | Prognostic Summary                                                                           |\n",
            "+===========+=============+==================================================+=======================+==============================================================================================+\n",
            "|      3219 | HOXB9       | Homeobox B9                                      | Transcription factors | Prognostic marker in head and neck cancer (unfavorable) and endometrial cancer (unfavorable) |\n",
            "+-----------+-------------+--------------------------------------------------+-----------------------+----------------------------------------------------------------------------------------------+\n",
            "|     56130 | PCDHB6      | Protocadherin beta 6                             | None                  | Prognostic marker in renal cancer (unfavorable)                                              |\n",
            "+-----------+-------------+--------------------------------------------------+-----------------------+----------------------------------------------------------------------------------------------+\n",
            "|    343069 | HNRNPCL1    | Heterogeneous nuclear ribonucleoprotein C like 1 | None                  | Gene product is not prognostic                                                               |\n",
            "+-----------+-------------+--------------------------------------------------+-----------------------+----------------------------------------------------------------------------------------------+\n",
            "|      3218 | HOXB8       | Homeobox B8                                      | Transcription factors | Prognostic marker in renal cancer (favorable)                                                |\n",
            "+-----------+-------------+--------------------------------------------------+-----------------------+----------------------------------------------------------------------------------------------+\n",
            "|     65122 | PRAMEF2     | PRAME family member 2                            | None                  | Gene product is not prognostic                                                               |\n",
            "+-----------+-------------+--------------------------------------------------+-----------------------+----------------------------------------------------------------------------------------------+\n"
          ]
        }
      ]
    }
  ],
  "metadata": {
    "colab": {
      "provenance": []
    },
    "kernelspec": {
      "display_name": "Python 3 (ipykernel)",
      "language": "python",
      "name": "python3"
    },
    "language_info": {
      "codemirror_mode": {
        "name": "ipython",
        "version": 3
      },
      "file_extension": ".py",
      "mimetype": "text/x-python",
      "name": "python",
      "nbconvert_exporter": "python",
      "pygments_lexer": "ipython3",
      "version": "3.9.12"
    }
  },
  "nbformat": 4,
  "nbformat_minor": 0
}