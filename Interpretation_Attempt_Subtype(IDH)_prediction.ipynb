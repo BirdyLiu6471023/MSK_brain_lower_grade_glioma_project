{
 "cells": [
  {
   "cell_type": "markdown",
   "metadata": {},
   "source": [
    "## Interpretation Attempt - Association between gene expression and subtype or grade\n",
    "### (Brain Lower Grade Glioma) \n",
    "\n",
    "This whole analysis showing that we could looking at gene one by one, and we need to assign genes into different groups or clusters. There are totally three methods I could think of that could be taken into considerations.\n",
    "\n",
    "**Method 1: Non-negative matrix factorization**\n",
    "\n",
    "**Method 2: Correlation matrix**\n",
    "\n",
    "**Method 3: NLP**"
   ]
  },
  {
   "cell_type": "code",
   "execution_count": 1,
   "metadata": {},
   "outputs": [],
   "source": [
    "import numpy as np \n",
    "import pandas as pd \n",
    "import scanpy as sc \n",
    "import matplotlib.pyplot as plt\n",
    "import warnings\n",
    "warnings.filterwarnings(\"ignore\")\n",
    "\n",
    "sc.settings.verbosity = 3 \n",
    "\n",
    "sc.settings.set_figure_params(dpi = 80)\n",
    "%matplotlib inline"
   ]
  },
  {
   "cell_type": "markdown",
   "metadata": {},
   "source": [
    "## Gene Data Preprocessing"
   ]
  },
  {
   "cell_type": "code",
   "execution_count": 2,
   "metadata": {},
   "outputs": [
    {
     "data": {
      "text/html": [
       "<div>\n",
       "<style scoped>\n",
       "    .dataframe tbody tr th:only-of-type {\n",
       "        vertical-align: middle;\n",
       "    }\n",
       "\n",
       "    .dataframe tbody tr th {\n",
       "        vertical-align: top;\n",
       "    }\n",
       "\n",
       "    .dataframe thead th {\n",
       "        text-align: right;\n",
       "    }\n",
       "</style>\n",
       "<table border=\"1\" class=\"dataframe\">\n",
       "  <thead>\n",
       "    <tr style=\"text-align: right;\">\n",
       "      <th></th>\n",
       "      <th>Hugo_Symbol</th>\n",
       "      <th>Entrez_Gene_Id</th>\n",
       "      <th>TCGA-CS-4938-01</th>\n",
       "      <th>TCGA-CS-4941-01</th>\n",
       "      <th>TCGA-CS-4942-01</th>\n",
       "      <th>TCGA-CS-4943-01</th>\n",
       "      <th>TCGA-CS-4944-01</th>\n",
       "      <th>TCGA-CS-5390-01</th>\n",
       "      <th>TCGA-CS-5393-01</th>\n",
       "      <th>TCGA-CS-5394-01</th>\n",
       "      <th>...</th>\n",
       "      <th>TCGA-VW-A8FI-01</th>\n",
       "      <th>TCGA-W9-A837-01</th>\n",
       "      <th>TCGA-WH-A86K-01</th>\n",
       "      <th>TCGA-WY-A858-01</th>\n",
       "      <th>TCGA-WY-A859-01</th>\n",
       "      <th>TCGA-WY-A85A-01</th>\n",
       "      <th>TCGA-WY-A85B-01</th>\n",
       "      <th>TCGA-WY-A85C-01</th>\n",
       "      <th>TCGA-WY-A85D-01</th>\n",
       "      <th>TCGA-WY-A85E-01</th>\n",
       "    </tr>\n",
       "  </thead>\n",
       "  <tbody>\n",
       "    <tr>\n",
       "      <th>0</th>\n",
       "      <td>NaN</td>\n",
       "      <td>100130426</td>\n",
       "      <td>0.0000</td>\n",
       "      <td>0.0000</td>\n",
       "      <td>0.0000</td>\n",
       "      <td>0.0000</td>\n",
       "      <td>0.000</td>\n",
       "      <td>0.0000</td>\n",
       "      <td>0.0000</td>\n",
       "      <td>0.0000</td>\n",
       "      <td>...</td>\n",
       "      <td>0.0000</td>\n",
       "      <td>0.0000</td>\n",
       "      <td>0.0000</td>\n",
       "      <td>0.0000</td>\n",
       "      <td>0.0000</td>\n",
       "      <td>0.0000</td>\n",
       "      <td>0.0000</td>\n",
       "      <td>0.0000</td>\n",
       "      <td>0.0000</td>\n",
       "      <td>0.0000</td>\n",
       "    </tr>\n",
       "    <tr>\n",
       "      <th>1</th>\n",
       "      <td>NaN</td>\n",
       "      <td>100133144</td>\n",
       "      <td>8.7141</td>\n",
       "      <td>36.4493</td>\n",
       "      <td>11.8131</td>\n",
       "      <td>8.6116</td>\n",
       "      <td>0.000</td>\n",
       "      <td>5.3382</td>\n",
       "      <td>3.7845</td>\n",
       "      <td>8.3071</td>\n",
       "      <td>...</td>\n",
       "      <td>19.1299</td>\n",
       "      <td>12.5770</td>\n",
       "      <td>10.9796</td>\n",
       "      <td>7.8225</td>\n",
       "      <td>3.3371</td>\n",
       "      <td>5.4526</td>\n",
       "      <td>8.2616</td>\n",
       "      <td>11.5121</td>\n",
       "      <td>5.3895</td>\n",
       "      <td>9.9433</td>\n",
       "    </tr>\n",
       "    <tr>\n",
       "      <th>2</th>\n",
       "      <td>UBE2Q2P2</td>\n",
       "      <td>100134869</td>\n",
       "      <td>22.7523</td>\n",
       "      <td>21.1767</td>\n",
       "      <td>11.0242</td>\n",
       "      <td>5.0835</td>\n",
       "      <td>30.261</td>\n",
       "      <td>27.8886</td>\n",
       "      <td>8.7230</td>\n",
       "      <td>15.4466</td>\n",
       "      <td>...</td>\n",
       "      <td>21.9905</td>\n",
       "      <td>27.0125</td>\n",
       "      <td>14.2608</td>\n",
       "      <td>16.6975</td>\n",
       "      <td>10.2310</td>\n",
       "      <td>16.1890</td>\n",
       "      <td>19.7074</td>\n",
       "      <td>18.7291</td>\n",
       "      <td>8.9103</td>\n",
       "      <td>7.4480</td>\n",
       "    </tr>\n",
       "  </tbody>\n",
       "</table>\n",
       "<p>3 rows × 516 columns</p>\n",
       "</div>"
      ],
      "text/plain": [
       "  Hugo_Symbol  Entrez_Gene_Id  TCGA-CS-4938-01  TCGA-CS-4941-01  \\\n",
       "0         NaN       100130426           0.0000           0.0000   \n",
       "1         NaN       100133144           8.7141          36.4493   \n",
       "2    UBE2Q2P2       100134869          22.7523          21.1767   \n",
       "\n",
       "   TCGA-CS-4942-01  TCGA-CS-4943-01  TCGA-CS-4944-01  TCGA-CS-5390-01  \\\n",
       "0           0.0000           0.0000            0.000           0.0000   \n",
       "1          11.8131           8.6116            0.000           5.3382   \n",
       "2          11.0242           5.0835           30.261          27.8886   \n",
       "\n",
       "   TCGA-CS-5393-01  TCGA-CS-5394-01  ...  TCGA-VW-A8FI-01  TCGA-W9-A837-01  \\\n",
       "0           0.0000           0.0000  ...           0.0000           0.0000   \n",
       "1           3.7845           8.3071  ...          19.1299          12.5770   \n",
       "2           8.7230          15.4466  ...          21.9905          27.0125   \n",
       "\n",
       "   TCGA-WH-A86K-01  TCGA-WY-A858-01  TCGA-WY-A859-01  TCGA-WY-A85A-01  \\\n",
       "0           0.0000           0.0000           0.0000           0.0000   \n",
       "1          10.9796           7.8225           3.3371           5.4526   \n",
       "2          14.2608          16.6975          10.2310          16.1890   \n",
       "\n",
       "   TCGA-WY-A85B-01  TCGA-WY-A85C-01  TCGA-WY-A85D-01  TCGA-WY-A85E-01  \n",
       "0           0.0000           0.0000           0.0000           0.0000  \n",
       "1           8.2616          11.5121           5.3895           9.9433  \n",
       "2          19.7074          18.7291           8.9103           7.4480  \n",
       "\n",
       "[3 rows x 516 columns]"
      ]
     },
     "execution_count": 2,
     "metadata": {},
     "output_type": "execute_result"
    }
   ],
   "source": [
    "# read the gene expression data: \n",
    "raw_data_rna = pd.read_table(\"./data/data_mrna_seq_v2_rsem.txt\", sep=\"\\t\")\n",
    "raw_data_rna.head(3)"
   ]
  },
  {
   "cell_type": "code",
   "execution_count": 3,
   "metadata": {},
   "outputs": [
    {
     "name": "stdout",
     "output_type": "stream",
     "text": [
      "There are 0 genes has no ids\n",
      "we would use Entrez_Gene_Id as name of gene with a correponding dictionary table\n"
     ]
    },
    {
     "data": {
      "text/html": [
       "<div>\n",
       "<style scoped>\n",
       "    .dataframe tbody tr th:only-of-type {\n",
       "        vertical-align: middle;\n",
       "    }\n",
       "\n",
       "    .dataframe tbody tr th {\n",
       "        vertical-align: top;\n",
       "    }\n",
       "\n",
       "    .dataframe thead th {\n",
       "        text-align: right;\n",
       "    }\n",
       "</style>\n",
       "<table border=\"1\" class=\"dataframe\">\n",
       "  <thead>\n",
       "    <tr style=\"text-align: right;\">\n",
       "      <th></th>\n",
       "      <th>Hugo_Symbol</th>\n",
       "      <th>Entrez_Gene_Id</th>\n",
       "    </tr>\n",
       "  </thead>\n",
       "  <tbody>\n",
       "    <tr>\n",
       "      <th>20528</th>\n",
       "      <td>ZYX</td>\n",
       "      <td>7791</td>\n",
       "    </tr>\n",
       "    <tr>\n",
       "      <th>20529</th>\n",
       "      <td>ZZEF1</td>\n",
       "      <td>23140</td>\n",
       "    </tr>\n",
       "    <tr>\n",
       "      <th>20530</th>\n",
       "      <td>ZZZ3</td>\n",
       "      <td>26009</td>\n",
       "    </tr>\n",
       "  </tbody>\n",
       "</table>\n",
       "</div>"
      ],
      "text/plain": [
       "      Hugo_Symbol  Entrez_Gene_Id\n",
       "20528         ZYX            7791\n",
       "20529       ZZEF1           23140\n",
       "20530        ZZZ3           26009"
      ]
     },
     "execution_count": 3,
     "metadata": {},
     "output_type": "execute_result"
    }
   ],
   "source": [
    "# choosing Entrez_Gene_Id as column because: \n",
    "print(f\"There are {len(raw_data_rna[raw_data_rna.Entrez_Gene_Id.isna()])} genes has no ids\")\n",
    "print(\"we would use Entrez_Gene_Id as name of gene with a correponding dictionary table\")\n",
    "gene_symbol_id = raw_data_rna.iloc[:,:2].copy()\n",
    "gene_symbol_id.tail(3)"
   ]
  },
  {
   "cell_type": "code",
   "execution_count": 4,
   "metadata": {},
   "outputs": [
    {
     "name": "stdout",
     "output_type": "stream",
     "text": [
      "There are 514 samples in total, and there are 20531 genes in total.\n"
     ]
    }
   ],
   "source": [
    "# transpose the data and make the gene id as the column names: \n",
    "df_clean = raw_data_rna.set_index(\"Entrez_Gene_Id\").drop(\"Hugo_Symbol\", axis = 1).transpose()\n",
    "print(f\"There are {len(df_clean)} samples in total, and there are {len(df_clean.columns)} genes in total.\")"
   ]
  },
  {
   "cell_type": "code",
   "execution_count": 5,
   "metadata": {},
   "outputs": [
    {
     "name": "stdout",
     "output_type": "stream",
     "text": [
      "If there is NA values: False\n",
      "There are 307 columns with the same value.\n",
      "[136542, 317712, 728045, 728036, 255313, 728096, 728062, 653282, 728042, 57135]...\n"
     ]
    }
   ],
   "source": [
    "# check the quality of the data: \n",
    "# 1) if there is any NA data\n",
    "print(f\"If there is NA values: {df_clean.isnull().values.any()}\")\n",
    "\n",
    "# 2) if there are columns with all the same value\n",
    "unique_counts = df_clean.nunique()\n",
    "same_value_cols = unique_counts[unique_counts == 1].index.tolist()\n",
    "print(f\"There are {len(same_value_cols)} columns with the same value.\")\n",
    "print(f\"{same_value_cols[0:10]}...\")"
   ]
  },
  {
   "cell_type": "code",
   "execution_count": 6,
   "metadata": {},
   "outputs": [],
   "source": [
    "# thus, we need to drop all of same_value_cols: \n",
    "df_clean_1 = df_clean.drop(same_value_cols, axis = 1)"
   ]
  },
  {
   "cell_type": "markdown",
   "metadata": {},
   "source": [
    "## Clinical Patient Data Preprocessing"
   ]
  },
  {
   "cell_type": "code",
   "execution_count": 8,
   "metadata": {},
   "outputs": [],
   "source": [
    "## read patient data and preprocessing...\n",
    "raw_data_sample = pd.read_table(\"./data/data_clinical_sample.txt\", sep=\"\\t\")\n",
    "df_sample2 = pd.read_table(\"./supplement_data/Clinical_Data.tsv\", sep=\"\\t\")\n",
    "raw_data_sample.columns = raw_data_sample.iloc[3,:]\n",
    "raw_data_sample = raw_data_sample.drop([0,1,2,3], axis = 0)\n",
    "df_patient = raw_data_sample.reset_index().drop([\"index\"], axis = 1)\n",
    "df_full = df_patient.merge(df_sample2, left_on = \"PATIENT_ID\", right_on = \"Patient ID\", how = \"left\")\n",
    "df_full_1 = df_full.drop(['Patient ID', 'Sample ID','Cancer Type Detailed','Tumor Type', 'Aneuploidy Score'], axis = 1)"
   ]
  },
  {
   "cell_type": "markdown",
   "metadata": {},
   "source": [
    "## Creating anndata with sample as its obs:"
   ]
  },
  {
   "cell_type": "code",
   "execution_count": 9,
   "metadata": {},
   "outputs": [],
   "source": [
    "df_sample_with_gene = df_clean_1.merge(df_full_1, left_index=True, right_on = \"SAMPLE_ID\")\n",
    "X = df_sample_with_gene.iloc[:,0:-30].copy()\n",
    "X = X.set_index(\"PATIENT_ID\")\n",
    "obs = df_sample_with_gene.iloc[:,-31:].copy()\n",
    "obs = obs.set_index(\"PATIENT_ID\")\n",
    "adata_sample = sc.AnnData(X, obs = obs)"
   ]
  },
  {
   "cell_type": "code",
   "execution_count": 10,
   "metadata": {},
   "outputs": [],
   "source": [
    "X = df_sample_with_gene.iloc[:,0:-30].copy()\n",
    "X = X.set_index(\"PATIENT_ID\")\n",
    "obs = df_sample_with_gene.iloc[:,-31:].copy()\n",
    "obs = obs.set_index(\"PATIENT_ID\")\n",
    "adata_sample = sc.AnnData(X, obs = obs)"
   ]
  },
  {
   "cell_type": "markdown",
   "metadata": {},
   "source": [
    "## TCGA researchers learned about lower grade glioma?\n",
    "\n",
    "Reference: https://www.cancer.gov/about-nci/organization/ccg/research/structural-genomics/tcga/studied-cancers/glioma\n",
    "\n",
    "Mutations and chromosomal alterations define three lower grade glioma subtypes with distinct clinical outcomes: \n",
    "\n",
    "1. IDH mutant and 1p/19q co-deletion:\n",
    "\n",
    "* The 1p/19q abnormality consists of deletion of a short arm of chromosome 1 and longer arm of chromosome 19.\n",
    "\n",
    "* Mutations in IDH1 and IDH2, isocitrate dehydrogenases, lead to abnormal enzyme activity, hypermethylation, and deviant gene expression.\n",
    "\n",
    "* This subtype is associated with the most favorable prognosis.\n",
    "\n",
    "2. IDH mutant without 1p/19q co-deletion, associated with intermediate prognosis\n",
    "\n",
    "\n",
    "\n",
    "3. IDH wild-type, associated with the poorest outcomes\n",
    "\n",
    "IDH wild-type subtype shares genomic markers and similar clinical outcomes with glioblastomas, indicating that this subtype of lower grade glioma may be a precursor to the more aggressive counterpart.\n",
    "\n",
    "\n",
    "Molecular signatures and subtypes may inform the classification, diagnosis, and treatment of lower grade gliomas:\n",
    "\n",
    "* Lower grade gliomas without IDH mutations may benefit from treatment with protocols adapted from current glioblastoma treatments.\n",
    "\n",
    "* Recently developed therapies may target the aberrant activity of IDH1/2 proteins in lower grade glioma.\n"
   ]
  },
  {
   "cell_type": "code",
   "execution_count": 11,
   "metadata": {},
   "outputs": [
    {
     "data": {
      "text/html": [
       "<div>\n",
       "<style scoped>\n",
       "    .dataframe tbody tr th:only-of-type {\n",
       "        vertical-align: middle;\n",
       "    }\n",
       "\n",
       "    .dataframe tbody tr th {\n",
       "        vertical-align: top;\n",
       "    }\n",
       "\n",
       "    .dataframe thead th {\n",
       "        text-align: right;\n",
       "    }\n",
       "</style>\n",
       "<table border=\"1\" class=\"dataframe\">\n",
       "  <thead>\n",
       "    <tr style=\"text-align: right;\">\n",
       "      <th></th>\n",
       "      <th>Hugo_Symbol</th>\n",
       "      <th>Entrez_Gene_Id</th>\n",
       "    </tr>\n",
       "  </thead>\n",
       "  <tbody>\n",
       "    <tr>\n",
       "      <th>8233</th>\n",
       "      <td>IDH1</td>\n",
       "      <td>3417</td>\n",
       "    </tr>\n",
       "    <tr>\n",
       "      <th>8234</th>\n",
       "      <td>IDH2</td>\n",
       "      <td>3418</td>\n",
       "    </tr>\n",
       "  </tbody>\n",
       "</table>\n",
       "</div>"
      ],
      "text/plain": [
       "     Hugo_Symbol  Entrez_Gene_Id\n",
       "8233        IDH1            3417\n",
       "8234        IDH2            3418"
      ]
     },
     "execution_count": 11,
     "metadata": {},
     "output_type": "execute_result"
    }
   ],
   "source": [
    "gene_symbol_id.loc[(gene_symbol_id.Hugo_Symbol == \"IDH1\") | (gene_symbol_id.Hugo_Symbol == \"IDH2\")]"
   ]
  },
  {
   "cell_type": "markdown",
   "metadata": {},
   "source": [
    "## Association between glioma subtype and gene expression? \n",
    "\n",
    "**Summary:**  \n",
    "\n",
    "According to following models, we found that gene expression level would have highly correlation with the subtype of Brain Lower Grade Glioma. We could predict the subtype of BLGG based on the level of expression. "
   ]
  },
  {
   "cell_type": "code",
   "execution_count": 12,
   "metadata": {},
   "outputs": [],
   "source": [
    "# preprocessing the data: encode, drop nan, scale? \n",
    "X= pd.DataFrame(adata_sample.X)\n",
    "X.columns = adata_sample.var_names\n",
    "X.index = adata_sample.obs.index\n",
    "y = adata_sample.obs['Subtype']\n",
    "df = pd.concat([X,y], axis = 1)"
   ]
  },
  {
   "cell_type": "code",
   "execution_count": 13,
   "metadata": {},
   "outputs": [],
   "source": [
    "df_drop = df.drop(df[df.Subtype.isnull()].index, axis = 0)"
   ]
  },
  {
   "cell_type": "code",
   "execution_count": 14,
   "metadata": {},
   "outputs": [],
   "source": [
    "# assign features, target and encoding...\n",
    "y = df_drop[\"Subtype\"]\n",
    "X= df_drop.drop(\"Subtype\", axis = 1)\n",
    "\n",
    "y = y.map({\"LGG_IDHmut-non-codel\":0, \"LGG_IDHwt\":1, \"LGG_IDHmut-codel\":2})"
   ]
  },
  {
   "cell_type": "code",
   "execution_count": 15,
   "metadata": {},
   "outputs": [],
   "source": [
    "from sklearn.model_selection import train_test_split\n",
    "X_train,X_test, y_train, y_test = train_test_split(X,y,random_state = 42)"
   ]
  },
  {
   "cell_type": "code",
   "execution_count": 16,
   "metadata": {},
   "outputs": [
    {
     "name": "stdout",
     "output_type": "stream",
     "text": [
      "There are totally 127 samples in test set.\n"
     ]
    }
   ],
   "source": [
    "print(f\"There are totally {len(X_test)} samples in test set.\")"
   ]
  },
  {
   "cell_type": "code",
   "execution_count": 17,
   "metadata": {},
   "outputs": [
    {
     "name": "stdout",
     "output_type": "stream",
     "text": [
      "The training set accuracy score: 1.0\n",
      "The test set accuracy score: 0.984251968503937\n"
     ]
    }
   ],
   "source": [
    "# using random forest classifier as the predicting model: \n",
    "from sklearn.ensemble import RandomForestClassifier \n",
    "rf = RandomForestClassifier(warm_start = True, n_estimators = 100)\n",
    "rf.fit(X_train,y_train)\n",
    "print(f\"The training set accuracy score: {rf.score(X_train,y_train)}\")\n",
    "print(f\"The test set accuracy score: {rf.score(X_test,y_test)}\")"
   ]
  },
  {
   "cell_type": "code",
   "execution_count": 18,
   "metadata": {},
   "outputs": [
    {
     "name": "stdout",
     "output_type": "stream",
     "text": [
      "              precision    recall  f1-score   support\n",
      "\n",
      "           0       0.97      1.00      0.98        64\n",
      "           1       1.00      0.95      0.98        21\n",
      "           2       1.00      0.98      0.99        42\n",
      "\n",
      "    accuracy                           0.98       127\n",
      "   macro avg       0.99      0.98      0.98       127\n",
      "weighted avg       0.98      0.98      0.98       127\n",
      "\n"
     ]
    }
   ],
   "source": [
    "# F1-score, precision & recall \n",
    "y_pred = rf.predict(X_test)\n",
    "from sklearn.metrics import classification_report\n",
    "print(classification_report(y_test,y_pred))"
   ]
  },
  {
   "cell_type": "code",
   "execution_count": 19,
   "metadata": {},
   "outputs": [
    {
     "data": {
      "image/png": "[encoded data removed]",
      "text/plain": [
       "<Figure size 432x288 with 2 Axes>"
      ]
     },
     "metadata": {
      "needs_background": "light"
     },
     "output_type": "display_data"
    }
   ],
   "source": [
    "# confusion matrix \n",
    "from sklearn.metrics import confusion_matrix, plot_confusion_matrix\n",
    "class_names = [\"LGG_IDHmut-non-codel\", \"LGG_IDHwt\", \"LGG_IDHmut-codel\"]\n",
    "disp = plot_confusion_matrix(rf, X_test, y_test, display_labels=class_names, cmap=plt.cm.Blues, xticks_rotation='vertical')"
   ]
  },
  {
   "cell_type": "code",
   "execution_count": 37,
   "metadata": {},
   "outputs": [
    {
     "data": {
      "image/png": "[encoded data removed]",
      "text/plain": [
       "<Figure size 576x684 with 1 Axes>"
      ]
     },
     "metadata": {
      "needs_background": "light"
     },
     "output_type": "display_data"
    }
   ],
   "source": [
    "# feature importance inspection \n",
    "import shap \n",
    "explainer = shap.TreeExplainer(rf)\n",
    "shap_values = explainer.shap_values(X)\n",
    "\n",
    "# get the table for feature_importance\n",
    "vals= np.abs(shap_values).mean(0)\n",
    "feature_importance = pd.DataFrame(list(zip(X.columns, sum(vals))), columns=['gene_id','feature_importance_vals'])\n",
    "feature_importance.sort_values(by=['feature_importance_vals'], ascending=False,inplace=True)\n",
    "feature_importance = feature_importance.reset_index(drop=True)\n",
    "\n",
    "# the plot for the data\n",
    "class_names = [\"LGG_IDHmut-non-codel\", \"LGG_IDHwt\", \"LGG_IDHmut-codel\"]\n",
    "shap.summary_plot(shap_values, X.values, plot_type=\"bar\", class_names= class_names, feature_names = X.columns)"
   ]
  },
  {
   "cell_type": "code",
   "execution_count": 45,
   "metadata": {},
   "outputs": [
    {
     "name": "stdout",
     "output_type": "stream",
     "text": [
      "!!!there are totally 1281 genes that at least has some importance.\n"
     ]
    }
   ],
   "source": [
    "feature_importance_nonzero = feature_importance.loc[feature_importance.feature_importance_vals >0]\n",
    "print(f\"!!!there are totally {len(feature_importance_nonzero)} genes that at least has some importance.\")"
   ]
  },
  {
   "cell_type": "code",
   "execution_count": 46,
   "metadata": {},
   "outputs": [
    {
     "data": {
      "text/html": [
       "<div>\n",
       "<style scoped>\n",
       "    .dataframe tbody tr th:only-of-type {\n",
       "        vertical-align: middle;\n",
       "    }\n",
       "\n",
       "    .dataframe tbody tr th {\n",
       "        vertical-align: top;\n",
       "    }\n",
       "\n",
       "    .dataframe thead th {\n",
       "        text-align: right;\n",
       "    }\n",
       "</style>\n",
       "<table border=\"1\" class=\"dataframe\">\n",
       "  <thead>\n",
       "    <tr style=\"text-align: right;\">\n",
       "      <th></th>\n",
       "      <th>gene_id</th>\n",
       "      <th>feature_importance_vals</th>\n",
       "    </tr>\n",
       "  </thead>\n",
       "  <tbody>\n",
       "    <tr>\n",
       "      <th>0</th>\n",
       "      <td>54455</td>\n",
       "      <td>5.604151</td>\n",
       "    </tr>\n",
       "    <tr>\n",
       "      <th>1</th>\n",
       "      <td>200081</td>\n",
       "      <td>3.102923</td>\n",
       "    </tr>\n",
       "    <tr>\n",
       "      <th>2</th>\n",
       "      <td>4898</td>\n",
       "      <td>2.809718</td>\n",
       "    </tr>\n",
       "    <tr>\n",
       "      <th>3</th>\n",
       "      <td>10054</td>\n",
       "      <td>2.667735</td>\n",
       "    </tr>\n",
       "    <tr>\n",
       "      <th>4</th>\n",
       "      <td>9967</td>\n",
       "      <td>2.328164</td>\n",
       "    </tr>\n",
       "    <tr>\n",
       "      <th>...</th>\n",
       "      <td>...</td>\n",
       "      <td>...</td>\n",
       "    </tr>\n",
       "    <tr>\n",
       "      <th>1276</th>\n",
       "      <td>56892</td>\n",
       "      <td>0.010324</td>\n",
       "    </tr>\n",
       "    <tr>\n",
       "      <th>1277</th>\n",
       "      <td>56269</td>\n",
       "      <td>0.008618</td>\n",
       "    </tr>\n",
       "    <tr>\n",
       "      <th>1278</th>\n",
       "      <td>85452</td>\n",
       "      <td>0.008527</td>\n",
       "    </tr>\n",
       "    <tr>\n",
       "      <th>1279</th>\n",
       "      <td>2030</td>\n",
       "      <td>0.008491</td>\n",
       "    </tr>\n",
       "    <tr>\n",
       "      <th>1280</th>\n",
       "      <td>342132</td>\n",
       "      <td>0.007939</td>\n",
       "    </tr>\n",
       "  </tbody>\n",
       "</table>\n",
       "<p>1281 rows × 2 columns</p>\n",
       "</div>"
      ],
      "text/plain": [
       "      gene_id  feature_importance_vals\n",
       "0       54455                 5.604151\n",
       "1      200081                 3.102923\n",
       "2        4898                 2.809718\n",
       "3       10054                 2.667735\n",
       "4        9967                 2.328164\n",
       "...       ...                      ...\n",
       "1276    56892                 0.010324\n",
       "1277    56269                 0.008618\n",
       "1278    85452                 0.008527\n",
       "1279     2030                 0.008491\n",
       "1280   342132                 0.007939\n",
       "\n",
       "[1281 rows x 2 columns]"
      ]
     },
     "execution_count": 46,
     "metadata": {},
     "output_type": "execute_result"
    }
   ],
   "source": [
    "feature_importance_nonzero"
   ]
  },
  {
   "cell_type": "markdown",
   "metadata": {},
   "source": [
    "## Due to every model would give different top rank genes, so I draw 50 times find the average ranking with low variance and high mentioned numbers:"
   ]
  },
  {
   "cell_type": "code",
   "execution_count": 48,
   "metadata": {},
   "outputs": [],
   "source": [
    "def drawing():\n",
    "    rf = RandomForestClassifier(warm_start = True, n_estimators = 100)\n",
    "    rf.fit(X_train,y_train)\n",
    "    # print(f\"The training set accuracy score: {rf.score(X_train,y_train)}\")\n",
    "    # print(f\"The test set accuracy score: {rf.score(X_test,y_test)}\")\n",
    "    explainer = shap.TreeExplainer(rf)\n",
    "    shap_values = explainer.shap_values(X)\n",
    "\n",
    "    # get the table for feature_importance\n",
    "    vals= np.abs(shap_values).mean(0)\n",
    "    feature_importance = pd.DataFrame(list(zip(X.columns, sum(vals))), columns=['gene_id','feature_importance_vals'])\n",
    "    feature_importance.sort_values(by=['feature_importance_vals'], ascending=False,inplace=True)\n",
    "    feature_importance = feature_importance.reset_index(drop=True)\n",
    "    feature_importance_nonzero = feature_importance.loc[feature_importance.feature_importance_vals >0]\n",
    "    return len(feature_importance_nonzero), feature_importance_nonzero.gene_id\n",
    "\n",
    "nums = []\n",
    "gene_important_draws = []\n",
    "for e in range(50):\n",
    "    num, gene_important = drawing()\n",
    "    nums.append(num)\n",
    "    gene_important_draws.append(gene_important)"
   ]
  },
  {
   "cell_type": "code",
   "execution_count": 59,
   "metadata": {},
   "outputs": [],
   "source": [
    "gene_importance_mention_times = {}\n",
    "\n",
    "for i in range(len(gene_important_draws)):\n",
    "    for j in range(len(gene_important_draws[i])):\n",
    "        if gene_important_draws[i][j] in gene_importance_mention_times:\n",
    "            gene_importance_mention_times[gene_important_draws[i][j]] +=1\n",
    "        else:\n",
    "            gene_importance_mention_times[gene_important_draws[i][j]] = 1"
   ]
  },
  {
   "cell_type": "code",
   "execution_count": 84,
   "metadata": {},
   "outputs": [
    {
     "data": {
      "text/html": [
       "<div>\n",
       "<style scoped>\n",
       "    .dataframe tbody tr th:only-of-type {\n",
       "        vertical-align: middle;\n",
       "    }\n",
       "\n",
       "    .dataframe tbody tr th {\n",
       "        vertical-align: top;\n",
       "    }\n",
       "\n",
       "    .dataframe thead th {\n",
       "        text-align: right;\n",
       "    }\n",
       "</style>\n",
       "<table border=\"1\" class=\"dataframe\">\n",
       "  <thead>\n",
       "    <tr style=\"text-align: right;\">\n",
       "      <th></th>\n",
       "      <th>gene_id</th>\n",
       "      <th>times</th>\n",
       "      <th>occur_ratio</th>\n",
       "    </tr>\n",
       "  </thead>\n",
       "  <tbody>\n",
       "    <tr>\n",
       "      <th>0</th>\n",
       "      <td>5690</td>\n",
       "      <td>49</td>\n",
       "      <td>0.98</td>\n",
       "    </tr>\n",
       "    <tr>\n",
       "      <th>1</th>\n",
       "      <td>55113</td>\n",
       "      <td>47</td>\n",
       "      <td>0.94</td>\n",
       "    </tr>\n",
       "    <tr>\n",
       "      <th>2</th>\n",
       "      <td>362</td>\n",
       "      <td>47</td>\n",
       "      <td>0.94</td>\n",
       "    </tr>\n",
       "    <tr>\n",
       "      <th>3</th>\n",
       "      <td>10054</td>\n",
       "      <td>47</td>\n",
       "      <td>0.94</td>\n",
       "    </tr>\n",
       "    <tr>\n",
       "      <th>4</th>\n",
       "      <td>115353</td>\n",
       "      <td>47</td>\n",
       "      <td>0.94</td>\n",
       "    </tr>\n",
       "    <tr>\n",
       "      <th>...</th>\n",
       "      <td>...</td>\n",
       "      <td>...</td>\n",
       "      <td>...</td>\n",
       "    </tr>\n",
       "    <tr>\n",
       "      <th>1078</th>\n",
       "      <td>27254</td>\n",
       "      <td>10</td>\n",
       "      <td>0.20</td>\n",
       "    </tr>\n",
       "    <tr>\n",
       "      <th>1079</th>\n",
       "      <td>2678</td>\n",
       "      <td>10</td>\n",
       "      <td>0.20</td>\n",
       "    </tr>\n",
       "    <tr>\n",
       "      <th>1080</th>\n",
       "      <td>118490</td>\n",
       "      <td>10</td>\n",
       "      <td>0.20</td>\n",
       "    </tr>\n",
       "    <tr>\n",
       "      <th>1081</th>\n",
       "      <td>2150</td>\n",
       "      <td>10</td>\n",
       "      <td>0.20</td>\n",
       "    </tr>\n",
       "    <tr>\n",
       "      <th>1082</th>\n",
       "      <td>8464</td>\n",
       "      <td>10</td>\n",
       "      <td>0.20</td>\n",
       "    </tr>\n",
       "  </tbody>\n",
       "</table>\n",
       "<p>1083 rows × 3 columns</p>\n",
       "</div>"
      ],
      "text/plain": [
       "      gene_id  times  occur_ratio\n",
       "0        5690     49         0.98\n",
       "1       55113     47         0.94\n",
       "2         362     47         0.94\n",
       "3       10054     47         0.94\n",
       "4      115353     47         0.94\n",
       "...       ...    ...          ...\n",
       "1078    27254     10         0.20\n",
       "1079     2678     10         0.20\n",
       "1080   118490     10         0.20\n",
       "1081     2150     10         0.20\n",
       "1082     8464     10         0.20\n",
       "\n",
       "[1083 rows x 3 columns]"
      ]
     },
     "execution_count": 84,
     "metadata": {},
     "output_type": "execute_result"
    }
   ],
   "source": [
    "df_gene_important = pd.DataFrame(gene_importance_mention_times.items())\n",
    "df_gene_important.columns = [\"gene_id\", \"times\"]\n",
    "df_gene_important = df_gene_important.sort_values(\"times\", ascending =False)\n",
    "df_gene_important[\"occur_ratio\"] = df_gene_important[\"times\"]/50\n",
    "df_gene_important_more = df_gene_important[df_gene_important[\"occur_ratio\"]>=0.20]\n",
    "df_gene_important_more = df_gene_important_more.reset_index(drop = True)\n",
    "df_gene_important_more"
   ]
  },
  {
   "cell_type": "code",
   "execution_count": 95,
   "metadata": {},
   "outputs": [
    {
     "data": {
      "text/html": [
       "<div>\n",
       "<style scoped>\n",
       "    .dataframe tbody tr th:only-of-type {\n",
       "        vertical-align: middle;\n",
       "    }\n",
       "\n",
       "    .dataframe tbody tr th {\n",
       "        vertical-align: top;\n",
       "    }\n",
       "\n",
       "    .dataframe thead th {\n",
       "        text-align: right;\n",
       "    }\n",
       "</style>\n",
       "<table border=\"1\" class=\"dataframe\">\n",
       "  <thead>\n",
       "    <tr style=\"text-align: right;\">\n",
       "      <th></th>\n",
       "      <th>gene_id</th>\n",
       "      <th>times</th>\n",
       "      <th>occur_ratio</th>\n",
       "      <th>NCBI GeneID</th>\n",
       "      <th>Symbol</th>\n",
       "      <th>Description</th>\n",
       "      <th>Taxonomic Name</th>\n",
       "      <th>Gene Type</th>\n",
       "      <th>Gene Group Identifier</th>\n",
       "      <th>Gene Group Method</th>\n",
       "    </tr>\n",
       "  </thead>\n",
       "  <tbody>\n",
       "    <tr>\n",
       "      <th>0</th>\n",
       "      <td>5690</td>\n",
       "      <td>49</td>\n",
       "      <td>0.98</td>\n",
       "      <td>5690.0</td>\n",
       "      <td>PSMB2</td>\n",
       "      <td>proteasome 20S subunit beta 2</td>\n",
       "      <td>Homo sapiens</td>\n",
       "      <td>PROTEIN_CODING</td>\n",
       "      <td>5690.0</td>\n",
       "      <td>NCBI Ortholog</td>\n",
       "    </tr>\n",
       "    <tr>\n",
       "      <th>1</th>\n",
       "      <td>55113</td>\n",
       "      <td>47</td>\n",
       "      <td>0.94</td>\n",
       "      <td>55113.0</td>\n",
       "      <td>XKR8</td>\n",
       "      <td>XK related 8</td>\n",
       "      <td>Homo sapiens</td>\n",
       "      <td>PROTEIN_CODING</td>\n",
       "      <td>55113.0</td>\n",
       "      <td>NCBI Ortholog</td>\n",
       "    </tr>\n",
       "    <tr>\n",
       "      <th>2</th>\n",
       "      <td>362</td>\n",
       "      <td>47</td>\n",
       "      <td>0.94</td>\n",
       "      <td>362.0</td>\n",
       "      <td>AQP5</td>\n",
       "      <td>aquaporin 5</td>\n",
       "      <td>Homo sapiens</td>\n",
       "      <td>PROTEIN_CODING</td>\n",
       "      <td>362.0</td>\n",
       "      <td>NCBI Ortholog</td>\n",
       "    </tr>\n",
       "    <tr>\n",
       "      <th>3</th>\n",
       "      <td>10054</td>\n",
       "      <td>47</td>\n",
       "      <td>0.94</td>\n",
       "      <td>10054.0</td>\n",
       "      <td>UBA2</td>\n",
       "      <td>ubiquitin like modifier activating enzyme 2</td>\n",
       "      <td>Homo sapiens</td>\n",
       "      <td>PROTEIN_CODING</td>\n",
       "      <td>10054.0</td>\n",
       "      <td>NCBI Ortholog</td>\n",
       "    </tr>\n",
       "    <tr>\n",
       "      <th>4</th>\n",
       "      <td>115353</td>\n",
       "      <td>47</td>\n",
       "      <td>0.94</td>\n",
       "      <td>115353.0</td>\n",
       "      <td>LRRC42</td>\n",
       "      <td>leucine rich repeat containing 42</td>\n",
       "      <td>Homo sapiens</td>\n",
       "      <td>PROTEIN_CODING</td>\n",
       "      <td>115353.0</td>\n",
       "      <td>NCBI Ortholog</td>\n",
       "    </tr>\n",
       "    <tr>\n",
       "      <th>5</th>\n",
       "      <td>57212</td>\n",
       "      <td>47</td>\n",
       "      <td>0.94</td>\n",
       "      <td>57212.0</td>\n",
       "      <td>TP73-AS1</td>\n",
       "      <td>TP73 antisense RNA 1</td>\n",
       "      <td>Homo sapiens</td>\n",
       "      <td>ncRNA</td>\n",
       "      <td>57212.0</td>\n",
       "      <td>NCBI Ortholog</td>\n",
       "    </tr>\n",
       "    <tr>\n",
       "      <th>6</th>\n",
       "      <td>54455</td>\n",
       "      <td>46</td>\n",
       "      <td>0.92</td>\n",
       "      <td>54455.0</td>\n",
       "      <td>FBXO42</td>\n",
       "      <td>F-box protein 42</td>\n",
       "      <td>Homo sapiens</td>\n",
       "      <td>PROTEIN_CODING</td>\n",
       "      <td>54455.0</td>\n",
       "      <td>NCBI Ortholog</td>\n",
       "    </tr>\n",
       "    <tr>\n",
       "      <th>7</th>\n",
       "      <td>7268</td>\n",
       "      <td>46</td>\n",
       "      <td>0.92</td>\n",
       "      <td>7268.0</td>\n",
       "      <td>TTC4</td>\n",
       "      <td>tetratricopeptide repeat domain 4</td>\n",
       "      <td>Homo sapiens</td>\n",
       "      <td>PROTEIN_CODING</td>\n",
       "      <td>7268.0</td>\n",
       "      <td>NCBI Ortholog</td>\n",
       "    </tr>\n",
       "    <tr>\n",
       "      <th>8</th>\n",
       "      <td>832</td>\n",
       "      <td>45</td>\n",
       "      <td>0.90</td>\n",
       "      <td>832.0</td>\n",
       "      <td>CAPZB</td>\n",
       "      <td>capping actin protein of muscle Z-line subunit...</td>\n",
       "      <td>Homo sapiens</td>\n",
       "      <td>PROTEIN_CODING</td>\n",
       "      <td>832.0</td>\n",
       "      <td>NCBI Ortholog</td>\n",
       "    </tr>\n",
       "    <tr>\n",
       "      <th>9</th>\n",
       "      <td>4007</td>\n",
       "      <td>45</td>\n",
       "      <td>0.90</td>\n",
       "      <td>4007.0</td>\n",
       "      <td>PRICKLE3</td>\n",
       "      <td>prickle planar cell polarity protein 3</td>\n",
       "      <td>Homo sapiens</td>\n",
       "      <td>PROTEIN_CODING</td>\n",
       "      <td>4007.0</td>\n",
       "      <td>NCBI Ortholog</td>\n",
       "    </tr>\n",
       "  </tbody>\n",
       "</table>\n",
       "</div>"
      ],
      "text/plain": [
       "   gene_id  times  occur_ratio  NCBI GeneID    Symbol  \\\n",
       "0     5690     49         0.98       5690.0     PSMB2   \n",
       "1    55113     47         0.94      55113.0      XKR8   \n",
       "2      362     47         0.94        362.0      AQP5   \n",
       "3    10054     47         0.94      10054.0      UBA2   \n",
       "4   115353     47         0.94     115353.0    LRRC42   \n",
       "5    57212     47         0.94      57212.0  TP73-AS1   \n",
       "6    54455     46         0.92      54455.0    FBXO42   \n",
       "7     7268     46         0.92       7268.0      TTC4   \n",
       "8      832     45         0.90        832.0     CAPZB   \n",
       "9     4007     45         0.90       4007.0  PRICKLE3   \n",
       "\n",
       "                                         Description Taxonomic Name  \\\n",
       "0                      proteasome 20S subunit beta 2   Homo sapiens   \n",
       "1                                       XK related 8   Homo sapiens   \n",
       "2                                        aquaporin 5   Homo sapiens   \n",
       "3        ubiquitin like modifier activating enzyme 2   Homo sapiens   \n",
       "4                  leucine rich repeat containing 42   Homo sapiens   \n",
       "5                               TP73 antisense RNA 1   Homo sapiens   \n",
       "6                                   F-box protein 42   Homo sapiens   \n",
       "7                  tetratricopeptide repeat domain 4   Homo sapiens   \n",
       "8  capping actin protein of muscle Z-line subunit...   Homo sapiens   \n",
       "9             prickle planar cell polarity protein 3   Homo sapiens   \n",
       "\n",
       "        Gene Type  Gene Group Identifier Gene Group Method  \n",
       "0  PROTEIN_CODING                 5690.0     NCBI Ortholog  \n",
       "1  PROTEIN_CODING                55113.0     NCBI Ortholog  \n",
       "2  PROTEIN_CODING                  362.0     NCBI Ortholog  \n",
       "3  PROTEIN_CODING                10054.0     NCBI Ortholog  \n",
       "4  PROTEIN_CODING               115353.0     NCBI Ortholog  \n",
       "5           ncRNA                57212.0     NCBI Ortholog  \n",
       "6  PROTEIN_CODING                54455.0     NCBI Ortholog  \n",
       "7  PROTEIN_CODING                 7268.0     NCBI Ortholog  \n",
       "8  PROTEIN_CODING                  832.0     NCBI Ortholog  \n",
       "9  PROTEIN_CODING                 4007.0     NCBI Ortholog  "
      ]
     },
     "execution_count": 95,
     "metadata": {},
     "output_type": "execute_result"
    }
   ],
   "source": [
    "df_gene_reference = pd.read_table(\"./supplement_data/gene_table.tsv\")\n",
    "df_important_gene_description = df_gene_important_more.merge(df_gene_reference, how = \"left\", left_on = \"gene_id\", right_on = \"NCBI GeneID\")\n",
    "\n",
    "# here is the table with the description:\n",
    "df_important_gene_description.head(10)"
   ]
  },
  {
   "cell_type": "code",
   "execution_count": 93,
   "metadata": {},
   "outputs": [
    {
     "data": {
      "text/plain": [
       "Gene Type\n",
       "PROTEIN_CODING    1037\n",
       "PSEUDO              17\n",
       "ncRNA               27\n",
       "Name: gene_id, dtype: int64"
      ]
     },
     "execution_count": 93,
     "metadata": {},
     "output_type": "execute_result"
    }
   ],
   "source": [
    "df_important_gene_description.groupby(\"Gene Type\").gene_id.count()"
   ]
  },
  {
   "cell_type": "markdown",
   "metadata": {},
   "source": [
    "## Then what if we using left unimportant genes as features to do the prediction? "
   ]
  },
  {
   "cell_type": "code",
   "execution_count": 107,
   "metadata": {},
   "outputs": [
    {
     "name": "stdout",
     "output_type": "stream",
     "text": [
      "The training set accuracy score: 1.0\n",
      "The test set accuracy score: 0.9763779527559056\n"
     ]
    }
   ],
   "source": [
    "non_important_genes = set(X.columns).difference(set(df_important_gene_description.gene_id))\n",
    "\n",
    "X_non = X[non_important_genes]\n",
    "from sklearn.model_selection import train_test_split\n",
    "X_train,X_test, y_train, y_test = train_test_split(X_non,y,random_state = 42)\n",
    "rf = RandomForestClassifier(warm_start = True, n_estimators = 100)\n",
    "rf.fit(X_train,y_train)\n",
    "print(f\"The training set accuracy score: {rf.score(X_train,y_train)}\")\n",
    "print(f\"The test set accuracy score: {rf.score(X_test,y_test)}\")\n",
    "# it still have very high accuracy score, so I think we might could not looking at gene one by one, we might need to \n",
    "# cluster them or assign them into different groups. "
   ]
  },
  {
   "cell_type": "markdown",
   "metadata": {},
   "source": [
    "**Notice**: It still have very high accuracy score. If there is no data leakage here, I think we might could not look at gene one by one, we might need to cluster them or assign them into different groups."
   ]
  },
  {
   "cell_type": "markdown",
   "metadata": {},
   "source": [
    "## Method 1: NMF"
   ]
  },
  {
   "cell_type": "code",
   "execution_count": null,
   "metadata": {},
   "outputs": [],
   "source": [
    "## see another notebook: \n",
    "## Main idea: could only use non-negative data, but with different level, so could I use max - min scale? "
   ]
  },
  {
   "cell_type": "markdown",
   "metadata": {},
   "source": [
    "## Method 2: Correlation Matrix - removing correlated genes"
   ]
  },
  {
   "cell_type": "code",
   "execution_count": null,
   "metadata": {},
   "outputs": [],
   "source": [
    "# remove the correlated genes and assign highly correlated gene into same group. "
   ]
  },
  {
   "cell_type": "markdown",
   "metadata": {},
   "source": [
    "## Method 3: using NLP to cluster genes according to its description, GO terms, and then use clusters as features"
   ]
  },
  {
   "cell_type": "code",
   "execution_count": null,
   "metadata": {},
   "outputs": [],
   "source": [
    "# Paper - r12 methods. "
   ]
  },
  {
   "cell_type": "code",
   "execution_count": null,
   "metadata": {},
   "outputs": [],
   "source": []
  }
 ],
 "metadata": {
  "kernelspec": {
   "display_name": "Python 3",
   "language": "python",
   "name": "python3"
  },
  "language_info": {
   "codemirror_mode": {
    "name": "ipython",
    "version": 3
   },
   "file_extension": ".py",
   "mimetype": "text/x-python",
   "name": "python",
   "nbconvert_exporter": "python",
   "pygments_lexer": "ipython3",
   "version": "3.8.5"
  }
 },
 "nbformat": 4,
 "nbformat_minor": 4
}
